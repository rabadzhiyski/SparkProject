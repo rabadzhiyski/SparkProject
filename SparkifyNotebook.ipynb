{
 "cells": [
  {
   "cell_type": "markdown",
   "metadata": {},
   "source": [
    "# Sparkify Project Workspace\n",
    "This workspace contains a tiny subset (128MB) of the full dataset available (12GB). Feel free to use this workspace to build your project, or to explore a smaller subset with Spark before deploying your cluster on the cloud. Instructions for setting up your Spark cluster is included in the last lesson of the Extracurricular Spark Course content.\n",
    "\n",
    "You can follow the steps below to guide your data analysis and model building portion of this project.\n",
    "\n",
    "### Metrics to consider:\n",
    "- Monthly active users\n",
    "- Daily active users in past month\n",
    "- Total paid and unpaid users\n",
    "- Total ads served in the past month\n",
    "- Cohort per Month - % of users cancelled, % of users upgrades\n"
   ]
  },
  {
   "cell_type": "markdown",
   "metadata": {},
   "source": [
    "# Import Libraries"
   ]
  },
  {
   "cell_type": "code",
   "execution_count": 60,
   "metadata": {},
   "outputs": [
    {
     "data": {
      "text/html": [
       "        <script type=\"text/javascript\">\n",
       "        window.PlotlyConfig = {MathJaxConfig: 'local'};\n",
       "        if (window.MathJax) {MathJax.Hub.Config({SVG: {font: \"STIX-Web\"}});}\n",
       "        if (typeof require !== 'undefined') {\n",
       "        require.undef(\"plotly\");\n",
       "        requirejs.config({\n",
       "            paths: {\n",
       "                'plotly': ['https://cdn.plot.ly/plotly-latest.min']\n",
       "            }\n",
       "        });\n",
       "        require(['plotly'], function(Plotly) {\n",
       "            window._Plotly = Plotly;\n",
       "        });\n",
       "        }\n",
       "        </script>\n",
       "        "
      ]
     },
     "metadata": {},
     "output_type": "display_data"
    }
   ],
   "source": [
    "# import libraries\n",
    "import seaborn as sns\n",
    "import pandas as pd\n",
    "import numpy as np\n",
    "import datetime # missing and together with \"pip install --upgrade pyspark\" were causing issues with time series\n",
    "import matplotlib.pyplot as plt\n",
    "plt.style.use('ggplot')\n",
    "%matplotlib inline\n",
    "from plotly.offline import iplot\n",
    "import plotly.graph_objects as go\n",
    "import plotly.express as px\n",
    "import warnings\n",
    "warnings.filterwarnings(\"ignore\")\n",
    "import cufflinks as cf\n",
    "cf.go_offline()\n",
    "from pyspark.ml.feature import RegexTokenizer, VectorAssembler, Normalizer, StandardScaler\n",
    "from pyspark.sql.functions import isnan, count, when, col, desc, udf, col, sort_array, asc, avg\n",
    "from pyspark.sql.functions import sum as Fsum\n",
    "from pyspark.sql.functions import *\n",
    "from pyspark.sql.window import Window\n",
    "from pyspark.sql.types import IntegerType\n",
    "from pyspark.context import SparkContext\n",
    "from pyspark.sql.session import SparkSession"
   ]
  },
  {
   "cell_type": "markdown",
   "metadata": {},
   "source": [
    "# Load and Clean Dataset\n",
    "In this workspace, the mini-dataset file is `mini_sparkify_event_data.json`. Load and clean the dataset, checking for invalid or missing data - for example, records without userids or sessionids. "
   ]
  },
  {
   "cell_type": "code",
   "execution_count": 2,
   "metadata": {},
   "outputs": [],
   "source": [
    "# create a Spark session\n",
    "# spark = SparkSession.builder.getOrCreate()\n",
    "spark = SparkSession \\\n",
    "    .builder \\\n",
    "    .appName(\"Exploring Data\") \\\n",
    "    .getOrCreate()"
   ]
  },
  {
   "cell_type": "code",
   "execution_count": 3,
   "metadata": {
    "scrolled": true
   },
   "outputs": [
    {
     "data": {
      "text/html": [
       "\n",
       "            <div>\n",
       "                <p><b>SparkSession - in-memory</b></p>\n",
       "                \n",
       "        <div>\n",
       "            <p><b>SparkContext</b></p>\n",
       "\n",
       "            <p><a href=\"http://192.168.1.97:4040\">Spark UI</a></p>\n",
       "\n",
       "            <dl>\n",
       "              <dt>Version</dt>\n",
       "                <dd><code>v3.1.1</code></dd>\n",
       "              <dt>Master</dt>\n",
       "                <dd><code>local[*]</code></dd>\n",
       "              <dt>AppName</dt>\n",
       "                <dd><code>Exploring Data</code></dd>\n",
       "            </dl>\n",
       "        </div>\n",
       "        \n",
       "            </div>\n",
       "        "
      ],
      "text/plain": [
       "<pyspark.sql.session.SparkSession at 0x7f9add9ea3d0>"
      ]
     },
     "execution_count": 3,
     "metadata": {},
     "output_type": "execute_result"
    }
   ],
   "source": [
    "spark"
   ]
  },
  {
   "cell_type": "code",
   "execution_count": 4,
   "metadata": {},
   "outputs": [
    {
     "name": "stdout",
     "output_type": "stream",
     "text": [
      "[]\n"
     ]
    }
   ],
   "source": [
    "print(spark.catalog.listTables())"
   ]
  },
  {
   "cell_type": "code",
   "execution_count": 5,
   "metadata": {},
   "outputs": [
    {
     "data": {
      "text/plain": [
       "'/home/freemo/Projects/SparkProject'"
      ]
     },
     "execution_count": 5,
     "metadata": {},
     "output_type": "execute_result"
    }
   ],
   "source": [
    "pwd"
   ]
  },
  {
   "cell_type": "code",
   "execution_count": 6,
   "metadata": {},
   "outputs": [],
   "source": [
    "mini = '/home/freemo/Projects/largeData/mini_sparkify_event_data.json'\n",
    "medium = '/home/freemo/Projects/largeData/medium_sparkify_event_data.json'"
   ]
  },
  {
   "cell_type": "code",
   "execution_count": 7,
   "metadata": {},
   "outputs": [],
   "source": [
    "df = spark.read.json(mini)"
   ]
  },
  {
   "cell_type": "code",
   "execution_count": 8,
   "metadata": {
    "scrolled": true
   },
   "outputs": [
    {
     "data": {
      "text/plain": [
       "[Row(artist='Martha Tilston', auth='Logged In', firstName='Colin', gender='M', itemInSession=50, lastName='Freeman', length=277.89016, level='paid', location='Bakersfield, CA', method='PUT', page='NextSong', registration=1538173362000, sessionId=29, song='Rockpools', status=200, ts=1538352117000, userAgent='Mozilla/5.0 (Windows NT 6.1; WOW64; rv:31.0) Gecko/20100101 Firefox/31.0', userId='30')]"
      ]
     },
     "execution_count": 8,
     "metadata": {},
     "output_type": "execute_result"
    }
   ],
   "source": [
    "df.take(1)"
   ]
  },
  {
   "cell_type": "code",
   "execution_count": 9,
   "metadata": {
    "scrolled": false
   },
   "outputs": [
    {
     "name": "stdout",
     "output_type": "stream",
     "text": [
      "+----------------+---------+---------+------+-------------+--------+---------+-----+--------------------+------+--------+-------------+---------+--------------------+------+-------------+--------------------+------+\n",
      "|          artist|     auth|firstName|gender|itemInSession|lastName|   length|level|            location|method|    page| registration|sessionId|                song|status|           ts|           userAgent|userId|\n",
      "+----------------+---------+---------+------+-------------+--------+---------+-----+--------------------+------+--------+-------------+---------+--------------------+------+-------------+--------------------+------+\n",
      "|  Martha Tilston|Logged In|    Colin|     M|           50| Freeman|277.89016| paid|     Bakersfield, CA|   PUT|NextSong|1538173362000|       29|           Rockpools|   200|1538352117000|Mozilla/5.0 (Wind...|    30|\n",
      "|Five Iron Frenzy|Logged In|    Micah|     M|           79|    Long|236.09424| free|Boston-Cambridge-...|   PUT|NextSong|1538331630000|        8|              Canada|   200|1538352180000|\"Mozilla/5.0 (Win...|     9|\n",
      "|    Adam Lambert|Logged In|    Colin|     M|           51| Freeman| 282.8273| paid|     Bakersfield, CA|   PUT|NextSong|1538173362000|       29|   Time For Miracles|   200|1538352394000|Mozilla/5.0 (Wind...|    30|\n",
      "|          Enigma|Logged In|    Micah|     M|           80|    Long|262.71302| free|Boston-Cambridge-...|   PUT|NextSong|1538331630000|        8|Knocking On Forbi...|   200|1538352416000|\"Mozilla/5.0 (Win...|     9|\n",
      "|       Daft Punk|Logged In|    Colin|     M|           52| Freeman|223.60771| paid|     Bakersfield, CA|   PUT|NextSong|1538173362000|       29|Harder Better Fas...|   200|1538352676000|Mozilla/5.0 (Wind...|    30|\n",
      "+----------------+---------+---------+------+-------------+--------+---------+-----+--------------------+------+--------+-------------+---------+--------------------+------+-------------+--------------------+------+\n",
      "only showing top 5 rows\n",
      "\n"
     ]
    }
   ],
   "source": [
    "df.show(5)"
   ]
  },
  {
   "cell_type": "code",
   "execution_count": 10,
   "metadata": {
    "scrolled": true
   },
   "outputs": [
    {
     "name": "stdout",
     "output_type": "stream",
     "text": [
      "root\n",
      " |-- artist: string (nullable = true)\n",
      " |-- auth: string (nullable = true)\n",
      " |-- firstName: string (nullable = true)\n",
      " |-- gender: string (nullable = true)\n",
      " |-- itemInSession: long (nullable = true)\n",
      " |-- lastName: string (nullable = true)\n",
      " |-- length: double (nullable = true)\n",
      " |-- level: string (nullable = true)\n",
      " |-- location: string (nullable = true)\n",
      " |-- method: string (nullable = true)\n",
      " |-- page: string (nullable = true)\n",
      " |-- registration: long (nullable = true)\n",
      " |-- sessionId: long (nullable = true)\n",
      " |-- song: string (nullable = true)\n",
      " |-- status: long (nullable = true)\n",
      " |-- ts: long (nullable = true)\n",
      " |-- userAgent: string (nullable = true)\n",
      " |-- userId: string (nullable = true)\n",
      "\n"
     ]
    }
   ],
   "source": [
    "df.printSchema()"
   ]
  },
  {
   "cell_type": "code",
   "execution_count": 11,
   "metadata": {
    "scrolled": true
   },
   "outputs": [
    {
     "name": "stdout",
     "output_type": "stream",
     "text": [
      "+------+----+---------+------+-------------+--------+------+-----+--------+------+----+------------+---------+-----+------+---+---------+------+\n",
      "|artist|auth|firstName|gender|itemInSession|lastName|length|level|location|method|page|registration|sessionId| song|status| ts|userAgent|userId|\n",
      "+------+----+---------+------+-------------+--------+------+-----+--------+------+----+------------+---------+-----+------+---+---------+------+\n",
      "| 58392|   0|     8346|  8346|            0|    8346| 58392|    0|    8346|     0|   0|        8346|        0|58392|     0|  0|     8346|     0|\n",
      "+------+----+---------+------+-------------+--------+------+-----+--------+------+----+------------+---------+-----+------+---+---------+------+\n",
      "\n"
     ]
    }
   ],
   "source": [
    "# check columns with Null values\n",
    "df.select([count(when(isnan(c) | col(c).isNull(), c)).alias(c) for c in df.columns]).show()"
   ]
  },
  {
   "cell_type": "code",
   "execution_count": 12,
   "metadata": {
    "scrolled": true
   },
   "outputs": [
    {
     "name": "stdout",
     "output_type": "stream",
     "text": [
      "+--------------------------------------------+\n",
      "|count(CASE WHEN isnan(userID) THEN true END)|\n",
      "+--------------------------------------------+\n",
      "|                                           0|\n",
      "+--------------------------------------------+\n",
      "\n"
     ]
    }
   ],
   "source": [
    "# missing values in userID\n",
    "df.select([count(when(isnan('userID'),True))]).show()"
   ]
  },
  {
   "cell_type": "code",
   "execution_count": 13,
   "metadata": {
    "scrolled": true
   },
   "outputs": [
    {
     "name": "stdout",
     "output_type": "stream",
     "text": [
      "+-----------------------------------------------+\n",
      "|count(CASE WHEN isnan(sessionID) THEN true END)|\n",
      "+-----------------------------------------------+\n",
      "|                                              0|\n",
      "+-----------------------------------------------+\n",
      "\n"
     ]
    }
   ],
   "source": [
    "# missing values in sessionID\n",
    "df.select([count(when(isnan('sessionID'),True))]).show()"
   ]
  },
  {
   "cell_type": "code",
   "execution_count": 24,
   "metadata": {},
   "outputs": [],
   "source": [
    "# get_hour = udf(lambda x: datetime.datetime.fromtimestamp(x / 1000.0). hour)\n",
    "# df = df.withColumn(\"hour\", get_hour(df.ts))\n",
    "# songs_in_hour = df.filter(df.page == \"NextSong\").groupby(df.hour).count().orderBy(df.hour.cast(\"float\"))\n",
    "# songs_in_hour.show()\n",
    "\n",
    "# songs_in_hour_pd = songs_in_hour.toPandas()\n",
    "# songs_in_hour_pd.hour = pd.to_numeric(songs_in_hour_pd.hour)"
   ]
  },
  {
   "cell_type": "code",
   "execution_count": 14,
   "metadata": {},
   "outputs": [],
   "source": [
    "# create udf (user defined functions) for workdays and hour columns\n",
    "day_name= ['Monday', 'Tuesday', 'Wednesday', 'Thursday', 'Friday', 'Saturday','Sunday']\n",
    "day_ind = [1,2,3,4,5,6,7]\n",
    "get_hour = udf(lambda x: datetime.datetime.fromtimestamp(x/1000).hour, IntegerType() )\n",
    "get_day = udf(lambda x: datetime.datetime.fromtimestamp(x/1000).day, IntegerType() )\n",
    "get_wkday = udf(lambda x: day_name[datetime.datetime.fromtimestamp(x/1000).weekday()] )"
   ]
  },
  {
   "cell_type": "code",
   "execution_count": 16,
   "metadata": {},
   "outputs": [],
   "source": [
    "# create new columns based on ts column for analyses\n",
    "df = df.withColumn('hour', get_hour('ts'))\n",
    "df = df.withColumn('day', get_day('ts'))\n",
    "df = df.withColumn('workday', get_wkday('ts'))"
   ]
  },
  {
   "cell_type": "code",
   "execution_count": 20,
   "metadata": {
    "scrolled": true
   },
   "outputs": [
    {
     "name": "stdout",
     "output_type": "stream",
     "text": [
      "+----+---+-------+-----+\n",
      "|hour|day|workday|month|\n",
      "+----+---+-------+-----+\n",
      "|   3|  1| Monday|   10|\n",
      "|   3|  1| Monday|   10|\n",
      "|   3|  1| Monday|   10|\n",
      "|   3|  1| Monday|   10|\n",
      "|   3|  1| Monday|   10|\n",
      "|   3|  1| Monday|   10|\n",
      "|   3|  1| Monday|   10|\n",
      "+----+---+-------+-----+\n",
      "only showing top 7 rows\n",
      "\n"
     ]
    }
   ],
   "source": [
    "df.select('hour', 'day', 'workday', 'month').show(7)"
   ]
  },
  {
   "cell_type": "code",
   "execution_count": 18,
   "metadata": {},
   "outputs": [],
   "source": [
    "get_month = udf(lambda x: datetime.datetime.fromtimestamp(x/1000).month, IntegerType() )"
   ]
  },
  {
   "cell_type": "code",
   "execution_count": 19,
   "metadata": {},
   "outputs": [],
   "source": [
    "df = df.withColumn('month', get_month('ts'))"
   ]
  },
  {
   "cell_type": "code",
   "execution_count": 24,
   "metadata": {},
   "outputs": [
    {
     "name": "stdout",
     "output_type": "stream",
     "text": [
      "+-----+------+\n",
      "|month| count|\n",
      "+-----+------+\n",
      "|   12|   382|\n",
      "|   10|148991|\n",
      "|   11|137127|\n",
      "+-----+------+\n",
      "\n"
     ]
    }
   ],
   "source": [
    "df.groupby('month').count().show()"
   ]
  },
  {
   "cell_type": "code",
   "execution_count": 75,
   "metadata": {
    "scrolled": true
   },
   "outputs": [],
   "source": [
    "# df.groupby('ts_hour').count().show()"
   ]
  },
  {
   "cell_type": "code",
   "execution_count": 76,
   "metadata": {},
   "outputs": [],
   "source": [
    "# df.groupby('ts_day').count().show(31)"
   ]
  },
  {
   "cell_type": "code",
   "execution_count": 25,
   "metadata": {},
   "outputs": [],
   "source": [
    "user_log_valid = df.dropna(how = \"any\", subset = [\"userId\", \"sessionId\"])"
   ]
  },
  {
   "cell_type": "code",
   "execution_count": 26,
   "metadata": {},
   "outputs": [
    {
     "data": {
      "text/plain": [
       "286500"
      ]
     },
     "execution_count": 26,
     "metadata": {},
     "output_type": "execute_result"
    }
   ],
   "source": [
    "user_log_valid.count()"
   ]
  },
  {
   "cell_type": "code",
   "execution_count": 27,
   "metadata": {
    "scrolled": true
   },
   "outputs": [
    {
     "name": "stdout",
     "output_type": "stream",
     "text": [
      "+------+\n",
      "|userId|\n",
      "+------+\n",
      "|      |\n",
      "|    10|\n",
      "|   100|\n",
      "|100001|\n",
      "|100002|\n",
      "|100003|\n",
      "|100004|\n",
      "|100005|\n",
      "|100006|\n",
      "|100007|\n",
      "|100008|\n",
      "|100009|\n",
      "|100010|\n",
      "|100011|\n",
      "|100012|\n",
      "|100013|\n",
      "|100014|\n",
      "|100015|\n",
      "|100016|\n",
      "|100017|\n",
      "+------+\n",
      "only showing top 20 rows\n",
      "\n"
     ]
    }
   ],
   "source": [
    "df.select(\"userId\").dropDuplicates().sort(\"userId\").show()"
   ]
  },
  {
   "cell_type": "code",
   "execution_count": 28,
   "metadata": {},
   "outputs": [],
   "source": [
    "user_log_valid = user_log_valid.filter(user_log_valid[\"userId\"] != \"\")"
   ]
  },
  {
   "cell_type": "code",
   "execution_count": 29,
   "metadata": {},
   "outputs": [
    {
     "data": {
      "text/plain": [
       "-8346"
      ]
     },
     "execution_count": 29,
     "metadata": {},
     "output_type": "execute_result"
    }
   ],
   "source": [
    "user_log_valid.count() - 286500"
   ]
  },
  {
   "cell_type": "markdown",
   "metadata": {},
   "source": [
    "# Exploratory Data Analysis\n",
    "When you're working with the full dataset, perform EDA by loading a small subset of the data and doing basic manipulations within Spark. In this workspace, you are already provided a small subset of data you can explore."
   ]
  },
  {
   "cell_type": "markdown",
   "metadata": {},
   "source": [
    "### Define Churn\n",
    "\n",
    "Once you've done some preliminary analysis, create a column `Churn` to use as the label for your model. I suggest using the `Cancellation Confirmation` events to define your churn, which happen for both paid and free users. As a bonus task, you can also look into the `Downgrade` events."
   ]
  },
  {
   "cell_type": "code",
   "execution_count": 30,
   "metadata": {
    "scrolled": false
   },
   "outputs": [
    {
     "name": "stdout",
     "output_type": "stream",
     "text": [
      "+--------------------+\n",
      "|                page|\n",
      "+--------------------+\n",
      "|               About|\n",
      "|          Add Friend|\n",
      "|     Add to Playlist|\n",
      "|              Cancel|\n",
      "|Cancellation Conf...|\n",
      "|           Downgrade|\n",
      "|               Error|\n",
      "|                Help|\n",
      "|                Home|\n",
      "|               Login|\n",
      "|              Logout|\n",
      "|            NextSong|\n",
      "|            Register|\n",
      "|         Roll Advert|\n",
      "|       Save Settings|\n",
      "|            Settings|\n",
      "|    Submit Downgrade|\n",
      "| Submit Registration|\n",
      "|      Submit Upgrade|\n",
      "|         Thumbs Down|\n",
      "+--------------------+\n",
      "only showing top 20 rows\n",
      "\n"
     ]
    }
   ],
   "source": [
    "# check the page column\n",
    "df.select(\"page\").dropDuplicates().sort(\"page\").show()"
   ]
  },
  {
   "cell_type": "code",
   "execution_count": 31,
   "metadata": {},
   "outputs": [
    {
     "name": "stdout",
     "output_type": "stream",
     "text": [
      "+------------------+\n",
      "|avg(count(period))|\n",
      "+------------------+\n",
      "| 23.60389072847682|\n",
      "+------------------+\n",
      "\n"
     ]
    }
   ],
   "source": [
    "# How many songs do users listen to on average between visiting our home page? \n",
    "\n",
    "function = udf(lambda ishome : int(ishome == 'Home'), IntegerType())\n",
    "\n",
    "user_window = Window \\\n",
    "    .partitionBy('userID') \\\n",
    "    .orderBy(desc('ts')) \\\n",
    "    .rangeBetween(Window.unboundedPreceding, 0)\n",
    "\n",
    "cusum = df.filter((df.page == 'NextSong') | (df.page == 'Home')) \\\n",
    "    .select('userID', 'page', 'ts') \\\n",
    "    .withColumn('homevisit', function(col('page'))) \\\n",
    "    .withColumn('period', Fsum('homevisit').over(user_window))\n",
    "\n",
    "cusum.filter((cusum.page == 'NextSong')) \\\n",
    "    .groupBy('userID', 'period') \\\n",
    "    .agg({'period':'count'}) \\\n",
    "    .agg({'count(period)':'avg'}).show()"
   ]
  },
  {
   "cell_type": "code",
   "execution_count": 35,
   "metadata": {},
   "outputs": [
    {
     "name": "stdout",
     "output_type": "stream",
     "text": [
      "+--------------------+-----------+\n",
      "|              Artist|Artistcount|\n",
      "+--------------------+-----------+\n",
      "|       Kings Of Leon|       1841|\n",
      "|            Coldplay|       1813|\n",
      "|Florence + The Ma...|       1236|\n",
      "+--------------------+-----------+\n",
      "only showing top 3 rows\n",
      "\n"
     ]
    }
   ],
   "source": [
    "# top 3 played artist\n",
    "df.filter(df.page == 'NextSong') \\\n",
    "    .select('Artist') \\\n",
    "    .groupBy('Artist') \\\n",
    "    .agg({'Artist':'count'}) \\\n",
    "    .withColumnRenamed('count(Artist)', 'Artistcount') \\\n",
    "    .sort(desc('Artistcount')) \\\n",
    "    .show(3)"
   ]
  },
  {
   "cell_type": "code",
   "execution_count": 37,
   "metadata": {
    "scrolled": true
   },
   "outputs": [
    {
     "data": {
      "text/plain": [
       "[Row(userId='98', firstname='Sawyer', page='Home', level='free', song=None),\n",
       " Row(userId='98', firstname='Sawyer', page='Add Friend', level='free', song=None),\n",
       " Row(userId='98', firstname='Sawyer', page='Add Friend', level='free', song=None),\n",
       " Row(userId='98', firstname='Sawyer', page='Home', level='free', song=None),\n",
       " Row(userId='98', firstname='Sawyer', page='NextSong', level='free', song=\"They Can't Take That Away From Me (1999 Digital Remaster)\"),\n",
       " Row(userId='98', firstname='Sawyer', page='NextSong', level='free', song='Little Yellow Spider'),\n",
       " Row(userId='98', firstname='Sawyer', page='NextSong', level='free', song='Walk Through Hell (featuring Max Bemis Acoustic Exclusive)'),\n",
       " Row(userId='98', firstname='Sawyer', page='Thumbs Down', level='free', song=None),\n",
       " Row(userId='98', firstname='Sawyer', page='NextSong', level='free', song=\"Baby Girl_ I'm A Blur\"),\n",
       " Row(userId='98', firstname='Sawyer', page='Thumbs Down', level='free', song=None),\n",
       " Row(userId='98', firstname='Sawyer', page='NextSong', level='free', song=\"You Don't Have A Clue\"),\n",
       " Row(userId='98', firstname='Sawyer', page='NextSong', level='free', song='Conspiracy (Album Version)'),\n",
       " Row(userId='98', firstname='Sawyer', page='NextSong', level='free', song='Sehr kosmisch'),\n",
       " Row(userId='98', firstname='Sawyer', page='NextSong', level='free', song='Naughty Girl (single version)'),\n",
       " Row(userId='98', firstname='Sawyer', page='NextSong', level='free', song='The Artist In The Ambulance'),\n",
       " Row(userId='98', firstname='Sawyer', page='NextSong', level='free', song='Trash'),\n",
       " Row(userId='98', firstname='Sawyer', page='NextSong', level='free', song='Mr. Jones'),\n",
       " Row(userId='98', firstname='Sawyer', page='Roll Advert', level='free', song=None),\n",
       " Row(userId='98', firstname='Sawyer', page='NextSong', level='free', song='In Denial (Live Acoustic)'),\n",
       " Row(userId='98', firstname='Sawyer', page='NextSong', level='free', song='Intensified'),\n",
       " Row(userId='98', firstname='Sawyer', page='NextSong', level='free', song='My Descent Into Madness'),\n",
       " Row(userId='98', firstname='Sawyer', page='Home', level='free', song=None),\n",
       " Row(userId='98', firstname='Sawyer', page='NextSong', level='free', song='What If (Film Version)'),\n",
       " Row(userId='98', firstname='Sawyer', page='Thumbs Up', level='free', song=None),\n",
       " Row(userId='98', firstname='Sawyer', page='Add to Playlist', level='free', song=None),\n",
       " Row(userId='98', firstname='Sawyer', page='NextSong', level='free', song=\"You'll See It\"),\n",
       " Row(userId='98', firstname='Sawyer', page='NextSong', level='free', song='Guilty As Charged [feat. Estelle] (Explicit Album Version)'),\n",
       " Row(userId='98', firstname='Sawyer', page='NextSong', level='free', song='Wie Jetzt'),\n",
       " Row(userId='98', firstname='Sawyer', page='NextSong', level='free', song='She Is My Sin'),\n",
       " Row(userId='98', firstname='Sawyer', page='NextSong', level='free', song='16 Candles'),\n",
       " Row(userId='98', firstname='Sawyer', page='NextSong', level='free', song='Short Tales Of The Black Forest'),\n",
       " Row(userId='98', firstname='Sawyer', page='NextSong', level='free', song='Never Let Me Go'),\n",
       " Row(userId='98', firstname='Sawyer', page='NextSong', level='free', song='So Lonely'),\n",
       " Row(userId='98', firstname='Sawyer', page='NextSong', level='free', song='This Is How We Do'),\n",
       " Row(userId='98', firstname='Sawyer', page='NextSong', level='free', song=\"It's Bad You Know\"),\n",
       " Row(userId='98', firstname='Sawyer', page='NextSong', level='free', song='Love Like Winter'),\n",
       " Row(userId='98', firstname='Sawyer', page='NextSong', level='free', song='Free'),\n",
       " Row(userId='98', firstname='Sawyer', page='NextSong', level='free', song='This Is Halloween'),\n",
       " Row(userId='98', firstname='Sawyer', page='NextSong', level='free', song='Greece 2000'),\n",
       " Row(userId='98', firstname='Sawyer', page='NextSong', level='free', song='Estados'),\n",
       " Row(userId='98', firstname='Sawyer', page='NextSong', level='free', song='Inhale (Album Version)'),\n",
       " Row(userId='98', firstname='Sawyer', page='Add to Playlist', level='free', song=None),\n",
       " Row(userId='98', firstname='Sawyer', page='NextSong', level='free', song='Cuarto movimiento: La realidad'),\n",
       " Row(userId='98', firstname='Sawyer', page='Roll Advert', level='free', song=None),\n",
       " Row(userId='98', firstname='Sawyer', page='NextSong', level='free', song='True Love Will Find You In The End'),\n",
       " Row(userId='98', firstname='Sawyer', page='NextSong', level='free', song=\"Val's Blues (Digitally Remastered)\"),\n",
       " Row(userId='98', firstname='Sawyer', page='NextSong', level='free', song='Creep (Explicit)'),\n",
       " Row(userId='98', firstname='Sawyer', page='NextSong', level='free', song='Nutshell'),\n",
       " Row(userId='98', firstname='Sawyer', page='NextSong', level='free', song='Home Entertainment'),\n",
       " Row(userId='98', firstname='Sawyer', page='NextSong', level='free', song='Billionaire [feat. Bruno Mars]  (Explicit Album Version)'),\n",
       " Row(userId='98', firstname='Sawyer', page='NextSong', level='free', song='Hymn'),\n",
       " Row(userId='98', firstname='Sawyer', page='NextSong', level='free', song='Big Girl'),\n",
       " Row(userId='98', firstname='Sawyer', page='NextSong', level='free', song='Tres mil millones de latidos'),\n",
       " Row(userId='98', firstname='Sawyer', page='NextSong', level='free', song='sillyworld (Album Version)'),\n",
       " Row(userId='98', firstname='Sawyer', page='NextSong', level='free', song='And No Matches'),\n",
       " Row(userId='98', firstname='Sawyer', page='NextSong', level='free', song='Sexy Can I'),\n",
       " Row(userId='98', firstname='Sawyer', page='Roll Advert', level='free', song=None),\n",
       " Row(userId='98', firstname='Sawyer', page='NextSong', level='free', song='Cold As You'),\n",
       " Row(userId='98', firstname='Sawyer', page='NextSong', level='free', song='What If?'),\n",
       " Row(userId='98', firstname='Sawyer', page='NextSong', level='free', song='Fight'),\n",
       " Row(userId='98', firstname='Sawyer', page='NextSong', level='free', song='Sample Track 2'),\n",
       " Row(userId='98', firstname='Sawyer', page='NextSong', level='free', song='Black Is White'),\n",
       " Row(userId='98', firstname='Sawyer', page='Roll Advert', level='free', song=None),\n",
       " Row(userId='98', firstname='Sawyer', page='NextSong', level='free', song='My Own Way'),\n",
       " Row(userId='98', firstname='Sawyer', page='NextSong', level='free', song='Bright Lights (Remastered Version)'),\n",
       " Row(userId='98', firstname='Sawyer', page='NextSong', level='free', song='Some Kinda Rush'),\n",
       " Row(userId='98', firstname='Sawyer', page='NextSong', level='free', song='Forks And Knives (La FÃ\\x83Âªte)'),\n",
       " Row(userId='98', firstname='Sawyer', page='NextSong', level='free', song='Check-It'),\n",
       " Row(userId='98', firstname='Sawyer', page='NextSong', level='free', song='Panic'),\n",
       " Row(userId='98', firstname='Sawyer', page='NextSong', level='free', song='My Delirium'),\n",
       " Row(userId='98', firstname='Sawyer', page='NextSong', level='free', song='Three Times A Lady'),\n",
       " Row(userId='98', firstname='Sawyer', page='NextSong', level='free', song='Zealots'),\n",
       " Row(userId='98', firstname='Sawyer', page='NextSong', level='free', song='Neighborhoods'),\n",
       " Row(userId='98', firstname='Sawyer', page='NextSong', level='free', song='Visions Of Endless Hopes'),\n",
       " Row(userId='98', firstname='Sawyer', page='NextSong', level='free', song=\"What I've Done (Album Version)\"),\n",
       " Row(userId='98', firstname='Sawyer', page='NextSong', level='free', song='I Give You To His Heart'),\n",
       " Row(userId='98', firstname='Sawyer', page='Roll Advert', level='free', song=None),\n",
       " Row(userId='98', firstname='Sawyer', page='NextSong', level='free', song='Minor Earth Major Sky'),\n",
       " Row(userId='98', firstname='Sawyer', page='Home', level='free', song=None),\n",
       " Row(userId='98', firstname='Sawyer', page='NextSong', level='free', song='Feel Good Inc (Album Version)'),\n",
       " Row(userId='98', firstname='Sawyer', page='NextSong', level='free', song='Lullaby In Three/Four'),\n",
       " Row(userId='98', firstname='Sawyer', page='NextSong', level='free', song='Future Reflections'),\n",
       " Row(userId='98', firstname='Sawyer', page='NextSong', level='free', song='Nemo Egg (Main Title)'),\n",
       " Row(userId='98', firstname='Sawyer', page='Thumbs Up', level='free', song=None),\n",
       " Row(userId='98', firstname='Sawyer', page='NextSong', level='free', song='Make Love To Your Mind'),\n",
       " Row(userId='98', firstname='Sawyer', page='NextSong', level='free', song='Vagabond'),\n",
       " Row(userId='98', firstname='Sawyer', page='NextSong', level='free', song='Out Of Sight'),\n",
       " Row(userId='98', firstname='Sawyer', page='NextSong', level='free', song='Novio Imaginario'),\n",
       " Row(userId='98', firstname='Sawyer', page='NextSong', level='free', song='Play Girl'),\n",
       " Row(userId='98', firstname='Sawyer', page='NextSong', level='free', song='Condemned'),\n",
       " Row(userId='98', firstname='Sawyer', page='Logout', level='free', song=None),\n",
       " Row(userId='98', firstname='Sawyer', page='Home', level='free', song=None),\n",
       " Row(userId='98', firstname='Sawyer', page='NextSong', level='free', song=\"Hollywood's Not America\"),\n",
       " Row(userId='98', firstname='Sawyer', page='NextSong', level='free', song='Happy Song'),\n",
       " Row(userId='98', firstname='Sawyer', page='NextSong', level='free', song='Paperweight'),\n",
       " Row(userId='98', firstname='Sawyer', page='NextSong', level='free', song='Invalid'),\n",
       " Row(userId='98', firstname='Sawyer', page='NextSong', level='free', song='Ghost Song'),\n",
       " Row(userId='98', firstname='Sawyer', page='Thumbs Up', level='free', song=None),\n",
       " Row(userId='98', firstname='Sawyer', page='NextSong', level='free', song='Come On Eileen'),\n",
       " Row(userId='98', firstname='Sawyer', page='NextSong', level='free', song='Here_ There And Everywhere'),\n",
       " Row(userId='98', firstname='Sawyer', page='NextSong', level='free', song='Worried Down With the Blues'),\n",
       " Row(userId='98', firstname='Sawyer', page='Thumbs Up', level='free', song=None),\n",
       " Row(userId='98', firstname='Sawyer', page='NextSong', level='free', song='Sleepyhead'),\n",
       " Row(userId='98', firstname='Sawyer', page='NextSong', level='free', song='Mr. Brownstone'),\n",
       " Row(userId='98', firstname='Sawyer', page='NextSong', level='free', song='Rosemary'),\n",
       " Row(userId='98', firstname='Sawyer', page='NextSong', level='free', song='Here We Go Again (Album Version)'),\n",
       " Row(userId='98', firstname='Sawyer', page='NextSong', level='free', song='One And Only'),\n",
       " Row(userId='98', firstname='Sawyer', page='NextSong', level='free', song='Bent (LP Version)'),\n",
       " Row(userId='98', firstname='Sawyer', page='NextSong', level='free', song='Monster (Album Version)'),\n",
       " Row(userId='98', firstname='Sawyer', page='NextSong', level='free', song='Holiday [feat. Green Day & The Cast Of American Idiot] (Album Version)'),\n",
       " Row(userId='98', firstname='Sawyer', page='Thumbs Up', level='free', song=None),\n",
       " Row(userId='98', firstname='Sawyer', page='NextSong', level='free', song='Blues Shaker'),\n",
       " Row(userId='98', firstname='Sawyer', page='NextSong', level='free', song='One Time'),\n",
       " Row(userId='98', firstname='Sawyer', page='NextSong', level='free', song='Fire & Fast Bullets'),\n",
       " Row(userId='98', firstname='Sawyer', page='Home', level='free', song=None),\n",
       " Row(userId='98', firstname='Sawyer', page='NextSong', level='free', song='DÃ\\x83Â³nde jugarÃ\\x83Â¡n los niÃ\\x83Â±os'),\n",
       " Row(userId='98', firstname='Sawyer', page='NextSong', level='free', song='Riot In Cell Block Number Nine'),\n",
       " Row(userId='98', firstname='Sawyer', page='NextSong', level='free', song='Freak Train'),\n",
       " Row(userId='98', firstname='Sawyer', page='NextSong', level='free', song='Disappear (Oubliette)'),\n",
       " Row(userId='98', firstname='Sawyer', page='NextSong', level='free', song='Sayonara-Nostalgia'),\n",
       " Row(userId='98', firstname='Sawyer', page='NextSong', level='free', song='Be My Escape (Album Version)'),\n",
       " Row(userId='98', firstname='Sawyer', page='NextSong', level='free', song='Voices On A String (Album Version)'),\n",
       " Row(userId='98', firstname='Sawyer', page='NextSong', level='free', song='Holding Out For A Hero'),\n",
       " Row(userId='98', firstname='Sawyer', page='NextSong', level='free', song='Elephant Gun'),\n",
       " Row(userId='98', firstname='Sawyer', page='Thumbs Up', level='free', song=None),\n",
       " Row(userId='98', firstname='Sawyer', page='NextSong', level='free', song='The Green Door'),\n",
       " Row(userId='98', firstname='Sawyer', page='NextSong', level='free', song='Use Somebody'),\n",
       " Row(userId='98', firstname='Sawyer', page='NextSong', level='free', song='Hanging With The Wrong Crowd'),\n",
       " Row(userId='98', firstname='Sawyer', page='NextSong', level='free', song='Rorol'),\n",
       " Row(userId='98', firstname='Sawyer', page='NextSong', level='free', song='World in darkness'),\n",
       " Row(userId='98', firstname='Sawyer', page='Thumbs Up', level='free', song=None),\n",
       " Row(userId='98', firstname='Sawyer', page='NextSong', level='free', song='Mr. Jones'),\n",
       " Row(userId='98', firstname='Sawyer', page='NextSong', level='free', song='Read My Mind'),\n",
       " Row(userId='98', firstname='Sawyer', page='NextSong', level='free', song='Undo'),\n",
       " Row(userId='98', firstname='Sawyer', page='Roll Advert', level='free', song=None),\n",
       " Row(userId='98', firstname='Sawyer', page='Roll Advert', level='free', song=None),\n",
       " Row(userId='98', firstname='Sawyer', page='NextSong', level='free', song='Strut (1993 Digital Remaster)'),\n",
       " Row(userId='98', firstname='Sawyer', page='NextSong', level='free', song='Sei LÃ\\x83Â¡ Mangueira'),\n",
       " Row(userId='98', firstname='Sawyer', page='NextSong', level='free', song='The Bachelor and the Bride'),\n",
       " Row(userId='98', firstname='Sawyer', page='NextSong', level='free', song='Empire Ants (Feat. Little Dragon)'),\n",
       " Row(userId='98', firstname='Sawyer', page='NextSong', level='free', song='End Of The Road'),\n",
       " Row(userId='98', firstname='Sawyer', page='NextSong', level='free', song='Cheat'),\n",
       " Row(userId='98', firstname='Sawyer', page='NextSong', level='free', song=\"We Don't Have To Take Our Clothes Off (7'' Version)\"),\n",
       " Row(userId='98', firstname='Sawyer', page='NextSong', level='free', song='Back On The Road'),\n",
       " Row(userId='98', firstname='Sawyer', page='Logout', level='free', song=None),\n",
       " Row(userId='98', firstname='Sawyer', page='Home', level='free', song=None),\n",
       " Row(userId='98', firstname='Sawyer', page='NextSong', level='free', song='Wounder'),\n",
       " Row(userId='98', firstname='Sawyer', page='NextSong', level='free', song='Esperame'),\n",
       " Row(userId='98', firstname='Sawyer', page='NextSong', level='free', song='Radioland (2009 Digital Remaster)'),\n",
       " Row(userId='98', firstname='Sawyer', page='NextSong', level='free', song='Miss Murder'),\n",
       " Row(userId='98', firstname='Sawyer', page='NextSong', level='free', song='Next Time (Explicit)'),\n",
       " Row(userId='98', firstname='Sawyer', page='NextSong', level='free', song='The Gift'),\n",
       " Row(userId='98', firstname='Sawyer', page='NextSong', level='free', song='Screaming For Vengeance'),\n",
       " Row(userId='98', firstname='Sawyer', page='NextSong', level='free', song='Absurd'),\n",
       " Row(userId='98', firstname='Sawyer', page='NextSong', level='free', song=\"I'm But A Wave To...(2004 remix) (Album Version)\"),\n",
       " Row(userId='98', firstname='Sawyer', page='NextSong', level='free', song='Morning Dance'),\n",
       " Row(userId='98', firstname='Sawyer', page='NextSong', level='free', song='Tipsy'),\n",
       " Row(userId='98', firstname='Sawyer', page='NextSong', level='free', song='No Seas FanÃ\\x83Â¡tica'),\n",
       " Row(userId='98', firstname='Sawyer', page='NextSong', level='free', song='Para Tu Amor'),\n",
       " Row(userId='98', firstname='Sawyer', page='NextSong', level='free', song='The Scientist'),\n",
       " Row(userId='98', firstname='Sawyer', page='NextSong', level='free', song=\"What's A Broken Heart\"),\n",
       " Row(userId='98', firstname='Sawyer', page='NextSong', level='free', song='If You Want To Sing Out_ Sing Out'),\n",
       " Row(userId='98', firstname='Sawyer', page='NextSong', level='free', song='Live And Let Die'),\n",
       " Row(userId='98', firstname='Sawyer', page='Roll Advert', level='free', song=None),\n",
       " Row(userId='98', firstname='Sawyer', page='NextSong', level='free', song='ReprÃ\\x83Â©sente'),\n",
       " Row(userId='98', firstname='Sawyer', page='NextSong', level='free', song='Float On'),\n",
       " Row(userId='98', firstname='Sawyer', page='NextSong', level='free', song='Spectrum'),\n",
       " Row(userId='98', firstname='Sawyer', page='NextSong', level='free', song='Soraya'),\n",
       " Row(userId='98', firstname='Sawyer', page='NextSong', level='free', song='Geishas En Madrid'),\n",
       " Row(userId='98', firstname='Sawyer', page='NextSong', level='free', song='Ballad Of Miss Kate'),\n",
       " Row(userId='98', firstname='Sawyer', page='NextSong', level='free', song='The Guillotine (Album Version)'),\n",
       " Row(userId='98', firstname='Sawyer', page='NextSong', level='free', song='Esfera'),\n",
       " Row(userId='98', firstname='Sawyer', page='NextSong', level='free', song='Drive Away'),\n",
       " Row(userId='98', firstname='Sawyer', page='NextSong', level='free', song='NiÃ\\x83Â±a Candela'),\n",
       " Row(userId='98', firstname='Sawyer', page='NextSong', level='free', song='Extraordinary Girl/Letterbomb (Album Version)'),\n",
       " Row(userId='98', firstname='Sawyer', page='NextSong', level='free', song='Undo'),\n",
       " Row(userId='98', firstname='Sawyer', page='Home', level='free', song=None),\n",
       " Row(userId='98', firstname='Sawyer', page='Home', level='free', song=None),\n",
       " Row(userId='98', firstname='Sawyer', page='NextSong', level='free', song='Black 47'),\n",
       " Row(userId='98', firstname='Sawyer', page='Add to Playlist', level='free', song=None),\n",
       " Row(userId='98', firstname='Sawyer', page='NextSong', level='free', song='Holiday [feat. Green Day & The Cast Of American Idiot] (Album Version)'),\n",
       " Row(userId='98', firstname='Sawyer', page='NextSong', level='free', song='New Zandu'),\n",
       " Row(userId='98', firstname='Sawyer', page='NextSong', level='free', song='Kind Hearted Light'),\n",
       " Row(userId='98', firstname='Sawyer', page='NextSong', level='free', song=\"Life's A Dream\"),\n",
       " Row(userId='98', firstname='Sawyer', page='NextSong', level='free', song='Rising Moon'),\n",
       " Row(userId='98', firstname='Sawyer', page='NextSong', level='free', song='Fopp (Album)'),\n",
       " Row(userId='98', firstname='Sawyer', page='NextSong', level='free', song='Incentive (Bonus Track)'),\n",
       " Row(userId='98', firstname='Sawyer', page='Home', level='free', song=None),\n",
       " Row(userId='98', firstname='Sawyer', page='NextSong', level='free', song='Ready For The Weekend'),\n",
       " Row(userId='98', firstname='Sawyer', page='Home', level='free', song=None),\n",
       " Row(userId='98', firstname='Sawyer', page='NextSong', level='free', song='Hi Ho Silver Lining'),\n",
       " Row(userId='98', firstname='Sawyer', page='Thumbs Up', level='free', song=None),\n",
       " Row(userId='98', firstname='Sawyer', page='NextSong', level='free', song='Float On'),\n",
       " Row(userId='98', firstname='Sawyer', page='NextSong', level='free', song='22'),\n",
       " Row(userId='98', firstname='Sawyer', page='NextSong', level='free', song='History'),\n",
       " Row(userId='98', firstname='Sawyer', page='NextSong', level='free', song='Undo'),\n",
       " Row(userId='98', firstname='Sawyer', page='NextSong', level='free', song='One More Time (Short Radio Edit)'),\n",
       " Row(userId='98', firstname='Sawyer', page='NextSong', level='free', song=\"I'm Still Breathing\"),\n",
       " Row(userId='98', firstname='Sawyer', page='Roll Advert', level='free', song=None),\n",
       " Row(userId='98', firstname='Sawyer', page='NextSong', level='free', song='Every Time I Close My Eyes'),\n",
       " Row(userId='98', firstname='Sawyer', page='NextSong', level='free', song='U Don\\x19t Like Rock N Roll'),\n",
       " Row(userId='98', firstname='Sawyer', page='NextSong', level='free', song='My moon my man (Grizzy Bear Remix)'),\n",
       " Row(userId='98', firstname='Sawyer', page='NextSong', level='free', song='Crossfire'),\n",
       " Row(userId='98', firstname='Sawyer', page='NextSong', level='free', song='Sleigh Ride'),\n",
       " Row(userId='98', firstname='Sawyer', page='NextSong', level='free', song='People Help The People'),\n",
       " Row(userId='98', firstname='Sawyer', page='NextSong', level='free', song='Reason'),\n",
       " Row(userId='98', firstname='Sawyer', page='NextSong', level='free', song='Last Night A DJ Saved My Life'),\n",
       " Row(userId='98', firstname='Sawyer', page='Roll Advert', level='free', song=None),\n",
       " Row(userId='98', firstname='Sawyer', page='NextSong', level='free', song='Riot In Cell Block Number Nine'),\n",
       " Row(userId='98', firstname='Sawyer', page='Thumbs Down', level='free', song=None),\n",
       " Row(userId='98', firstname='Sawyer', page='NextSong', level='free', song='Billionaire [feat. Bruno Mars]  (Explicit Album Version)'),\n",
       " Row(userId='98', firstname='Sawyer', page='NextSong', level='free', song='Away With Murder'),\n",
       " Row(userId='98', firstname='Sawyer', page='Home', level='free', song=None),\n",
       " Row(userId='98', firstname='Sawyer', page='NextSong', level='free', song='You Can Do It (Explicit) (Feat. Mack 10 And Ms Toi)'),\n",
       " Row(userId='98', firstname='Sawyer', page='NextSong', level='free', song='Memories'),\n",
       " Row(userId='98', firstname='Sawyer', page='NextSong', level='free', song='Just One Smile'),\n",
       " Row(userId='98', firstname='Sawyer', page='NextSong', level='free', song='The Lengths'),\n",
       " Row(userId='98', firstname='Sawyer', page='NextSong', level='free', song='Familiar Taste Of Poison (Album Version)'),\n",
       " Row(userId='98', firstname='Sawyer', page='NextSong', level='free', song='Again & Again'),\n",
       " Row(userId='98', firstname='Sawyer', page='Logout', level='free', song=None),\n",
       " Row(userId='98', firstname='Sawyer', page='Home', level='free', song=None),\n",
       " Row(userId='98', firstname='Sawyer', page='NextSong', level='free', song='Ambush (Album Version)'),\n",
       " Row(userId='98', firstname='Sawyer', page='NextSong', level='free', song='Wish'),\n",
       " Row(userId='98', firstname='Sawyer', page='NextSong', level='free', song='I Know Where I\\'ve Been (\"Hairspray\")'),\n",
       " Row(userId='98', firstname='Sawyer', page='NextSong', level='free', song='The American'),\n",
       " Row(userId='98', firstname='Sawyer', page='Roll Advert', level='free', song=None),\n",
       " Row(userId='98', firstname='Sawyer', page='NextSong', level='free', song='Invalid'),\n",
       " Row(userId='98', firstname='Sawyer', page='NextSong', level='free', song='No Celebration'),\n",
       " Row(userId='98', firstname='Sawyer', page='NextSong', level='free', song='A Bit Patchy'),\n",
       " Row(userId='98', firstname='Sawyer', page='NextSong', level='free', song='Mile End'),\n",
       " Row(userId='98', firstname='Sawyer', page='NextSong', level='free', song='Hard Rock Bottom Of Your Heart (Single Remix Remastered Version)'),\n",
       " Row(userId='98', firstname='Sawyer', page='NextSong', level='free', song='Love Train'),\n",
       " Row(userId='98', firstname='Sawyer', page='NextSong', level='free', song='Ave Maria No Morro'),\n",
       " Row(userId='98', firstname='Sawyer', page='NextSong', level='free', song=\"Onward 'Til Morning\"),\n",
       " Row(userId='98', firstname='Sawyer', page='NextSong', level='free', song='Uz'),\n",
       " Row(userId='98', firstname='Sawyer', page='NextSong', level='free', song='Blindfolded'),\n",
       " Row(userId='98', firstname='Sawyer', page='Roll Advert', level='free', song=None),\n",
       " Row(userId='98', firstname='Sawyer', page='NextSong', level='free', song=\"I Can't Get Started\"),\n",
       " Row(userId='98', firstname='Sawyer', page='Thumbs Up', level='free', song=None),\n",
       " Row(userId='98', firstname='Sawyer', page='NextSong', level='free', song='Neural Aggressor'),\n",
       " Row(userId='98', firstname='Sawyer', page='NextSong', level='free', song='Mad Season (LP Version)'),\n",
       " Row(userId='98', firstname='Sawyer', page='NextSong', level='free', song='Under Fire'),\n",
       " Row(userId='98', firstname='Sawyer', page='NextSong', level='free', song='Ecstasy'),\n",
       " Row(userId='98', firstname='Sawyer', page='NextSong', level='free', song='Flash Pan Hunter'),\n",
       " Row(userId='98', firstname='Sawyer', page='NextSong', level='free', song='Guitarra y vos'),\n",
       " Row(userId='98', firstname='Sawyer', page='NextSong', level='free', song='Something (Album Version)'),\n",
       " Row(userId='98', firstname='Sawyer', page='NextSong', level='free', song='Snowbound (Album Version)'),\n",
       " Row(userId='98', firstname='Sawyer', page='NextSong', level='free', song='Bummer In The Summer'),\n",
       " Row(userId='98', firstname='Sawyer', page='Thumbs Up', level='free', song=None),\n",
       " Row(userId='98', firstname='Sawyer', page='NextSong', level='free', song='Witchcult Today'),\n",
       " Row(userId='98', firstname='Sawyer', page='Thumbs Up', level='free', song=None),\n",
       " Row(userId='98', firstname='Sawyer', page='NextSong', level='free', song='Father Cannot Yell (Pete Shelley/Black Radio Mix)'),\n",
       " Row(userId='98', firstname='Sawyer', page='Thumbs Up', level='free', song=None),\n",
       " Row(userId='98', firstname='Sawyer', page='NextSong', level='free', song='Around The World / Harder Better Faster Stronger'),\n",
       " Row(userId='98', firstname='Sawyer', page='NextSong', level='free', song='Fear'),\n",
       " Row(userId='98', firstname='Sawyer', page='NextSong', level='free', song=\"Lookin' At Me [feat. Puff Daddy] (Album Version)\"),\n",
       " Row(userId='98', firstname='Sawyer', page='Home', level='free', song=None),\n",
       " Row(userId='98', firstname='Sawyer', page='Home', level='free', song=None),\n",
       " Row(userId='98', firstname='Sawyer', page='NextSong', level='free', song='Fireworks (bonus track)'),\n",
       " Row(userId='98', firstname='Sawyer', page='Roll Advert', level='free', song=None),\n",
       " Row(userId='98', firstname='Sawyer', page='NextSong', level='free', song='Midlife Crisis'),\n",
       " Row(userId='98', firstname='Sawyer', page='NextSong', level='free', song='Show Me'),\n",
       " Row(userId='98', firstname='Sawyer', page='NextSong', level='free', song='After All (Single Edit)'),\n",
       " Row(userId='98', firstname='Sawyer', page='Thumbs Up', level='free', song=None),\n",
       " Row(userId='98', firstname='Sawyer', page='NextSong', level='free', song='Lost'),\n",
       " Row(userId='98', firstname='Sawyer', page='NextSong', level='free', song=\"Betcha Gon' Know (the prologue)\"),\n",
       " Row(userId='98', firstname='Sawyer', page='NextSong', level='free', song='Calendar girl'),\n",
       " Row(userId='98', firstname='Sawyer', page='Roll Advert', level='free', song=None),\n",
       " Row(userId='98', firstname='Sawyer', page='NextSong', level='free', song='Footloose And Fancy Free'),\n",
       " Row(userId='98', firstname='Sawyer', page='NextSong', level='free', song='Alma'),\n",
       " Row(userId='98', firstname='Sawyer', page='Thumbs Down', level='free', song=None),\n",
       " Row(userId='98', firstname='Sawyer', page='NextSong', level='free', song='This Joint'),\n",
       " Row(userId='98', firstname='Sawyer', page='NextSong', level='free', song='Floating Vibes'),\n",
       " Row(userId='98', firstname='Sawyer', page='NextSong', level='free', song='Deathzone'),\n",
       " Row(userId='98', firstname='Sawyer', page='NextSong', level='free', song=\"Don't You Forget About Me\"),\n",
       " Row(userId='98', firstname='Sawyer', page='Add Friend', level='free', song=None),\n",
       " Row(userId='98', firstname='Sawyer', page='NextSong', level='free', song=\"Another (Featuring Lil' Kim) (Amended Version)\"),\n",
       " Row(userId='98', firstname='Sawyer', page='Roll Advert', level='free', song=None),\n",
       " Row(userId='98', firstname='Sawyer', page='NextSong', level='free', song='1234_ 1234 (LP Version)'),\n",
       " Row(userId='98', firstname='Sawyer', page='NextSong', level='free', song='Loaded For Bear'),\n",
       " Row(userId='98', firstname='Sawyer', page='NextSong', level='free', song='Delirium Trigger'),\n",
       " Row(userId='98', firstname='Sawyer', page='NextSong', level='free', song='Feel Good Inc (Single Edit)'),\n",
       " Row(userId='98', firstname='Sawyer', page='Help', level='free', song=None),\n",
       " Row(userId='98', firstname='Sawyer', page='Help', level='free', song=None),\n",
       " Row(userId='98', firstname='Sawyer', page='NextSong', level='free', song='Hand Of Doom'),\n",
       " Row(userId='98', firstname='Sawyer', page='Thumbs Up', level='free', song=None),\n",
       " Row(userId='98', firstname='Sawyer', page='NextSong', level='free', song='Fireworks'),\n",
       " Row(userId='98', firstname='Sawyer', page='NextSong', level='free', song=\"I'm Made Of Wax_ Larry_ What Are You Made Of?\"),\n",
       " Row(userId='98', firstname='Sawyer', page='Roll Advert', level='free', song=None),\n",
       " Row(userId='98', firstname='Sawyer', page='NextSong', level='free', song='Dog Days Are Over (Radio Edit)'),\n",
       " Row(userId='98', firstname='Sawyer', page='Roll Advert', level='free', song=None),\n",
       " Row(userId='98', firstname='Sawyer', page='NextSong', level='free', song='The Tempest (album version)'),\n",
       " Row(userId='98', firstname='Sawyer', page='NextSong', level='free', song='That Home'),\n",
       " Row(userId='98', firstname='Sawyer', page='NextSong', level='free', song='Adrift'),\n",
       " Row(userId='98', firstname='Sawyer', page='NextSong', level='free', song='LoveStoned/I Think She Knows'),\n",
       " Row(userId='98', firstname='Sawyer', page='Thumbs Down', level='free', song=None),\n",
       " Row(userId='98', firstname='Sawyer', page='NextSong', level='free', song='Sleep After Toyle_ Port After Stormie Seas'),\n",
       " Row(userId='98', firstname='Sawyer', page='Add to Playlist', level='free', song=None),\n",
       " Row(userId='98', firstname='Sawyer', page='NextSong', level='free', song='Blue Orchid'),\n",
       " Row(userId='98', firstname='Sawyer', page='NextSong', level='free', song='Pieces Of Me'),\n",
       " Row(userId='98', firstname='Sawyer', page='Thumbs Up', level='free', song=None),\n",
       " Row(userId='98', firstname='Sawyer', page='NextSong', level='free', song='Photographs'),\n",
       " Row(userId='98', firstname='Sawyer', page='NextSong', level='free', song=\"Ain't That Peculiar\"),\n",
       " Row(userId='98', firstname='Sawyer', page='NextSong', level='free', song='Hello'),\n",
       " Row(userId='98', firstname='Sawyer', page='NextSong', level='free', song=\"la possibilitÃ\\x83Â© d'une Ã\\x83Â®le\"),\n",
       " Row(userId='98', firstname='Sawyer', page='Thumbs Up', level='free', song=None),\n",
       " Row(userId='98', firstname='Sawyer', page='NextSong', level='free', song='Love Story'),\n",
       " Row(userId='98', firstname='Sawyer', page='Home', level='free', song=None),\n",
       " Row(userId='98', firstname='Sawyer', page='NextSong', level='free', song=\"That Ain't The Way To Behave (2006 Digital Remaster)\"),\n",
       " Row(userId='98', firstname='Sawyer', page='Roll Advert', level='free', song=None),\n",
       " Row(userId='98', firstname='Sawyer', page='NextSong', level='free', song='I Can Go Deep (LP Version)'),\n",
       " Row(userId='98', firstname='Sawyer', page='Roll Advert', level='free', song=None),\n",
       " Row(userId='98', firstname='Sawyer', page='Home', level='free', song=None),\n",
       " Row(userId='98', firstname='Sawyer', page='NextSong', level='free', song='The Funeral (Album Version)'),\n",
       " Row(userId='98', firstname='Sawyer', page='NextSong', level='free', song='Alejandro'),\n",
       " Row(userId='98', firstname='Sawyer', page='NextSong', level='free', song='Daylight'),\n",
       " Row(userId='98', firstname='Sawyer', page='NextSong', level='free', song='Higher Messiah'),\n",
       " Row(userId='98', firstname='Sawyer', page='Logout', level='free', song=None),\n",
       " Row(userId='98', firstname='Sawyer', page='Home', level='free', song=None),\n",
       " Row(userId='98', firstname='Sawyer', page='NextSong', level='free', song='Madre Tierra'),\n",
       " Row(userId='98', firstname='Sawyer', page='NextSong', level='free', song='1517'),\n",
       " Row(userId='98', firstname='Sawyer', page='NextSong', level='free', song='Hide & Seek'),\n",
       " Row(userId='98', firstname='Sawyer', page='NextSong', level='free', song='I Gotta Feeling'),\n",
       " Row(userId='98', firstname='Sawyer', page='Roll Advert', level='free', song=None),\n",
       " Row(userId='98', firstname='Sawyer', page='NextSong', level='free', song='Jack & Diane'),\n",
       " Row(userId='98', firstname='Sawyer', page='NextSong', level='free', song='The Ice Is Getting Thinner (Album Version)'),\n",
       " Row(userId='98', firstname='Sawyer', page='NextSong', level='free', song='Head Over Heels'),\n",
       " Row(userId='98', firstname='Sawyer', page='NextSong', level='free', song='Christmas Is My Favorite Time Of The Year'),\n",
       " Row(userId='98', firstname='Sawyer', page='NextSong', level='free', song='Dog Days Are Over (Demo)'),\n",
       " Row(userId='98', firstname='Sawyer', page='NextSong', level='free', song='Colourful'),\n",
       " Row(userId='98', firstname='Sawyer', page='NextSong', level='free', song='Taste The Pain'),\n",
       " Row(userId='98', firstname='Sawyer', page='NextSong', level='free', song='Jefferson Aeroplane [Demo]'),\n",
       " Row(userId='98', firstname='Sawyer', page='NextSong', level='free', song='I Hate Everything About You'),\n",
       " Row(userId='98', firstname='Sawyer', page='NextSong', level='free', song='Slave To Love (1999 Digital Remaster)'),\n",
       " Row(userId='98', firstname='Sawyer', page='NextSong', level='free', song='Hey_ Soul Sister'),\n",
       " Row(userId='98', firstname='Sawyer', page='NextSong', level='free', song='Every Lasting Light'),\n",
       " Row(userId='98', firstname='Sawyer', page='NextSong', level='free', song='To Speak Your Name (Split Trax)'),\n",
       " Row(userId='98', firstname='Sawyer', page='NextSong', level='free', song='A Mile In My Shoes ft. Sir Adrian'),\n",
       " Row(userId='98', firstname='Sawyer', page='Roll Advert', level='free', song=None),\n",
       " Row(userId='98', firstname='Sawyer', page='NextSong', level='free', song='I Second That Emotion'),\n",
       " Row(userId='98', firstname='Sawyer', page='Thumbs Up', level='free', song=None),\n",
       " Row(userId='98', firstname='Sawyer', page='NextSong', level='free', song=\"Nothin' On You [feat. Bruno Mars] (Album Version)\"),\n",
       " Row(userId='98', firstname='Sawyer', page='Roll Advert', level='free', song=None),\n",
       " Row(userId='98', firstname='Sawyer', page='NextSong', level='free', song='Mia'),\n",
       " Row(userId='98', firstname='Sawyer', page='NextSong', level='free', song=\"Sugar_ We're Goin Down\"),\n",
       " Row(userId='98', firstname='Sawyer', page='NextSong', level='free', song='Billionaire [feat. Bruno Mars]  (Explicit Album Version)'),\n",
       " Row(userId='98', firstname='Sawyer', page='NextSong', level='free', song='Love Story'),\n",
       " Row(userId='98', firstname='Sawyer', page='NextSong', level='free', song='Robot Rock'),\n",
       " Row(userId='98', firstname='Sawyer', page='NextSong', level='free', song=\"Amigo (7'' Edit)\"),\n",
       " Row(userId='98', firstname='Sawyer', page='NextSong', level='free', song='Roger That'),\n",
       " Row(userId='98', firstname='Sawyer', page='Logout', level='free', song=None),\n",
       " Row(userId='98', firstname='Sawyer', page='Home', level='free', song=None),\n",
       " Row(userId='98', firstname='Sawyer', page='NextSong', level='free', song='Pela Janela (Through the Window) featuring Gigi Rezende'),\n",
       " Row(userId='98', firstname='Sawyer', page='Roll Advert', level='free', song=None),\n",
       " Row(userId='98', firstname='Sawyer', page='NextSong', level='free', song='My Boy Builds Coffins'),\n",
       " Row(userId='98', firstname='Sawyer', page='Roll Advert', level='free', song=None),\n",
       " Row(userId='98', firstname='Sawyer', page='NextSong', level='free', song='Woodstock'),\n",
       " Row(userId='98', firstname='Sawyer', page='NextSong', level='free', song='Murano'),\n",
       " Row(userId='98', firstname='Sawyer', page='NextSong', level='free', song='Lasso'),\n",
       " Row(userId='98', firstname='Sawyer', page='NextSong', level='free', song='Smoke Some Weed (edited version)'),\n",
       " Row(userId='98', firstname='Sawyer', page='Logout', level='free', song=None),\n",
       " Row(userId='98', firstname='Sawyer', page='Home', level='free', song=None),\n",
       " Row(userId='98', firstname='Sawyer', page='NextSong', level='free', song='Gears'),\n",
       " Row(userId='98', firstname='Sawyer', page='Roll Advert', level='free', song=None),\n",
       " Row(userId='98', firstname='Sawyer', page='NextSong', level='free', song='Creep (Explicit)'),\n",
       " Row(userId='98', firstname='Sawyer', page='Error', level='free', song=None),\n",
       " Row(userId='98', firstname='Sawyer', page='NextSong', level='free', song='Easy'),\n",
       " Row(userId='98', firstname='Sawyer', page='Add to Playlist', level='free', song=None),\n",
       " Row(userId='98', firstname='Sawyer', page='NextSong', level='free', song=\"There's a Better Way\"),\n",
       " Row(userId='98', firstname='Sawyer', page='NextSong', level='free', song='Without Lions'),\n",
       " Row(userId='98', firstname='Sawyer', page='NextSong', level='free', song='Rolodex Propaganda'),\n",
       " Row(userId='98', firstname='Sawyer', page='NextSong', level='free', song='Revelry'),\n",
       " Row(userId='98', firstname='Sawyer', page='Thumbs Up', level='free', song=None),\n",
       " Row(userId='98', firstname='Sawyer', page='NextSong', level='free', song='El Cantor De Fonseca'),\n",
       " Row(userId='98', firstname='Sawyer', page='NextSong', level='free', song=\"It's Not The End Of The World?\"),\n",
       " Row(userId='98', firstname='Sawyer', page='NextSong', level='free', song='Everything In Its Right Place'),\n",
       " Row(userId='98', firstname='Sawyer', page='NextSong', level='free', song='Sacrifice'),\n",
       " Row(userId='98', firstname='Sawyer', page='Add to Playlist', level='free', song=None),\n",
       " Row(userId='98', firstname='Sawyer', page='NextSong', level='free', song='Forgot About Dre'),\n",
       " Row(userId='98', firstname='Sawyer', page='NextSong', level='free', song='The Scientist'),\n",
       " Row(userId='98', firstname='Sawyer', page='Logout', level='free', song=None),\n",
       " Row(userId='98', firstname='Sawyer', page='Home', level='free', song=None),\n",
       " Row(userId='98', firstname='Sawyer', page='NextSong', level='free', song='The Summer'),\n",
       " Row(userId='98', firstname='Sawyer', page='Thumbs Up', level='free', song=None),\n",
       " Row(userId='98', firstname='Sawyer', page='NextSong', level='free', song='Rehab'),\n",
       " Row(userId='98', firstname='Sawyer', page='Home', level='free', song=None),\n",
       " Row(userId='98', firstname='Sawyer', page='NextSong', level='free', song='Mother Of Abominations (Album Version)'),\n",
       " Row(userId='98', firstname='Sawyer', page='Add to Playlist', level='free', song=None),\n",
       " Row(userId='98', firstname='Sawyer', page='NextSong', level='free', song='Kansas City'),\n",
       " Row(userId='98', firstname='Sawyer', page='NextSong', level='free', song='BreÃ\\x83Â±a'),\n",
       " Row(userId='98', firstname='Sawyer', page='NextSong', level='free', song='Composure'),\n",
       " Row(userId='98', firstname='Sawyer', page='NextSong', level='free', song=\"Adam's Song\"),\n",
       " Row(userId='98', firstname='Sawyer', page='NextSong', level='free', song=\"Wavin'  Flag\"),\n",
       " Row(userId='98', firstname='Sawyer', page='NextSong', level='free', song='Soft Shock'),\n",
       " Row(userId='98', firstname='Sawyer', page='Roll Advert', level='free', song=None),\n",
       " Row(userId='98', firstname='Sawyer', page='NextSong', level='free', song='SinceritÃ\\x83Â© Et Jalousie'),\n",
       " Row(userId='98', firstname='Sawyer', page='NextSong', level='free', song='Pursuit Of Happiness (nightmare)'),\n",
       " Row(userId='98', firstname='Sawyer', page='NextSong', level='free', song='Flagpole Sitta'),\n",
       " Row(userId='98', firstname='Sawyer', page='NextSong', level='free', song='Blue'),\n",
       " Row(userId='98', firstname='Sawyer', page='NextSong', level='free', song='Take A Bow'),\n",
       " Row(userId='98', firstname='Sawyer', page='NextSong', level='free', song='Catch You Baby (Steve Pitron & Max Sanna Radio Edit)'),\n",
       " Row(userId='98', firstname='Sawyer', page='Thumbs Up', level='free', song=None),\n",
       " Row(userId='98', firstname='Sawyer', page='NextSong', level='free', song='Pure Funk'),\n",
       " Row(userId='98', firstname='Sawyer', page='Thumbs Up', level='free', song=None),\n",
       " Row(userId='98', firstname='Sawyer', page='NextSong', level='free', song=\"Don't Think I Don't Think About It\"),\n",
       " Row(userId='98', firstname='Sawyer', page='Add Friend', level='free', song=None),\n",
       " Row(userId='98', firstname='Sawyer', page='Help', level='free', song=None),\n",
       " Row(userId='98', firstname='Sawyer', page='Home', level='free', song=None),\n",
       " Row(userId='98', firstname='Sawyer', page='NextSong', level='free', song='Stricken'),\n",
       " Row(userId='98', firstname='Sawyer', page='Logout', level='free', song=None),\n",
       " Row(userId='98', firstname='Sawyer', page='Home', level='free', song=None),\n",
       " Row(userId='98', firstname='Sawyer', page='Add Friend', level='free', song=None),\n",
       " Row(userId='98', firstname='Sawyer', page='NextSong', level='free', song='Someone Great'),\n",
       " Row(userId='98', firstname='Sawyer', page='NextSong', level='free', song='Bubble Toes'),\n",
       " Row(userId='98', firstname='Sawyer', page='NextSong', level='free', song='A Thousand Miles'),\n",
       " Row(userId='98', firstname='Sawyer', page='NextSong', level='free', song='Find The Reason (Album Version)'),\n",
       " Row(userId='98', firstname='Sawyer', page='Add Friend', level='free', song=None),\n",
       " Row(userId='98', firstname='Sawyer', page='NextSong', level='free', song='Troubled Waters'),\n",
       " Row(userId='98', firstname='Sawyer', page='NextSong', level='free', song='Rain Is A Good Thing'),\n",
       " Row(userId='98', firstname='Sawyer', page='NextSong', level='free', song='Dust In The Wind'),\n",
       " Row(userId='98', firstname='Sawyer', page='NextSong', level='free', song='Up Up & Away'),\n",
       " Row(userId='98', firstname='Sawyer', page='NextSong', level='free', song='Drop The World'),\n",
       " Row(userId='98', firstname='Sawyer', page='NextSong', level='free', song='Outshined'),\n",
       " Row(userId='98', firstname='Sawyer', page='NextSong', level='free', song='Sooner Surrender'),\n",
       " Row(userId='98', firstname='Sawyer', page='NextSong', level='free', song='La Pared'),\n",
       " Row(userId='98', firstname='Sawyer', page='NextSong', level='free', song='Joy Ride'),\n",
       " Row(userId='98', firstname='Sawyer', page='NextSong', level='free', song='Map Of The Problematique'),\n",
       " Row(userId='98', firstname='Sawyer', page='NextSong', level='free', song='Do You Wanna Dance? (9-11-01)'),\n",
       " Row(userId='98', firstname='Sawyer', page='NextSong', level='free', song='Emnete'),\n",
       " Row(userId='98', firstname='Sawyer', page='Roll Advert', level='free', song=None),\n",
       " Row(userId='98', firstname='Sawyer', page='NextSong', level='free', song='You And Me Jesus'),\n",
       " Row(userId='98', firstname='Sawyer', page='NextSong', level='free', song='Corazon Espinado'),\n",
       " Row(userId='98', firstname='Sawyer', page='NextSong', level='free', song='You Gave Me A Promise'),\n",
       " Row(userId='98', firstname='Sawyer', page='Add to Playlist', level='free', song=None),\n",
       " Row(userId='98', firstname='Sawyer', page='NextSong', level='free', song='Crash'),\n",
       " Row(userId='98', firstname='Sawyer', page='NextSong', level='free', song=\"Everything's Ruined\"),\n",
       " Row(userId='98', firstname='Sawyer', page='NextSong', level='free', song='!@*$%#'),\n",
       " Row(userId='98', firstname='Sawyer', page='NextSong', level='free', song='Dance Stance'),\n",
       " Row(userId='98', firstname='Sawyer', page='NextSong', level='free', song=\"Frisch und g'sund\"),\n",
       " Row(userId='98', firstname='Sawyer', page='NextSong', level='free', song='Permanent'),\n",
       " Row(userId='98', firstname='Sawyer', page='Upgrade', level='free', song=None),\n",
       " Row(userId='98', firstname='Sawyer', page='NextSong', level='free', song='Only Superstition'),\n",
       " Row(userId='98', firstname='Sawyer', page='NextSong', level='free', song='Blind'),\n",
       " Row(userId='98', firstname='Sawyer', page='NextSong', level='free', song='Heiterkeit'),\n",
       " Row(userId='98', firstname='Sawyer', page='NextSong', level='free', song='Sehr kosmisch'),\n",
       " Row(userId='98', firstname='Sawyer', page='NextSong', level='free', song='Unwell (Album Version)'),\n",
       " Row(userId='98', firstname='Sawyer', page='NextSong', level='free', song='Cacca Nello Spazio'),\n",
       " Row(userId='98', firstname='Sawyer', page='Roll Advert', level='free', song=None),\n",
       " Row(userId='98', firstname='Sawyer', page='NextSong', level='free', song='The Real Slim Shady'),\n",
       " Row(userId='98', firstname='Sawyer', page='NextSong', level='free', song='Never Before'),\n",
       " Row(userId='98', firstname='Sawyer', page='NextSong', level='free', song='The Game (Amended Version)'),\n",
       " Row(userId='98', firstname='Sawyer', page='NextSong', level='free', song='White Flag Warrior'),\n",
       " Row(userId='98', firstname='Sawyer', page='NextSong', level='free', song='Melanor'),\n",
       " Row(userId='98', firstname='Sawyer', page='Thumbs Up', level='free', song=None),\n",
       " Row(userId='98', firstname='Sawyer', page='NextSong', level='free', song='Not Sorry'),\n",
       " Row(userId='98', firstname='Sawyer', page='NextSong', level='free', song='Someday'),\n",
       " Row(userId='98', firstname='Sawyer', page='NextSong', level='free', song='Fly High Michelle (LP Version)'),\n",
       " Row(userId='98', firstname='Sawyer', page='NextSong', level='free', song='The Divided Sky (LP Version)'),\n",
       " Row(userId='98', firstname='Sawyer', page='NextSong', level='free', song=\"The Remedy (I Won't Worry) (New EQ'd LP Version)\"),\n",
       " Row(userId='98', firstname='Sawyer', page='NextSong', level='free', song='Stargazer'),\n",
       " Row(userId='98', firstname='Sawyer', page='NextSong', level='free', song=\"Kissin' Ears [feat. The-Dream] (Explicit Album Version)\"),\n",
       " Row(userId='98', firstname='Sawyer', page='Add to Playlist', level='free', song=None),\n",
       " Row(userId='98', firstname='Sawyer', page='NextSong', level='free', song='Edge Of Love'),\n",
       " Row(userId='98', firstname='Sawyer', page='NextSong', level='free', song='Money Straight (Explicit Album Version)'),\n",
       " Row(userId='98', firstname='Sawyer', page='Thumbs Up', level='free', song=None),\n",
       " Row(userId='98', firstname='Sawyer', page='Home', level='free', song=None),\n",
       " Row(userId='98', firstname='Sawyer', page='NextSong', level='free', song='No You Girls'),\n",
       " Row(userId='98', firstname='Sawyer', page='NextSong', level='free', song='Daisies Of The Galaxy'),\n",
       " Row(userId='98', firstname='Sawyer', page='NextSong', level='free', song='No Llores'),\n",
       " Row(userId='98', firstname='Sawyer', page='NextSong', level='free', song=\"I've Got The World On A String (1995 Digital Remaster)\"),\n",
       " Row(userId='98', firstname='Sawyer', page='Roll Advert', level='free', song=None),\n",
       " Row(userId='98', firstname='Sawyer', page='NextSong', level='free', song='Hazey Jane I'),\n",
       " Row(userId='98', firstname='Sawyer', page='Thumbs Up', level='free', song=None),\n",
       " Row(userId='98', firstname='Sawyer', page='NextSong', level='free', song='Vix Tape Tappeh'),\n",
       " Row(userId='98', firstname='Sawyer', page='NextSong', level='free', song='Leaving In The Morning'),\n",
       " Row(userId='98', firstname='Sawyer', page='NextSong', level='free', song=\"'Round Midnight\"),\n",
       " Row(userId='98', firstname='Sawyer', page='Error', level='free', song=None),\n",
       " Row(userId='98', firstname='Sawyer', page='NextSong', level='free', song=\"Don't Pull Your Love\"),\n",
       " Row(userId='98', firstname='Sawyer', page='Home', level='free', song=None),\n",
       " Row(userId='98', firstname='Sawyer', page='NextSong', level='free', song='Sweet And Wild'),\n",
       " Row(userId='98', firstname='Sawyer', page='NextSong', level='free', song='Dissident'),\n",
       " Row(userId='98', firstname='Sawyer', page='Upgrade', level='free', song=None),\n",
       " Row(userId='98', firstname='Sawyer', page='Submit Upgrade', level='free', song=None),\n",
       " Row(userId='98', firstname='Sawyer', page='Home', level='paid', song=None),\n",
       " Row(userId='98', firstname='Sawyer', page='NextSong', level='paid', song='Kick Drum'),\n",
       " Row(userId='98', firstname='Sawyer', page='Downgrade', level='paid', song=None),\n",
       " Row(userId='98', firstname='Sawyer', page='NextSong', level='paid', song='Give It To Me'),\n",
       " Row(userId='98', firstname='Sawyer', page='NextSong', level='paid', song='Horn Concerto No. 4 in E flat K495: II. Romance (Andante cantabile)'),\n",
       " Row(userId='98', firstname='Sawyer', page='NextSong', level='paid', song='Oh Lord_ give us more money'),\n",
       " Row(userId='98', firstname='Sawyer', page='NextSong', level='paid', song='Ravenous (Album Version)'),\n",
       " Row(userId='98', firstname='Sawyer', page='NextSong', level='paid', song='Third Party'),\n",
       " Row(userId='98', firstname='Sawyer', page='NextSong', level='paid', song='Angie (Album Version)'),\n",
       " Row(userId='98', firstname='Sawyer', page='NextSong', level='paid', song='Beautiful'),\n",
       " Row(userId='98', firstname='Sawyer', page='NextSong', level='paid', song='Hotel California'),\n",
       " Row(userId='98', firstname='Sawyer', page='NextSong', level='paid', song='La Guerra'),\n",
       " Row(userId='98', firstname='Sawyer', page='NextSong', level='paid', song='2 Late 4 Love'),\n",
       " Row(userId='98', firstname='Sawyer', page='NextSong', level='paid', song='The Tempest (album version)'),\n",
       " Row(userId='98', firstname='Sawyer', page='NextSong', level='paid', song='Tension'),\n",
       " Row(userId='98', firstname='Sawyer', page='NextSong', level='paid', song='Fools'),\n",
       " Row(userId='98', firstname='Sawyer', page='NextSong', level='paid', song='Iron Maiden (Live In Dortmund)'),\n",
       " Row(userId='98', firstname='Sawyer', page='NextSong', level='paid', song='Almaz'),\n",
       " Row(userId='98', firstname='Sawyer', page='NextSong', level='paid', song=\"No_ It Isn't\"),\n",
       " Row(userId='98', firstname='Sawyer', page='NextSong', level='paid', song='Who is the Black Angel?'),\n",
       " Row(userId='98', firstname='Sawyer', page='NextSong', level='paid', song='Revelry'),\n",
       " Row(userId='98', firstname='Sawyer', page='NextSong', level='paid', song='Redneck Woman'),\n",
       " Row(userId='98', firstname='Sawyer', page='NextSong', level='paid', song='Fly (The Face Of Love Album Version)'),\n",
       " Row(userId='98', firstname='Sawyer', page='NextSong', level='paid', song=\"'Till I Collapse\"),\n",
       " Row(userId='98', firstname='Sawyer', page='Home', level='paid', song=None),\n",
       " Row(userId='98', firstname='Sawyer', page='NextSong', level='paid', song='White Jetta'),\n",
       " Row(userId='98', firstname='Sawyer', page='Thumbs Up', level='paid', song=None),\n",
       " Row(userId='98', firstname='Sawyer', page='NextSong', level='paid', song='Hail To Whatever You Found In The Sunlight That Surrounds You'),\n",
       " Row(userId='98', firstname='Sawyer', page='NextSong', level='paid', song='Sometimes I Feel Like A Motherless Child (2004 Digital Remaster)'),\n",
       " Row(userId='98', firstname='Sawyer', page='NextSong', level='paid', song='En La Ciudad De La Furia'),\n",
       " Row(userId='98', firstname='Sawyer', page='NextSong', level='paid', song='What Are You Doing The Rest Of Your Life?'),\n",
       " Row(userId='98', firstname='Sawyer', page='NextSong', level='paid', song='Le Courage Des Oiseaux'),\n",
       " Row(userId='98', firstname='Sawyer', page='NextSong', level='paid', song='We Could Run Away (Album Version)'),\n",
       " Row(userId='98', firstname='Sawyer', page='NextSong', level='paid', song='Rocket Queen'),\n",
       " Row(userId='98', firstname='Sawyer', page='Add to Playlist', level='paid', song=None),\n",
       " Row(userId='98', firstname='Sawyer', page='NextSong', level='paid', song='Calyx'),\n",
       " Row(userId='98', firstname='Sawyer', page='NextSong', level='paid', song='Transcendence'),\n",
       " Row(userId='98', firstname='Sawyer', page='NextSong', level='paid', song=\"(I'm A) Donkey for Your Love\"),\n",
       " Row(userId='98', firstname='Sawyer', page='NextSong', level='paid', song='Two Little Girls From Little Rock'),\n",
       " Row(userId='98', firstname='Sawyer', page='NextSong', level='paid', song='The Nutcracker - Suite Op. 71a (2007 Digital Remaster): I.    Miniature Overture'),\n",
       " Row(userId='98', firstname='Sawyer', page='NextSong', level='paid', song='Pump It'),\n",
       " Row(userId='98', firstname='Sawyer', page='NextSong', level='paid', song='Damelo'),\n",
       " Row(userId='98', firstname='Sawyer', page='NextSong', level='paid', song='Adrenalin'),\n",
       " Row(userId='98', firstname='Sawyer', page='NextSong', level='paid', song='Dumb It Down (feat. GemStones and Graham Burris) (Amended Album Version)'),\n",
       " Row(userId='98', firstname='Sawyer', page='Thumbs Down', level='paid', song=None),\n",
       " Row(userId='98', firstname='Sawyer', page='NextSong', level='paid', song='Not An Addict'),\n",
       " Row(userId='98', firstname='Sawyer', page='NextSong', level='paid', song='Get Original'),\n",
       " Row(userId='98', firstname='Sawyer', page='NextSong', level='paid', song=\"That's How Country Boys Roll\"),\n",
       " Row(userId='98', firstname='Sawyer', page='NextSong', level='paid', song='The Way Things Go'),\n",
       " Row(userId='98', firstname='Sawyer', page='NextSong', level='paid', song='Jamaica Roots II(Agora E Sempre)'),\n",
       " Row(userId='98', firstname='Sawyer', page='NextSong', level='paid', song='For Once In My Life (Album Version)'),\n",
       " Row(userId='98', firstname='Sawyer', page='NextSong', level='paid', song='Catacombs'),\n",
       " Row(userId='98', firstname='Sawyer', page='NextSong', level='paid', song=\"Lovin' You Is Sweeter Than Ever feat Donna Gardier)\"),\n",
       " Row(userId='98', firstname='Sawyer', page='NextSong', level='paid', song='Cream'),\n",
       " Row(userId='98', firstname='Sawyer', page='NextSong', level='paid', song='Negative Creep'),\n",
       " Row(userId='98', firstname='Sawyer', page='Thumbs Up', level='paid', song=None),\n",
       " Row(userId='98', firstname='Sawyer', page='NextSong', level='paid', song='Lonely (Album Version)'),\n",
       " Row(userId='98', firstname='Sawyer', page='Add to Playlist', level='paid', song=None),\n",
       " Row(userId='98', firstname='Sawyer', page='NextSong', level='paid', song='Opened Once'),\n",
       " Row(userId='98', firstname='Sawyer', page='NextSong', level='paid', song='Hold You In My Arms'),\n",
       " Row(userId='98', firstname='Sawyer', page='Thumbs Up', level='paid', song=None),\n",
       " Row(userId='98', firstname='Sawyer', page='NextSong', level='paid', song=\"This Ain't A Love Song\"),\n",
       " Row(userId='98', firstname='Sawyer', page='NextSong', level='paid', song=\"I'm Saving My Love\"),\n",
       " Row(userId='98', firstname='Sawyer', page='NextSong', level='paid', song='Stare At The Sun'),\n",
       " Row(userId='98', firstname='Sawyer', page='NextSong', level='paid', song='I Kissed A Girl'),\n",
       " Row(userId='98', firstname='Sawyer', page='NextSong', level='paid', song='Dog Days Are Over (Radio Edit)'),\n",
       " Row(userId='98', firstname='Sawyer', page='NextSong', level='paid', song='Run Through The Jungle'),\n",
       " Row(userId='98', firstname='Sawyer', page='NextSong', level='paid', song='Wizards'),\n",
       " Row(userId='98', firstname='Sawyer', page='NextSong', level='paid', song='Heist Manoeuvre'),\n",
       " Row(userId='98', firstname='Sawyer', page='Logout', level='paid', song=None),\n",
       " Row(userId='98', firstname='Sawyer', page='Home', level='paid', song=None),\n",
       " Row(userId='98', firstname='Sawyer', page='NextSong', level='paid', song='Masquerade (Reality Check Album Version)'),\n",
       " Row(userId='98', firstname='Sawyer', page='NextSong', level='paid', song='Hemma FÃ\\x83Â¶re MÃ\\x83Â¶rkret'),\n",
       " Row(userId='98', firstname='Sawyer', page='NextSong', level='paid', song='Catch You Baby (Steve Pitron & Max Sanna Radio Edit)'),\n",
       " Row(userId='98', firstname='Sawyer', page='NextSong', level='paid', song='O Segundo Sol'),\n",
       " Row(userId='98', firstname='Sawyer', page='NextSong', level='paid', song='Straight To The Bank'),\n",
       " Row(userId='98', firstname='Sawyer', page='NextSong', level='paid', song='One More Time (Short Radio Edit)'),\n",
       " Row(userId='98', firstname='Sawyer', page='NextSong', level='paid', song='I Need A Man To Love'),\n",
       " Row(userId='98', firstname='Sawyer', page='Logout', level='paid', song=None),\n",
       " Row(userId='98', firstname='Sawyer', page='Home', level='paid', song=None),\n",
       " Row(userId='98', firstname='Sawyer', page='NextSong', level='paid', song='Rabbit Heart (Raise It Up)'),\n",
       " Row(userId='98', firstname='Sawyer', page='NextSong', level='paid', song='Interactive Halloween Bear'),\n",
       " Row(userId='98', firstname='Sawyer', page='NextSong', level='paid', song='Pick Up'),\n",
       " Row(userId='98', firstname='Sawyer', page='NextSong', level='paid', song='Float On'),\n",
       " Row(userId='98', firstname='Sawyer', page='NextSong', level='paid', song='A Certain Romance'),\n",
       " Row(userId='98', firstname='Sawyer', page='Settings', level='paid', song=None),\n",
       " Row(userId='98', firstname='Sawyer', page='NextSong', level='paid', song='The Pretender'),\n",
       " Row(userId='98', firstname='Sawyer', page='Help', level='paid', song=None),\n",
       " Row(userId='98', firstname='Sawyer', page='Home', level='paid', song=None),\n",
       " Row(userId='98', firstname='Sawyer', page='NextSong', level='paid', song='Abrazame'),\n",
       " Row(userId='98', firstname='Sawyer', page='NextSong', level='paid', song='World Turning (LP Version)'),\n",
       " Row(userId='98', firstname='Sawyer', page='NextSong', level='paid', song=\"I CAN'T GET STARTED\"),\n",
       " Row(userId='98', firstname='Sawyer', page='NextSong', level='paid', song='These Arms Of Mine'),\n",
       " Row(userId='98', firstname='Sawyer', page='NextSong', level='paid', song='Fireflies'),\n",
       " Row(userId='98', firstname='Sawyer', page='NextSong', level='paid', song='Paradigm Shift'),\n",
       " Row(userId='98', firstname='Sawyer', page='NextSong', level='paid', song='Losing My Edge'),\n",
       " Row(userId='98', firstname='Sawyer', page='Add to Playlist', level='paid', song=None),\n",
       " Row(userId='98', firstname='Sawyer', page='NextSong', level='paid', song='Wish'),\n",
       " Row(userId='98', firstname='Sawyer', page='Logout', level='paid', song=None),\n",
       " Row(userId='98', firstname='Sawyer', page='Home', level='paid', song=None),\n",
       " Row(userId='98', firstname='Sawyer', page='NextSong', level='paid', song='Revelry'),\n",
       " Row(userId='98', firstname='Sawyer', page='NextSong', level='paid', song='Yeah!'),\n",
       " Row(userId='98', firstname='Sawyer', page='NextSong', level='paid', song='Too Fine To Do Time'),\n",
       " Row(userId='98', firstname='Sawyer', page='NextSong', level='paid', song='Little Motel'),\n",
       " Row(userId='98', firstname='Sawyer', page='NextSong', level='paid', song=\"I Guess I'm Floating\"),\n",
       " Row(userId='98', firstname='Sawyer', page='NextSong', level='paid', song='Magnetising'),\n",
       " Row(userId='98', firstname='Sawyer', page='NextSong', level='paid', song='I Am Civil Service'),\n",
       " Row(userId='98', firstname='Sawyer', page='NextSong', level='paid', song='Concera'),\n",
       " Row(userId='98', firstname='Sawyer', page='NextSong', level='paid', song='Per Te (Album Version)'),\n",
       " Row(userId='98', firstname='Sawyer', page='NextSong', level='paid', song='Rest Stop (LP Version)'),\n",
       " Row(userId='98', firstname='Sawyer', page='NextSong', level='paid', song='Jewel'),\n",
       " Row(userId='98', firstname='Sawyer', page='NextSong', level='paid', song='Party All Day'),\n",
       " Row(userId='98', firstname='Sawyer', page='NextSong', level='paid', song='YÃ\\x83Â¶n hetket'),\n",
       " Row(userId='98', firstname='Sawyer', page='NextSong', level='paid', song='Do Me Again (2007 Digital Remaster)'),\n",
       " Row(userId='98', firstname='Sawyer', page='NextSong', level='paid', song=\"When I'm Gone (Acoustic Version)\"),\n",
       " Row(userId='98', firstname='Sawyer', page='NextSong', level='paid', song='Lean Back [Remix feat. Lil Jon_ Eminem_ Mase & Remy Martin] (Album Version - Amended)'),\n",
       " Row(userId='98', firstname='Sawyer', page='Home', level='paid', song=None),\n",
       " Row(userId='98', firstname='Sawyer', page='NextSong', level='paid', song='16 Candles'),\n",
       " Row(userId='98', firstname='Sawyer', page='NextSong', level='paid', song='Tears In Heaven'),\n",
       " Row(userId='98', firstname='Sawyer', page='NextSong', level='paid', song=\"I Don't Need A Man\"),\n",
       " Row(userId='98', firstname='Sawyer', page='Thumbs Up', level='paid', song=None),\n",
       " Row(userId='98', firstname='Sawyer', page='NextSong', level='paid', song='Swordfish Hotkiss Night'),\n",
       " Row(userId='98', firstname='Sawyer', page='Home', level='paid', song=None),\n",
       " Row(userId='98', firstname='Sawyer', page='NextSong', level='paid', song=\"Frisch und g'sund\"),\n",
       " Row(userId='98', firstname='Sawyer', page='Help', level='paid', song=None),\n",
       " Row(userId='98', firstname='Sawyer', page='NextSong', level='paid', song='Habalim'),\n",
       " Row(userId='98', firstname='Sawyer', page='Thumbs Up', level='paid', song=None),\n",
       " Row(userId='98', firstname='Sawyer', page='NextSong', level='paid', song=\"That's Why I Love You So\"),\n",
       " Row(userId='98', firstname='Sawyer', page='NextSong', level='paid', song=\"Frisch und g'sund\"),\n",
       " Row(userId='98', firstname='Sawyer', page='NextSong', level='paid', song='Angel Face'),\n",
       " Row(userId='98', firstname='Sawyer', page='NextSong', level='paid', song=\"It's Never Too Late (Album Version)\"),\n",
       " Row(userId='98', firstname='Sawyer', page='NextSong', level='paid', song='Veleta (En Vivo Auditorio Nacional)'),\n",
       " Row(userId='98', firstname='Sawyer', page='NextSong', level='paid', song='Undantag'),\n",
       " Row(userId='98', firstname='Sawyer', page='NextSong', level='paid', song='One People'),\n",
       " Row(userId='98', firstname='Sawyer', page='NextSong', level='paid', song='A Save Situation (Album Version)'),\n",
       " Row(userId='98', firstname='Sawyer', page='NextSong', level='paid', song='A Beggar On A Beach Of Gold'),\n",
       " Row(userId='98', firstname='Sawyer', page='NextSong', level='paid', song='Neon Knights'),\n",
       " Row(userId='98', firstname='Sawyer', page='NextSong', level='paid', song='I Gotta Feeling'),\n",
       " Row(userId='98', firstname='Sawyer', page='NextSong', level='paid', song='Apple'),\n",
       " Row(userId='98', firstname='Sawyer', page='NextSong', level='paid', song='Shadow Captain (LP Version)'),\n",
       " Row(userId='98', firstname='Sawyer', page='NextSong', level='paid', song='Phantom Lord'),\n",
       " Row(userId='98', firstname='Sawyer', page='Thumbs Up', level='paid', song=None),\n",
       " Row(userId='98', firstname='Sawyer', page='NextSong', level='paid', song='Politik'),\n",
       " Row(userId='98', firstname='Sawyer', page='NextSong', level='paid', song='Land Of Confusion (Album Version)'),\n",
       " Row(userId='98', firstname='Sawyer', page='NextSong', level='paid', song=\"Nothin' On You [feat. Bruno Mars] (Album Version)\"),\n",
       " Row(userId='98', firstname='Sawyer', page='NextSong', level='paid', song='Beauty*2'),\n",
       " Row(userId='98', firstname='Sawyer', page='NextSong', level='paid', song='Orange TrÃ\\x83Â¤gt Nur Die MÃ\\x83Â¼llabfuhr (Go West)'),\n",
       " Row(userId='98', firstname='Sawyer', page='NextSong', level='paid', song='Atlantic'),\n",
       " Row(userId='98', firstname='Sawyer', page='Settings', level='paid', song=None),\n",
       " Row(userId='98', firstname='Sawyer', page='NextSong', level='paid', song='Mas Y Mas (LP Version)'),\n",
       " Row(userId='98', firstname='Sawyer', page='NextSong', level='paid', song='Sometimes When We Touch'),\n",
       " Row(userId='98', firstname='Sawyer', page='NextSong', level='paid', song='Be Somebody'),\n",
       " Row(userId='98', firstname='Sawyer', page='NextSong', level='paid', song='SEQUENCE'),\n",
       " Row(userId='98', firstname='Sawyer', page='NextSong', level='paid', song='My Savior My God (Album Version)'),\n",
       " Row(userId='98', firstname='Sawyer', page='NextSong', level='paid', song='Extra Ordinary (LP Version)'),\n",
       " Row(userId='98', firstname='Sawyer', page='NextSong', level='paid', song='Unknown Soldier'),\n",
       " Row(userId='98', firstname='Sawyer', page='NextSong', level='paid', song=\"Ain't Misbehavin\"),\n",
       " Row(userId='98', firstname='Sawyer', page='NextSong', level='paid', song='Do You Know'),\n",
       " Row(userId='98', firstname='Sawyer', page='NextSong', level='paid', song='Strut (1993 Digital Remaster)'),\n",
       " Row(userId='98', firstname='Sawyer', page='NextSong', level='paid', song=\"You Don't Belong\"),\n",
       " Row(userId='98', firstname='Sawyer', page='NextSong', level='paid', song='Glorious'),\n",
       " Row(userId='98', firstname='Sawyer', page='Add to Playlist', level='paid', song=None),\n",
       " Row(userId='98', firstname='Sawyer', page='NextSong', level='paid', song='Transatlanticism'),\n",
       " Row(userId='98', firstname='Sawyer', page='NextSong', level='paid', song='Indian Deli'),\n",
       " Row(userId='98', firstname='Sawyer', page='NextSong', level='paid', song='Music'),\n",
       " Row(userId='98', firstname='Sawyer', page='NextSong', level='paid', song='Never There'),\n",
       " Row(userId='98', firstname='Sawyer', page='NextSong', level='paid', song=\"Sugar_ We're Goin Down\"),\n",
       " Row(userId='98', firstname='Sawyer', page='NextSong', level='paid', song='The Unbreakable'),\n",
       " Row(userId='98', firstname='Sawyer', page='NextSong', level='paid', song='Bloodline'),\n",
       " Row(userId='98', firstname='Sawyer', page='Add to Playlist', level='paid', song=None),\n",
       " Row(userId='98', firstname='Sawyer', page='NextSong', level='paid', song='Don\\x19t Touch Me'),\n",
       " Row(userId='98', firstname='Sawyer', page='NextSong', level='paid', song='City Love'),\n",
       " Row(userId='98', firstname='Sawyer', page='NextSong', level='paid', song='Piggy'),\n",
       " Row(userId='98', firstname='Sawyer', page='Add to Playlist', level='paid', song=None),\n",
       " Row(userId='98', firstname='Sawyer', page='NextSong', level='paid', song='Sin Documentos'),\n",
       " Row(userId='98', firstname='Sawyer', page='NextSong', level='paid', song='Use Somebody'),\n",
       " Row(userId='98', firstname='Sawyer', page='NextSong', level='paid', song='Commotion'),\n",
       " Row(userId='98', firstname='Sawyer', page='Downgrade', level='paid', song=None),\n",
       " Row(userId='98', firstname='Sawyer', page='Logout', level='paid', song=None),\n",
       " Row(userId='98', firstname='Sawyer', page='Home', level='paid', song=None),\n",
       " Row(userId='98', firstname='Sawyer', page='NextSong', level='paid', song=\"Adam's Song\"),\n",
       " Row(userId='98', firstname='Sawyer', page='NextSong', level='paid', song='Length Of Love'),\n",
       " Row(userId='98', firstname='Sawyer', page='NextSong', level='paid', song='Suspended From Class'),\n",
       " Row(userId='98', firstname='Sawyer', page='Add to Playlist', level='paid', song=None),\n",
       " Row(userId='98', firstname='Sawyer', page='NextSong', level='paid', song='True Spirit (K-klassic Mix)'),\n",
       " Row(userId='98', firstname='Sawyer', page='NextSong', level='paid', song='Rebels of the Sacred Heart'),\n",
       " Row(userId='98', firstname='Sawyer', page='NextSong', level='paid', song='Gonna Make You Love Me'),\n",
       " Row(userId='98', firstname='Sawyer', page='NextSong', level='paid', song='O Pato'),\n",
       " Row(userId='98', firstname='Sawyer', page='NextSong', level='paid', song='Te LastimÃ\\x83Â©'),\n",
       " Row(userId='98', firstname='Sawyer', page='NextSong', level='paid', song='Farewell'),\n",
       " Row(userId='98', firstname='Sawyer', page='NextSong', level='paid', song='Aghia Sophia (2008 Digital Remaster)'),\n",
       " Row(userId='98', firstname='Sawyer', page='Thumbs Up', level='paid', song=None),\n",
       " Row(userId='98', firstname='Sawyer', page='Add to Playlist', level='paid', song=None),\n",
       " Row(userId='98', firstname='Sawyer', page='NextSong', level='paid', song='Road To Zion'),\n",
       " Row(userId='98', firstname='Sawyer', page='NextSong', level='paid', song='Make Her Say'),\n",
       " Row(userId='98', firstname='Sawyer', page='NextSong', level='paid', song='Behind The Sea [Live In Chicago]'),\n",
       " Row(userId='98', firstname='Sawyer', page='NextSong', level='paid', song='Before I Forget (Album Version)'),\n",
       " Row(userId='98', firstname='Sawyer', page='NextSong', level='paid', song='Daydreaming'),\n",
       " Row(userId='98', firstname='Sawyer', page='NextSong', level='paid', song='Ghosts of Ocean Gardens'),\n",
       " Row(userId='98', firstname='Sawyer', page='NextSong', level='paid', song='Whiskey Girl'),\n",
       " Row(userId='98', firstname='Sawyer', page='NextSong', level='paid', song='Somebody Told Me'),\n",
       " Row(userId='98', firstname='Sawyer', page='NextSong', level='paid', song='Heartbeat'),\n",
       " Row(userId='98', firstname='Sawyer', page='NextSong', level='paid', song='Please Please Please Let Me Get What I Want'),\n",
       " Row(userId='98', firstname='Sawyer', page='Thumbs Up', level='paid', song=None),\n",
       " Row(userId='98', firstname='Sawyer', page='NextSong', level='paid', song='Speak'),\n",
       " Row(userId='98', firstname='Sawyer', page='NextSong', level='paid', song='La vida es mas compleja de lo que parece'),\n",
       " Row(userId='98', firstname='Sawyer', page='Home', level='paid', song=None),\n",
       " Row(userId='98', firstname='Sawyer', page='NextSong', level='paid', song=\"Pa'l Norte\"),\n",
       " Row(userId='98', firstname='Sawyer', page='NextSong', level='paid', song='Debajo del mar'),\n",
       " Row(userId='98', firstname='Sawyer', page='NextSong', level='paid', song='Love Ja Ja Children Version'),\n",
       " Row(userId='98', firstname='Sawyer', page='NextSong', level='paid', song='Aerodynamic (Daft Punk Remix)'),\n",
       " Row(userId='98', firstname='Sawyer', page='Settings', level='paid', song=None),\n",
       " Row(userId='98', firstname='Sawyer', page='NextSong', level='paid', song='Paul McCartney'),\n",
       " Row(userId='98', firstname='Sawyer', page='NextSong', level='paid', song='Little Love (Radio Edit)'),\n",
       " Row(userId='98', firstname='Sawyer', page='NextSong', level='paid', song='Due'),\n",
       " Row(userId='98', firstname='Sawyer', page='NextSong', level='paid', song='Feeling This'),\n",
       " Row(userId='98', firstname='Sawyer', page='NextSong', level='paid', song='Rule Of Thumb (Album Version)'),\n",
       " Row(userId='98', firstname='Sawyer', page='NextSong', level='paid', song='Line & Sinker (Album Version)'),\n",
       " Row(userId='98', firstname='Sawyer', page='NextSong', level='paid', song='Piano Music'),\n",
       " Row(userId='98', firstname='Sawyer', page='Logout', level='paid', song=None),\n",
       " Row(userId='98', firstname='Sawyer', page='Home', level='paid', song=None),\n",
       " Row(userId='98', firstname='Sawyer', page='NextSong', level='paid', song='Secrets'),\n",
       " Row(userId='98', firstname='Sawyer', page='NextSong', level='paid', song='Silence'),\n",
       " Row(userId='98', firstname='Sawyer', page='Thumbs Up', level='paid', song=None),\n",
       " Row(userId='98', firstname='Sawyer', page='NextSong', level='paid', song='What A Waster'),\n",
       " Row(userId='98', firstname='Sawyer', page='NextSong', level='paid', song='All-O-Gistics'),\n",
       " Row(userId='98', firstname='Sawyer', page='Add to Playlist', level='paid', song=None),\n",
       " Row(userId='98', firstname='Sawyer', page='NextSong', level='paid', song='Feathers and Down'),\n",
       " Row(userId='98', firstname='Sawyer', page='NextSong', level='paid', song='Me Da Miedo'),\n",
       " Row(userId='98', firstname='Sawyer', page='NextSong', level='paid', song='Recado Falado (MetrÃ\\x83Â´ Da Saudade)'),\n",
       " Row(userId='98', firstname='Sawyer', page='NextSong', level='paid', song=\"Nothin' On You [feat. Bruno Mars] (Album Version)\"),\n",
       " Row(userId='98', firstname='Sawyer', page='NextSong', level='paid', song=\"Goin' Steady\"),\n",
       " Row(userId='98', firstname='Sawyer', page='NextSong', level='paid', song=\"Don't Dance\"),\n",
       " Row(userId='98', firstname='Sawyer', page='NextSong', level='paid', song='Undo'),\n",
       " Row(userId='98', firstname='Sawyer', page='NextSong', level='paid', song=\"Ry Ry's Song (Album Version)\"),\n",
       " Row(userId='98', firstname='Sawyer', page='NextSong', level='paid', song='Please_ Before I Go'),\n",
       " Row(userId='98', firstname='Sawyer', page='NextSong', level='paid', song='Shaving Your Head'),\n",
       " Row(userId='98', firstname='Sawyer', page='NextSong', level='paid', song='Love The Way You Love Me'),\n",
       " Row(userId='98', firstname='Sawyer', page='NextSong', level='paid', song='Nightly Journey'),\n",
       " Row(userId='98', firstname='Sawyer', page='NextSong', level='paid', song='Prince Caspian'),\n",
       " Row(userId='98', firstname='Sawyer', page='NextSong', level='paid', song='Master Of Puppets'),\n",
       " Row(userId='98', firstname='Sawyer', page='Thumbs Down', level='paid', song=None),\n",
       " Row(userId='98', firstname='Sawyer', page='NextSong', level='paid', song='Halfway There'),\n",
       " Row(userId='98', firstname='Sawyer', page='NextSong', level='paid', song='So Wrong (Album Version)'),\n",
       " Row(userId='98', firstname='Sawyer', page='NextSong', level='paid', song=\"You're The One\"),\n",
       " Row(userId='98', firstname='Sawyer', page='NextSong', level='paid', song=\"Everyone's At It\"),\n",
       " Row(userId='98', firstname='Sawyer', page='NextSong', level='paid', song='Black & Blue'),\n",
       " Row(userId='98', firstname='Sawyer', page='NextSong', level='paid', song='Leader Of The Pack'),\n",
       " Row(userId='98', firstname='Sawyer', page='NextSong', level='paid', song='Gears'),\n",
       " Row(userId='98', firstname='Sawyer', page='NextSong', level='paid', song='Osaka Loop Line'),\n",
       " Row(userId='98', firstname='Sawyer', page='NextSong', level='paid', song='Who Can Compare'),\n",
       " Row(userId='98', firstname='Sawyer', page='NextSong', level='paid', song='Fight'),\n",
       " Row(userId='98', firstname='Sawyer', page='NextSong', level='paid', song='Smile Version Revisited (Mark Ronson Remix) (Explicit)'),\n",
       " Row(userId='98', firstname='Sawyer', page='NextSong', level='paid', song='Senhor Do Tempo'),\n",
       " Row(userId='98', firstname='Sawyer', page='NextSong', level='paid', song='Someone Take The Wheel'),\n",
       " Row(userId='98', firstname='Sawyer', page='NextSong', level='paid', song='Silhouette'),\n",
       " Row(userId='98', firstname='Sawyer', page='NextSong', level='paid', song='Going Under'),\n",
       " Row(userId='98', firstname='Sawyer', page='NextSong', level='paid', song='Fix You'),\n",
       " Row(userId='98', firstname='Sawyer', page='Thumbs Down', level='paid', song=None),\n",
       " Row(userId='98', firstname='Sawyer', page='Logout', level='paid', song=None),\n",
       " Row(userId='98', firstname='Sawyer', page='Home', level='paid', song=None),\n",
       " Row(userId='98', firstname='Sawyer', page='NextSong', level='paid', song='Just Stop (Album Version)'),\n",
       " Row(userId='98', firstname='Sawyer', page='NextSong', level='paid', song='Billy Breathes'),\n",
       " Row(userId='98', firstname='Sawyer', page='NextSong', level='paid', song='Have I Been A Fool'),\n",
       " Row(userId='98', firstname='Sawyer', page='NextSong', level='paid', song='Glamour Girl'),\n",
       " Row(userId='98', firstname='Sawyer', page='NextSong', level='paid', song='Cerdo'),\n",
       " Row(userId='98', firstname='Sawyer', page='NextSong', level='paid', song=\"Le Jardin d'Hiver\"),\n",
       " Row(userId='98', firstname='Sawyer', page='NextSong', level='paid', song='Mudfly'),\n",
       " Row(userId='98', firstname='Sawyer', page='NextSong', level='paid', song='Tive Sim'),\n",
       " Row(userId='98', firstname='Sawyer', page='NextSong', level='paid', song='Sei Un Mito'),\n",
       " Row(userId='98', firstname='Sawyer', page='NextSong', level='paid', song='Runaway Love'),\n",
       " Row(userId='98', firstname='Sawyer', page='NextSong', level='paid', song='Speechless'),\n",
       " Row(userId='98', firstname='Sawyer', page='NextSong', level='paid', song='Quando_ Quando_ Quando (Album Version)'),\n",
       " Row(userId='98', firstname='Sawyer', page='Thumbs Up', level='paid', song=None),\n",
       " Row(userId='98', firstname='Sawyer', page='NextSong', level='paid', song='Until The Morning'),\n",
       " Row(userId='98', firstname='Sawyer', page='NextSong', level='paid', song=\"Don't Wake Me Up\"),\n",
       " Row(userId='98', firstname='Sawyer', page='NextSong', level='paid', song='Hole In The Bucket'),\n",
       " Row(userId='98', firstname='Sawyer', page='NextSong', level='paid', song='The Cross [Acoustic]'),\n",
       " Row(userId='98', firstname='Sawyer', page='Add Friend', level='paid', song=None),\n",
       " Row(userId='98', firstname='Sawyer', page='NextSong', level='paid', song='Around The World (Radio Edit)'),\n",
       " Row(userId='98', firstname='Sawyer', page='NextSong', level='paid', song='Shit On You'),\n",
       " Row(userId='98', firstname='Sawyer', page='NextSong', level='paid', song='Unite (2009 Digital Remaster)'),\n",
       " Row(userId='98', firstname='Sawyer', page='NextSong', level='paid', song='All I Could Bleed (LP Version)'),\n",
       " Row(userId='98', firstname='Sawyer', page='NextSong', level='paid', song='Creep (Explicit)'),\n",
       " Row(userId='98', firstname='Sawyer', page='Add to Playlist', level='paid', song=None),\n",
       " Row(userId='98', firstname='Sawyer', page='NextSong', level='paid', song=\"Wine Red (Tommie Sunshine's Brooklyn Fire Retouch)\"),\n",
       " Row(userId='98', firstname='Sawyer', page='NextSong', level='paid', song=\"Won't Go Home Without You\"),\n",
       " Row(userId='98', firstname='Sawyer', page='NextSong', level='paid', song='Unite (2009 Digital Remaster)'),\n",
       " Row(userId='98', firstname='Sawyer', page='NextSong', level='paid', song='Le Bagad De Lann Bihoue (Live)'),\n",
       " Row(userId='98', firstname='Sawyer', page='NextSong', level='paid', song='Soldier Side'),\n",
       " Row(userId='98', firstname='Sawyer', page='NextSong', level='paid', song='Half Acre'),\n",
       " Row(userId='98', firstname='Sawyer', page='NextSong', level='paid', song='My Life Would Suck Without You'),\n",
       " Row(userId='98', firstname='Sawyer', page='NextSong', level='paid', song='Give A Little Bit (Album Version)'),\n",
       " Row(userId='98', firstname='Sawyer', page='NextSong', level='paid', song='OPROSTI'),\n",
       " Row(userId='98', firstname='Sawyer', page='NextSong', level='paid', song='Tighten Up'),\n",
       " Row(userId='98', firstname='Sawyer', page='NextSong', level='paid', song='Un Aro En La Nariz'),\n",
       " Row(userId='98', firstname='Sawyer', page='NextSong', level='paid', song='Up Out My Face'),\n",
       " Row(userId='98', firstname='Sawyer', page='NextSong', level='paid', song=\"You're Beautiful (Album Version)\"),\n",
       " Row(userId='98', firstname='Sawyer', page='NextSong', level='paid', song='Mercy:The Laundromat'),\n",
       " Row(userId='98', firstname='Sawyer', page='NextSong', level='paid', song=\"Rockin' Robin\"),\n",
       " Row(userId='98', firstname='Sawyer', page='NextSong', level='paid', song='Party Like A Rock Star'),\n",
       " Row(userId='98', firstname='Sawyer', page='NextSong', level='paid', song='Modern Guilt'),\n",
       " Row(userId='98', firstname='Sawyer', page='NextSong', level='paid', song='Unholy Confessions'),\n",
       " Row(userId='98', firstname='Sawyer', page='Home', level='paid', song=None),\n",
       " Row(userId='98', firstname='Sawyer', page='NextSong', level='paid', song=\"Don't Stop The Music\"),\n",
       " Row(userId='98', firstname='Sawyer', page='Thumbs Up', level='paid', song=None),\n",
       " Row(userId='98', firstname='Sawyer', page='NextSong', level='paid', song='Like A Boss'),\n",
       " Row(userId='98', firstname='Sawyer', page='NextSong', level='paid', song=\"Walk-Don't Run\"),\n",
       " Row(userId='98', firstname='Sawyer', page='NextSong', level='paid', song='40 Days'),\n",
       " Row(userId='98', firstname='Sawyer', page='NextSong', level='paid', song='Say No More'),\n",
       " Row(userId='98', firstname='Sawyer', page='NextSong', level='paid', song='The Killer Is Me'),\n",
       " Row(userId='98', firstname='Sawyer', page='NextSong', level='paid', song='More Than A Feeling'),\n",
       " Row(userId='98', firstname='Sawyer', page='NextSong', level='paid', song='To Build A Home'),\n",
       " Row(userId='98', firstname='Sawyer', page='NextSong', level='paid', song='Crazy Beautiful'),\n",
       " Row(userId='98', firstname='Sawyer', page='Logout', level='paid', song=None),\n",
       " Row(userId='98', firstname='Sawyer', page='Home', level='paid', song=None),\n",
       " Row(userId='98', firstname='Sawyer', page='NextSong', level='paid', song='Planet Claire'),\n",
       " Row(userId='98', firstname='Sawyer', page='NextSong', level='paid', song='Mysterious Ways'),\n",
       " Row(userId='98', firstname='Sawyer', page='NextSong', level='paid', song='Winding Road'),\n",
       " Row(userId='98', firstname='Sawyer', page='NextSong', level='paid', song='Forgive Me'),\n",
       " Row(userId='98', firstname='Sawyer', page='Add Friend', level='paid', song=None),\n",
       " Row(userId='98', firstname='Sawyer', page='Add Friend', level='paid', song=None),\n",
       " Row(userId='98', firstname='Sawyer', page='Home', level='paid', song=None),\n",
       " Row(userId='98', firstname='Sawyer', page='NextSong', level='paid', song='What You Know'),\n",
       " Row(userId='98', firstname='Sawyer', page='NextSong', level='paid', song='Dead And Gone [feat. Justin Timberlake] (Explicit Album Version)'),\n",
       " Row(userId='98', firstname='Sawyer', page='NextSong', level='paid', song='The Pretender'),\n",
       " Row(userId='98', firstname='Sawyer', page='NextSong', level='paid', song='Tout petit la planÃ\\x83Â¨te'),\n",
       " Row(userId='98', firstname='Sawyer', page='NextSong', level='paid', song='Plastic Gift'),\n",
       " Row(userId='98', firstname='Sawyer', page='NextSong', level='paid', song='Bullet Theory'),\n",
       " Row(userId='98', firstname='Sawyer', page='NextSong', level='paid', song='Shine On'),\n",
       " Row(userId='98', firstname='Sawyer', page='Add to Playlist', level='paid', song=None),\n",
       " Row(userId='98', firstname='Sawyer', page='NextSong', level='paid', song=\"Bentley's Gonna Sort You Out\"),\n",
       " Row(userId='98', firstname='Sawyer', page='NextSong', level='paid', song='Make It Mine (Album Version)'),\n",
       " Row(userId='98', firstname='Sawyer', page='NextSong', level='paid', song='Seafloor'),\n",
       " Row(userId='98', firstname='Sawyer', page='NextSong', level='paid', song='Beach Party'),\n",
       " Row(userId='98', firstname='Sawyer', page='NextSong', level='paid', song='Fortunate Son'),\n",
       " Row(userId='98', firstname='Sawyer', page='Thumbs Down', level='paid', song=None),\n",
       " Row(userId='98', firstname='Sawyer', page='NextSong', level='paid', song='Green Shirt'),\n",
       " Row(userId='98', firstname='Sawyer', page='NextSong', level='paid', song='Green Hell'),\n",
       " Row(userId='98', firstname='Sawyer', page='NextSong', level='paid', song='Tremble (Original Club Mix)'),\n",
       " Row(userId='98', firstname='Sawyer', page='NextSong', level='paid', song='Mouth Shut [Live] (Album Version)'),\n",
       " Row(userId='98', firstname='Sawyer', page='NextSong', level='paid', song='After The Gold Rush (Album Version)'),\n",
       " Row(userId='98', firstname='Sawyer', page='NextSong', level='paid', song='Fall Into Me'),\n",
       " Row(userId='98', firstname='Sawyer', page='NextSong', level='paid', song='Fireflies'),\n",
       " Row(userId='98', firstname='Sawyer', page='NextSong', level='paid', song='High School Musical'),\n",
       " Row(userId='98', firstname='Sawyer', page='NextSong', level='paid', song='Alone'),\n",
       " Row(userId='98', firstname='Sawyer', page='NextSong', level='paid', song='Distinto'),\n",
       " Row(userId='98', firstname='Sawyer', page='NextSong', level='paid', song='Straight In At 101'),\n",
       " Row(userId='98', firstname='Sawyer', page='NextSong', level='paid', song='Dick Lips'),\n",
       " Row(userId='98', firstname='Sawyer', page='NextSong', level='paid', song='The Thousand Names of Lord Shiva (Part 1)'),\n",
       " Row(userId='98', firstname='Sawyer', page='NextSong', level='paid', song='Wicked Garden (LP Version)'),\n",
       " Row(userId='98', firstname='Sawyer', page='NextSong', level='paid', song='Mr Bojangles'),\n",
       " Row(userId='98', firstname='Sawyer', page='NextSong', level='paid', song=\"Feel Like Makin' Love (LP Version)\"),\n",
       " Row(userId='98', firstname='Sawyer', page='NextSong', level='paid', song='Small People'),\n",
       " Row(userId='98', firstname='Sawyer', page='Thumbs Up', level='paid', song=None),\n",
       " Row(userId='98', firstname='Sawyer', page='NextSong', level='paid', song='Survive'),\n",
       " Row(userId='98', firstname='Sawyer', page='NextSong', level='paid', song='Ambrosia'),\n",
       " Row(userId='98', firstname='Sawyer', page='NextSong', level='paid', song='Party Like A Rock Star'),\n",
       " Row(userId='98', firstname='Sawyer', page='NextSong', level='paid', song='Get It On'),\n",
       " Row(userId='98', firstname='Sawyer', page='NextSong', level='paid', song='Nursery_ Academy'),\n",
       " Row(userId='98', firstname='Sawyer', page='NextSong', level='paid', song='Heartbeats'),\n",
       " Row(userId='98', firstname='Sawyer', page='NextSong', level='paid', song='Revenga'),\n",
       " Row(userId='98', firstname='Sawyer', page='NextSong', level='paid', song='Latin Static'),\n",
       " Row(userId='98', firstname='Sawyer', page='NextSong', level='paid', song='This Godless Endeavor'),\n",
       " Row(userId='98', firstname='Sawyer', page='NextSong', level='paid', song=\"Hey Daddy (Daddy's Home)\"),\n",
       " Row(userId='98', firstname='Sawyer', page='NextSong', level='paid', song='Mushaboom'),\n",
       " Row(userId='98', firstname='Sawyer', page='NextSong', level='paid', song='SinceritÃ\\x83Â© Et Jalousie'),\n",
       " Row(userId='98', firstname='Sawyer', page='Settings', level='paid', song=None),\n",
       " Row(userId='98', firstname='Sawyer', page='NextSong', level='paid', song='Knife Prty (LP Version)'),\n",
       " Row(userId='98', firstname='Sawyer', page='Thumbs Down', level='paid', song=None),\n",
       " Row(userId='98', firstname='Sawyer', page='NextSong', level='paid', song='Letters From Madrid'),\n",
       " Row(userId='98', firstname='Sawyer', page='NextSong', level='paid', song='Fast Car (LP Version)'),\n",
       " Row(userId='98', firstname='Sawyer', page='NextSong', level='paid', song='There Goes My Baby'),\n",
       " Row(userId='98', firstname='Sawyer', page='NextSong', level='paid', song='Signs'),\n",
       " Row(userId='98', firstname='Sawyer', page='NextSong', level='paid', song='Crazy In Love'),\n",
       " Row(userId='98', firstname='Sawyer', page='NextSong', level='paid', song='De Madrugada'),\n",
       " Row(userId='98', firstname='Sawyer', page='NextSong', level='paid', song='Undo'),\n",
       " Row(userId='98', firstname='Sawyer', page='NextSong', level='paid', song='Miss Murder'),\n",
       " Row(userId='98', firstname='Sawyer', page='NextSong', level='paid', song='Mary'),\n",
       " Row(userId='98', firstname='Sawyer', page='NextSong', level='paid', song='Holiday'),\n",
       " Row(userId='98', firstname='Sawyer', page='NextSong', level='paid', song=\"It's Raining Men\"),\n",
       " Row(userId='98', firstname='Sawyer', page='Help', level='paid', song=None),\n",
       " Row(userId='98', firstname='Sawyer', page='NextSong', level='paid', song='When I Said I Do'),\n",
       " Row(userId='98', firstname='Sawyer', page='NextSong', level='paid', song='Statue Of Liberty'),\n",
       " Row(userId='98', firstname='Sawyer', page='NextSong', level='paid', song='Good Time Women'),\n",
       " Row(userId='98', firstname='Sawyer', page='NextSong', level='paid', song='Monkey Man'),\n",
       " Row(userId='98', firstname='Sawyer', page='NextSong', level='paid', song='I Kissed A Girl'),\n",
       " Row(userId='98', firstname='Sawyer', page='NextSong', level='paid', song='Number One'),\n",
       " Row(userId='98', firstname='Sawyer', page='NextSong', level='paid', song='All My Life'),\n",
       " Row(userId='98', firstname='Sawyer', page='Add to Playlist', level='paid', song=None),\n",
       " Row(userId='98', firstname='Sawyer', page='NextSong', level='paid', song='Ray Gun'),\n",
       " Row(userId='98', firstname='Sawyer', page='NextSong', level='paid', song='Lo Importante EstÃ\\x83Â¡ En Tu Cabeza'),\n",
       " Row(userId='98', firstname='Sawyer', page='Add Friend', level='paid', song=None),\n",
       " Row(userId='98', firstname='Sawyer', page='Add Friend', level='paid', song=None),\n",
       " Row(userId='98', firstname='Sawyer', page='NextSong', level='paid', song='Taking Us Home'),\n",
       " Row(userId='98', firstname='Sawyer', page='NextSong', level='paid', song='The Last Thing I Needed (First Thing This Morning)'),\n",
       " Row(userId='98', firstname='Sawyer', page='NextSong', level='paid', song='Bleed It Out [Live At Milton Keynes]'),\n",
       " Row(userId='98', firstname='Sawyer', page='NextSong', level='paid', song='Funkytown'),\n",
       " Row(userId='98', firstname='Sawyer', page='NextSong', level='paid', song='My Moon My Man'),\n",
       " Row(userId='98', firstname='Sawyer', page='NextSong', level='paid', song=\"I Bet She Doesn't Feel It\"),\n",
       " Row(userId='98', firstname='Sawyer', page='Add Friend', level='paid', song=None),\n",
       " Row(userId='98', firstname='Sawyer', page='NextSong', level='paid', song='Home'),\n",
       " Row(userId='98', firstname='Sawyer', page='Downgrade', level='paid', song=None),\n",
       " Row(userId='98', firstname='Sawyer', page='Logout', level='paid', song=None),\n",
       " Row(userId='98', firstname='Sawyer', page='Home', level='paid', song=None),\n",
       " Row(userId='98', firstname='Sawyer', page='NextSong', level='paid', song='The Fool'),\n",
       " Row(userId='98', firstname='Sawyer', page='NextSong', level='paid', song='Le Courage Des Oiseaux'),\n",
       " Row(userId='98', firstname='Sawyer', page='NextSong', level='paid', song=\"It's A Sin (2001 Digital Remaster)\"),\n",
       " Row(userId='98', firstname='Sawyer', page='NextSong', level='paid', song='So Long'),\n",
       " Row(userId='98', firstname='Sawyer', page='NextSong', level='paid', song='For Whom The Bell Tolls'),\n",
       " Row(userId='98', firstname='Sawyer', page='NextSong', level='paid', song='Stronger'),\n",
       " Row(userId='98', firstname='Sawyer', page='NextSong', level='paid', song='Hell Alright (Bassface Sascha & Franksen Remix)'),\n",
       " Row(userId='98', firstname='Sawyer', page='NextSong', level='paid', song='Tabaco Y Chanel'),\n",
       " Row(userId='98', firstname='Sawyer', page='NextSong', level='paid', song='Turn Me Up (Sfaction Version / Feat. Sandy)'),\n",
       " Row(userId='98', firstname='Sawyer', page='NextSong', level='paid', song='Time No More'),\n",
       " Row(userId='98', firstname='Sawyer', page='NextSong', level='paid', song=\"Lovin' You is Murder\"),\n",
       " Row(userId='98', firstname='Sawyer', page='NextSong', level='paid', song='Red Socks Pugie'),\n",
       " Row(userId='98', firstname='Sawyer', page='NextSong', level='paid', song='Horn Concerto No. 4 in E flat K495: II. Romance (Andante cantabile)'),\n",
       " Row(userId='98', firstname='Sawyer', page='NextSong', level='paid', song='Malkaus - Alap'),\n",
       " Row(userId='98', firstname='Sawyer', page='NextSong', level='paid', song='Sehr kosmisch'),\n",
       " Row(userId='98', firstname='Sawyer', page='NextSong', level='paid', song='Gli Amici Miei'),\n",
       " Row(userId='98', firstname='Sawyer', page='NextSong', level='paid', song='El Chubasco'),\n",
       " Row(userId='98', firstname='Sawyer', page='NextSong', level='paid', song='Holiday [feat. Green Day & The Cast Of American Idiot] (Album Version)'),\n",
       " Row(userId='98', firstname='Sawyer', page='NextSong', level='paid', song=\"I'll Be Doggone\"),\n",
       " Row(userId='98', firstname='Sawyer', page='NextSong', level='paid', song='I Say No'),\n",
       " Row(userId='98', firstname='Sawyer', page='NextSong', level='paid', song='Rorol'),\n",
       " Row(userId='98', firstname='Sawyer', page='NextSong', level='paid', song='Mirror Song'),\n",
       " Row(userId='98', firstname='Sawyer', page='NextSong', level='paid', song='Love Is Gone (Fred Riester & Joachim Garraud Rm)'),\n",
       " Row(userId='98', firstname='Sawyer', page='NextSong', level='paid', song='Dirt Off Your Shoulder'),\n",
       " Row(userId='98', firstname='Sawyer', page='NextSong', level='paid', song='Better Living Through Chemistry'),\n",
       " Row(userId='98', firstname='Sawyer', page='Home', level='paid', song=None),\n",
       " Row(userId='98', firstname='Sawyer', page='NextSong', level='paid', song='Before I Let You Go'),\n",
       " Row(userId='98', firstname='Sawyer', page='NextSong', level='paid', song=\"Where Corn Don't Grow\"),\n",
       " Row(userId='98', firstname='Sawyer', page='NextSong', level='paid', song='Ooh La'),\n",
       " Row(userId='98', firstname='Sawyer', page='NextSong', level='paid', song='The Maestro'),\n",
       " Row(userId='98', firstname='Sawyer', page='NextSong', level='paid', song='Let Me Be Myself'),\n",
       " Row(userId='98', firstname='Sawyer', page='NextSong', level='paid', song='Freedom For The Stallion'),\n",
       " Row(userId='98', firstname='Sawyer', page='NextSong', level='paid', song='Mama Said Knock You Out'),\n",
       " Row(userId='98', firstname='Sawyer', page='NextSong', level='paid', song='Amanda'),\n",
       " Row(userId='98', firstname='Sawyer', page='NextSong', level='paid', song='Long As I Can See The Light'),\n",
       " Row(userId='98', firstname='Sawyer', page='NextSong', level='paid', song='House Of Pain Anthem (Original Mix)'),\n",
       " Row(userId='98', firstname='Sawyer', page='NextSong', level='paid', song='Am I Evil'),\n",
       " Row(userId='98', firstname='Sawyer', page='NextSong', level='paid', song='When You Were Young'),\n",
       " Row(userId='98', firstname='Sawyer', page='NextSong', level='paid', song='Blinded By The Lights [Nero Remix]'),\n",
       " Row(userId='98', firstname='Sawyer', page='Add to Playlist', level='paid', song=None),\n",
       " Row(userId='98', firstname='Sawyer', page='NextSong', level='paid', song='Pearl Vision'),\n",
       " Row(userId='98', firstname='Sawyer', page='NextSong', level='paid', song='Under Your Spell'),\n",
       " Row(userId='98', firstname='Sawyer', page='NextSong', level='paid', song='Inolvidable'),\n",
       " Row(userId='98', firstname='Sawyer', page='NextSong', level='paid', song='Living In The Shadows (Album Version)'),\n",
       " Row(userId='98', firstname='Sawyer', page='NextSong', level='paid', song='Lull'),\n",
       " Row(userId='98', firstname='Sawyer', page='NextSong', level='paid', song='Crash'),\n",
       " Row(userId='98', firstname='Sawyer', page='NextSong', level='paid', song='Tangled Up In Me'),\n",
       " Row(userId='98', firstname='Sawyer', page='NextSong', level='paid', song='Los Aviones'),\n",
       " Row(userId='98', firstname='Sawyer', page='NextSong', level='paid', song='Ni TÃ\\x83Âº Ni Nadie (VersiÃ\\x83Â³n Demo)'),\n",
       " Row(userId='98', firstname='Sawyer', page='NextSong', level='paid', song='Liberty Line'),\n",
       " Row(userId='98', firstname='Sawyer', page='NextSong', level='paid', song='Cold Desert'),\n",
       " Row(userId='98', firstname='Sawyer', page='NextSong', level='paid', song='Scotty (explicit album version)'),\n",
       " Row(userId='98', firstname='Sawyer', page='NextSong', level='paid', song=\"It's My Own Fault\"),\n",
       " Row(userId='98', firstname='Sawyer', page='NextSong', level='paid', song='Have You Ever Felt?'),\n",
       " Row(userId='98', firstname='Sawyer', page='NextSong', level='paid', song='You Got Me'),\n",
       " Row(userId='98', firstname='Sawyer', page='Thumbs Up', level='paid', song=None),\n",
       " Row(userId='98', firstname='Sawyer', page='NextSong', level='paid', song='Alpha Shallows'),\n",
       " Row(userId='98', firstname='Sawyer', page='NextSong', level='paid', song='Heard Them Stirring'),\n",
       " Row(userId='98', firstname='Sawyer', page='NextSong', level='paid', song='Swing Javanaise'),\n",
       " Row(userId='98', firstname='Sawyer', page='NextSong', level='paid', song='Sing Along Forever'),\n",
       " Row(userId='98', firstname='Sawyer', page='NextSong', level='paid', song='Undo'),\n",
       " Row(userId='98', firstname='Sawyer', page='Add Friend', level='paid', song=None),\n",
       " Row(userId='98', firstname='Sawyer', page='NextSong', level='paid', song='Sinequanon'),\n",
       " Row(userId='98', firstname='Sawyer', page='NextSong', level='paid', song='Leave The Bourbon On The Shelf'),\n",
       " Row(userId='98', firstname='Sawyer', page='Logout', level='paid', song=None),\n",
       " Row(userId='98', firstname='Sawyer', page='Home', level='paid', song=None),\n",
       " Row(userId='98', firstname='Sawyer', page='NextSong', level='paid', song=\"I CAN'T GET STARTED\"),\n",
       " Row(userId='98', firstname='Sawyer', page='NextSong', level='paid', song='Shop Around'),\n",
       " Row(userId='98', firstname='Sawyer', page='NextSong', level='paid', song='Fire Flood And Plague'),\n",
       " Row(userId='98', firstname='Sawyer', page='NextSong', level='paid', song='Invalid'),\n",
       " Row(userId='98', firstname='Sawyer', page='NextSong', level='paid', song='UnBirthday'),\n",
       " Row(userId='98', firstname='Sawyer', page='NextSong', level='paid', song='Lottery Spin'),\n",
       " Row(userId='98', firstname='Sawyer', page='NextSong', level='paid', song='Laser Speed (Album Version)'),\n",
       " Row(userId='98', firstname='Sawyer', page='NextSong', level='paid', song='Day In_ Day Out (LP Version)'),\n",
       " Row(userId='98', firstname='Sawyer', page='NextSong', level='paid', song='Shiver'),\n",
       " Row(userId='98', firstname='Sawyer', page='NextSong', level='paid', song='Secrets'),\n",
       " Row(userId='98', firstname='Sawyer', page='NextSong', level='paid', song='Step Up'),\n",
       " Row(userId='98', firstname='Sawyer', page='NextSong', level='paid', song='One Way Mule (Album Version)'),\n",
       " Row(userId='98', firstname='Sawyer', page='NextSong', level='paid', song=\"I'll Be Right Back\"),\n",
       " Row(userId='98', firstname='Sawyer', page='NextSong', level='paid', song='Overture'),\n",
       " Row(userId='98', firstname='Sawyer', page='NextSong', level='paid', song='The Joker'),\n",
       " Row(userId='98', firstname='Sawyer', page='NextSong', level='paid', song='Meteor'),\n",
       " Row(userId='98', firstname='Sawyer', page='NextSong', level='paid', song='Too Daze Gone'),\n",
       " Row(userId='98', firstname='Sawyer', page='NextSong', level='paid', song='The Gift'),\n",
       " Row(userId='98', firstname='Sawyer', page='NextSong', level='paid', song='The City Sleeps'),\n",
       " Row(userId='98', firstname='Sawyer', page='NextSong', level='paid', song='Orbit'),\n",
       " Row(userId='98', firstname='Sawyer', page='NextSong', level='paid', song='Strong Enough'),\n",
       " Row(userId='98', firstname='Sawyer', page='NextSong', level='paid', song='Stupid Love Letter (Album Version)'),\n",
       " Row(userId='98', firstname='Sawyer', page='NextSong', level='paid', song='Verde Que Te Quero Rosa'),\n",
       " Row(userId='98', firstname='Sawyer', page='NextSong', level='paid', song='Wherever We Go'),\n",
       " Row(userId='98', firstname='Sawyer', page='NextSong', level='paid', song='Double Dare Ya'),\n",
       " Row(userId='98', firstname='Sawyer', page='NextSong', level='paid', song='Super 8'),\n",
       " Row(userId='98', firstname='Sawyer', page='NextSong', level='paid', song='Romance To The Grave'),\n",
       " Row(userId='98', firstname='Sawyer', page='NextSong', level='paid', song='Exodus (Intro)'),\n",
       " Row(userId='98', firstname='Sawyer', page='NextSong', level='paid', song='Secret Crowds'),\n",
       " Row(userId='98', firstname='Sawyer', page='NextSong', level='paid', song='Bambino (2006 Digital Remaster)'),\n",
       " Row(userId='98', firstname='Sawyer', page='NextSong', level='paid', song='Trunk'),\n",
       " Row(userId='98', firstname='Sawyer', page='NextSong', level='paid', song='Comforter'),\n",
       " Row(userId='98', firstname='Sawyer', page='NextSong', level='paid', song='Revolver'),\n",
       " Row(userId='98', firstname='Sawyer', page='NextSong', level='paid', song='Hijo Del Sol Luminoso (vivo)'),\n",
       " Row(userId='98', firstname='Sawyer', page='NextSong', level='paid', song='These Four Walls'),\n",
       " Row(userId='98', firstname='Sawyer', page='NextSong', level='paid', song='DIA (Album Version)'),\n",
       " Row(userId='98', firstname='Sawyer', page='NextSong', level='paid', song='Keep You Much Longer'),\n",
       " Row(userId='98', firstname='Sawyer', page='NextSong', level='paid', song='Sugar Ray (LP Version)'),\n",
       " Row(userId='98', firstname='Sawyer', page='NextSong', level='paid', song=\"Who'd You Kill Now?\"),\n",
       " Row(userId='98', firstname='Sawyer', page='NextSong', level='paid', song='Pregon Para Iluminarse'),\n",
       " Row(userId='98', firstname='Sawyer', page='NextSong', level='paid', song='Cowboys'),\n",
       " Row(userId='98', firstname='Sawyer', page='Home', level='paid', song=None),\n",
       " Row(userId='98', firstname='Sawyer', page='NextSong', level='paid', song='Wild Wind'),\n",
       " Row(userId='98', firstname='Sawyer', page='NextSong', level='paid', song='Last Of Days'),\n",
       " Row(userId='98', firstname='Sawyer', page='NextSong', level='paid', song='Satelite (Live)'),\n",
       " Row(userId='98', firstname='Sawyer', page='NextSong', level='paid', song='Kelma'),\n",
       " ...]"
      ]
     },
     "execution_count": 37,
     "metadata": {},
     "output_type": "execute_result"
    }
   ],
   "source": [
    "# check a random user\n",
    "df.select([\"userId\", \"firstname\", \"page\", \"level\", \"song\"]).where(df.userId == \"98\").collect()"
   ]
  },
  {
   "cell_type": "code",
   "execution_count": 38,
   "metadata": {},
   "outputs": [],
   "source": [
    "# create a udf to flag Churned customers\n",
    "flag_downgrade_event = udf(lambda x: 1 if x == \"Cancellation Confirmation\" else 0, IntegerType())"
   ]
  },
  {
   "cell_type": "code",
   "execution_count": 39,
   "metadata": {},
   "outputs": [],
   "source": [
    "# create new column \"churned\"\n",
    "df = df.withColumn(\"churned\", flag_downgrade_event(\"page\"))"
   ]
  },
  {
   "cell_type": "code",
   "execution_count": 40,
   "metadata": {},
   "outputs": [
    {
     "data": {
      "text/plain": [
       "Row(artist='Martha Tilston', auth='Logged In', firstName='Colin', gender='M', itemInSession=50, lastName='Freeman', length=277.89016, level='paid', location='Bakersfield, CA', method='PUT', page='NextSong', registration=1538173362000, sessionId=29, song='Rockpools', status=200, ts=1538352117000, userAgent='Mozilla/5.0 (Windows NT 6.1; WOW64; rv:31.0) Gecko/20100101 Firefox/31.0', userId='30', hour=3, day=1, workday='Monday', month=10, churned=0)"
      ]
     },
     "execution_count": 40,
     "metadata": {},
     "output_type": "execute_result"
    }
   ],
   "source": [
    "df.head()"
   ]
  },
  {
   "cell_type": "code",
   "execution_count": 41,
   "metadata": {},
   "outputs": [],
   "source": [
    "# add a staging: stage=1 if the user is paid, stage=2 if the user churned\n",
    "windowval = Window.partitionBy(\"userId\").orderBy(desc(\"ts\")).rangeBetween(Window.unboundedPreceding, 0)"
   ]
  },
  {
   "cell_type": "code",
   "execution_count": 42,
   "metadata": {},
   "outputs": [],
   "source": [
    "# create new column stage to assign values\n",
    "df = df.withColumn(\"phase\", Fsum(\"churned\").over(windowval))"
   ]
  },
  {
   "cell_type": "code",
   "execution_count": 43,
   "metadata": {},
   "outputs": [
    {
     "data": {
      "text/plain": [
       "[Row(userId='98', firstname='Sawyer', ts=1538413513000, page='Home', level='free', phase=0),\n",
       " Row(userId='98', firstname='Sawyer', ts=1538413514000, page='Add Friend', level='free', phase=0),\n",
       " Row(userId='98', firstname='Sawyer', ts=1538413515000, page='Add Friend', level='free', phase=0),\n",
       " Row(userId='98', firstname='Sawyer', ts=1538413647000, page='Home', level='free', phase=0),\n",
       " Row(userId='98', firstname='Sawyer', ts=1538413879000, page='NextSong', level='free', phase=0),\n",
       " Row(userId='98', firstname='Sawyer', ts=1538414052000, page='NextSong', level='free', phase=0),\n",
       " Row(userId='98', firstname='Sawyer', ts=1538414271000, page='NextSong', level='free', phase=0),\n",
       " Row(userId='98', firstname='Sawyer', ts=1538414272000, page='Thumbs Down', level='free', phase=0),\n",
       " Row(userId='98', firstname='Sawyer', ts=1538414479000, page='NextSong', level='free', phase=0),\n",
       " Row(userId='98', firstname='Sawyer', ts=1538414480000, page='Thumbs Down', level='free', phase=0),\n",
       " Row(userId='98', firstname='Sawyer', ts=1538414737000, page='NextSong', level='free', phase=0),\n",
       " Row(userId='98', firstname='Sawyer', ts=1538415012000, page='NextSong', level='free', phase=0),\n",
       " Row(userId='98', firstname='Sawyer', ts=1538415234000, page='NextSong', level='free', phase=0),\n",
       " Row(userId='98', firstname='Sawyer', ts=1538415889000, page='NextSong', level='free', phase=0),\n",
       " Row(userId='98', firstname='Sawyer', ts=1538416092000, page='NextSong', level='free', phase=0),\n",
       " Row(userId='98', firstname='Sawyer', ts=1538416303000, page='NextSong', level='free', phase=0),\n",
       " Row(userId='98', firstname='Sawyer', ts=1538416491000, page='NextSong', level='free', phase=0),\n",
       " Row(userId='98', firstname='Sawyer', ts=1538416559000, page='Roll Advert', level='free', phase=0),\n",
       " Row(userId='98', firstname='Sawyer', ts=1538416763000, page='NextSong', level='free', phase=0),\n",
       " Row(userId='98', firstname='Sawyer', ts=1538417118000, page='NextSong', level='free', phase=0),\n",
       " Row(userId='98', firstname='Sawyer', ts=1538417281000, page='NextSong', level='free', phase=0),\n",
       " Row(userId='98', firstname='Sawyer', ts=1538421658000, page='Home', level='free', phase=0),\n",
       " Row(userId='98', firstname='Sawyer', ts=1538421854000, page='NextSong', level='free', phase=0),\n",
       " Row(userId='98', firstname='Sawyer', ts=1538421855000, page='Thumbs Up', level='free', phase=0),\n",
       " Row(userId='98', firstname='Sawyer', ts=1538421921000, page='Add to Playlist', level='free', phase=0),\n",
       " Row(userId='98', firstname='Sawyer', ts=1538421960000, page='NextSong', level='free', phase=0),\n",
       " Row(userId='98', firstname='Sawyer', ts=1538422133000, page='NextSong', level='free', phase=0),\n",
       " Row(userId='98', firstname='Sawyer', ts=1538422373000, page='NextSong', level='free', phase=0),\n",
       " Row(userId='98', firstname='Sawyer', ts=1538422553000, page='NextSong', level='free', phase=0),\n",
       " Row(userId='98', firstname='Sawyer', ts=1538422839000, page='NextSong', level='free', phase=0),\n",
       " Row(userId='98', firstname='Sawyer', ts=1538423021000, page='NextSong', level='free', phase=0),\n",
       " Row(userId='98', firstname='Sawyer', ts=1538423543000, page='NextSong', level='free', phase=0),\n",
       " Row(userId='98', firstname='Sawyer', ts=1538423691000, page='NextSong', level='free', phase=0),\n",
       " Row(userId='98', firstname='Sawyer', ts=1538423980000, page='NextSong', level='free', phase=0),\n",
       " Row(userId='98', firstname='Sawyer', ts=1538424129000, page='NextSong', level='free', phase=0),\n",
       " Row(userId='98', firstname='Sawyer', ts=1538424411000, page='NextSong', level='free', phase=0),\n",
       " Row(userId='98', firstname='Sawyer', ts=1538424576000, page='NextSong', level='free', phase=0),\n",
       " Row(userId='98', firstname='Sawyer', ts=1538425544000, page='NextSong', level='free', phase=0),\n",
       " Row(userId='98', firstname='Sawyer', ts=1538425745000, page='NextSong', level='free', phase=0),\n",
       " Row(userId='98', firstname='Sawyer', ts=1538426156000, page='NextSong', level='free', phase=0),\n",
       " Row(userId='98', firstname='Sawyer', ts=1538426336000, page='NextSong', level='free', phase=0),\n",
       " Row(userId='98', firstname='Sawyer', ts=1538426421000, page='Add to Playlist', level='free', phase=0),\n",
       " Row(userId='98', firstname='Sawyer', ts=1538426601000, page='NextSong', level='free', phase=0),\n",
       " Row(userId='98', firstname='Sawyer', ts=1538426657000, page='Roll Advert', level='free', phase=0),\n",
       " Row(userId='98', firstname='Sawyer', ts=1538426950000, page='NextSong', level='free', phase=0),\n",
       " Row(userId='98', firstname='Sawyer', ts=1538427055000, page='NextSong', level='free', phase=0),\n",
       " Row(userId='98', firstname='Sawyer', ts=1538427451000, page='NextSong', level='free', phase=0),\n",
       " Row(userId='98', firstname='Sawyer', ts=1538427686000, page='NextSong', level='free', phase=0),\n",
       " Row(userId='98', firstname='Sawyer', ts=1538427945000, page='NextSong', level='free', phase=0),\n",
       " Row(userId='98', firstname='Sawyer', ts=1538428289000, page='NextSong', level='free', phase=0),\n",
       " Row(userId='98', firstname='Sawyer', ts=1538428500000, page='NextSong', level='free', phase=0),\n",
       " Row(userId='98', firstname='Sawyer', ts=1538428694000, page='NextSong', level='free', phase=0),\n",
       " Row(userId='98', firstname='Sawyer', ts=1538428938000, page='NextSong', level='free', phase=0),\n",
       " Row(userId='98', firstname='Sawyer', ts=1538429167000, page='NextSong', level='free', phase=0),\n",
       " Row(userId='98', firstname='Sawyer', ts=1538429417000, page='NextSong', level='free', phase=0),\n",
       " Row(userId='98', firstname='Sawyer', ts=1538429630000, page='NextSong', level='free', phase=0),\n",
       " Row(userId='98', firstname='Sawyer', ts=1538429877000, page='Roll Advert', level='free', phase=0),\n",
       " Row(userId='98', firstname='Sawyer', ts=1538429995000, page='NextSong', level='free', phase=0),\n",
       " Row(userId='98', firstname='Sawyer', ts=1538430245000, page='NextSong', level='free', phase=0),\n",
       " Row(userId='98', firstname='Sawyer', ts=1538430637000, page='NextSong', level='free', phase=0),\n",
       " Row(userId='98', firstname='Sawyer', ts=1538430838000, page='NextSong', level='free', phase=0),\n",
       " Row(userId='98', firstname='Sawyer', ts=1538431033000, page='NextSong', level='free', phase=0),\n",
       " Row(userId='98', firstname='Sawyer', ts=1538431064000, page='Roll Advert', level='free', phase=0),\n",
       " Row(userId='98', firstname='Sawyer', ts=1538431236000, page='NextSong', level='free', phase=0),\n",
       " Row(userId='98', firstname='Sawyer', ts=1538431423000, page='NextSong', level='free', phase=0),\n",
       " Row(userId='98', firstname='Sawyer', ts=1538431664000, page='NextSong', level='free', phase=0),\n",
       " Row(userId='98', firstname='Sawyer', ts=1538432066000, page='NextSong', level='free', phase=0),\n",
       " Row(userId='98', firstname='Sawyer', ts=1538432279000, page='NextSong', level='free', phase=0),\n",
       " Row(userId='98', firstname='Sawyer', ts=1538432531000, page='NextSong', level='free', phase=0),\n",
       " Row(userId='98', firstname='Sawyer', ts=1538432666000, page='NextSong', level='free', phase=0),\n",
       " Row(userId='98', firstname='Sawyer', ts=1538432886000, page='NextSong', level='free', phase=0),\n",
       " Row(userId='98', firstname='Sawyer', ts=1538433106000, page='NextSong', level='free', phase=0),\n",
       " Row(userId='98', firstname='Sawyer', ts=1538433366000, page='NextSong', level='free', phase=0),\n",
       " Row(userId='98', firstname='Sawyer', ts=1538433556000, page='NextSong', level='free', phase=0),\n",
       " Row(userId='98', firstname='Sawyer', ts=1538433699000, page='NextSong', level='free', phase=0),\n",
       " Row(userId='98', firstname='Sawyer', ts=1538433907000, page='NextSong', level='free', phase=0),\n",
       " Row(userId='98', firstname='Sawyer', ts=1538433963000, page='Roll Advert', level='free', phase=0),\n",
       " Row(userId='98', firstname='Sawyer', ts=1538434174000, page='NextSong', level='free', phase=0),\n",
       " Row(userId='98', firstname='Sawyer', ts=1538488465000, page='Home', level='free', phase=0),\n",
       " Row(userId='98', firstname='Sawyer', ts=1538488528000, page='NextSong', level='free', phase=0),\n",
       " Row(userId='98', firstname='Sawyer', ts=1538488749000, page='NextSong', level='free', phase=0),\n",
       " Row(userId='98', firstname='Sawyer', ts=1538488998000, page='NextSong', level='free', phase=0),\n",
       " Row(userId='98', firstname='Sawyer', ts=1538489238000, page='NextSong', level='free', phase=0),\n",
       " Row(userId='98', firstname='Sawyer', ts=1538489239000, page='Thumbs Up', level='free', phase=0),\n",
       " Row(userId='98', firstname='Sawyer', ts=1538489313000, page='NextSong', level='free', phase=0),\n",
       " Row(userId='98', firstname='Sawyer', ts=1538489696000, page='NextSong', level='free', phase=0),\n",
       " Row(userId='98', firstname='Sawyer', ts=1538489926000, page='NextSong', level='free', phase=0),\n",
       " Row(userId='98', firstname='Sawyer', ts=1538490102000, page='NextSong', level='free', phase=0),\n",
       " Row(userId='98', firstname='Sawyer', ts=1538490284000, page='NextSong', level='free', phase=0),\n",
       " Row(userId='98', firstname='Sawyer', ts=1538490519000, page='NextSong', level='free', phase=0),\n",
       " Row(userId='98', firstname='Sawyer', ts=1538490520000, page='Logout', level='free', phase=0),\n",
       " Row(userId='98', firstname='Sawyer', ts=1538639170000, page='Home', level='free', phase=0),\n",
       " Row(userId='98', firstname='Sawyer', ts=1538639273000, page='NextSong', level='free', phase=0),\n",
       " Row(userId='98', firstname='Sawyer', ts=1538639467000, page='NextSong', level='free', phase=0),\n",
       " Row(userId='98', firstname='Sawyer', ts=1538639868000, page='NextSong', level='free', phase=0),\n",
       " Row(userId='98', firstname='Sawyer', ts=1538640074000, page='NextSong', level='free', phase=0),\n",
       " Row(userId='98', firstname='Sawyer', ts=1538640307000, page='NextSong', level='free', phase=0),\n",
       " Row(userId='98', firstname='Sawyer', ts=1538640308000, page='Thumbs Up', level='free', phase=0),\n",
       " Row(userId='98', firstname='Sawyer', ts=1538640442000, page='NextSong', level='free', phase=0),\n",
       " Row(userId='98', firstname='Sawyer', ts=1538640718000, page='NextSong', level='free', phase=0),\n",
       " Row(userId='98', firstname='Sawyer', ts=1538640970000, page='NextSong', level='free', phase=0),\n",
       " Row(userId='98', firstname='Sawyer', ts=1538640971000, page='Thumbs Up', level='free', phase=0),\n",
       " Row(userId='98', firstname='Sawyer', ts=1538641493000, page='NextSong', level='free', phase=0),\n",
       " Row(userId='98', firstname='Sawyer', ts=1538641667000, page='NextSong', level='free', phase=0),\n",
       " Row(userId='98', firstname='Sawyer', ts=1538642009000, page='NextSong', level='free', phase=0),\n",
       " Row(userId='98', firstname='Sawyer', ts=1538642208000, page='NextSong', level='free', phase=0),\n",
       " Row(userId='98', firstname='Sawyer', ts=1538642434000, page='NextSong', level='free', phase=0),\n",
       " Row(userId='98', firstname='Sawyer', ts=1538642628000, page='NextSong', level='free', phase=0),\n",
       " Row(userId='98', firstname='Sawyer', ts=1538642887000, page='NextSong', level='free', phase=0),\n",
       " Row(userId='98', firstname='Sawyer', ts=1538643065000, page='NextSong', level='free', phase=0),\n",
       " Row(userId='98', firstname='Sawyer', ts=1538643066000, page='Thumbs Up', level='free', phase=0),\n",
       " Row(userId='98', firstname='Sawyer', ts=1538643312000, page='NextSong', level='free', phase=0),\n",
       " Row(userId='98', firstname='Sawyer', ts=1538643482000, page='NextSong', level='free', phase=0),\n",
       " Row(userId='98', firstname='Sawyer', ts=1538643696000, page='NextSong', level='free', phase=0),\n",
       " Row(userId='98', firstname='Sawyer', ts=1538643782000, page='Home', level='free', phase=0),\n",
       " Row(userId='98', firstname='Sawyer', ts=1538643867000, page='NextSong', level='free', phase=0),\n",
       " Row(userId='98', firstname='Sawyer', ts=1538644120000, page='NextSong', level='free', phase=0),\n",
       " Row(userId='98', firstname='Sawyer', ts=1538644336000, page='NextSong', level='free', phase=0),\n",
       " Row(userId='98', firstname='Sawyer', ts=1538644774000, page='NextSong', level='free', phase=0),\n",
       " Row(userId='98', firstname='Sawyer', ts=1538645027000, page='NextSong', level='free', phase=0),\n",
       " Row(userId='98', firstname='Sawyer', ts=1538645282000, page='NextSong', level='free', phase=0),\n",
       " Row(userId='98', firstname='Sawyer', ts=1538645521000, page='NextSong', level='free', phase=0),\n",
       " Row(userId='98', firstname='Sawyer', ts=1538645735000, page='NextSong', level='free', phase=0),\n",
       " Row(userId='98', firstname='Sawyer', ts=1538645936000, page='NextSong', level='free', phase=0),\n",
       " Row(userId='98', firstname='Sawyer', ts=1538645937000, page='Thumbs Up', level='free', phase=0),\n",
       " Row(userId='98', firstname='Sawyer', ts=1538646281000, page='NextSong', level='free', phase=0),\n",
       " Row(userId='98', firstname='Sawyer', ts=1538646409000, page='NextSong', level='free', phase=0),\n",
       " Row(userId='98', firstname='Sawyer', ts=1538646640000, page='NextSong', level='free', phase=0),\n",
       " Row(userId='98', firstname='Sawyer', ts=1538646860000, page='NextSong', level='free', phase=0),\n",
       " Row(userId='98', firstname='Sawyer', ts=1538647155000, page='NextSong', level='free', phase=0),\n",
       " Row(userId='98', firstname='Sawyer', ts=1538647156000, page='Thumbs Up', level='free', phase=0),\n",
       " Row(userId='98', firstname='Sawyer', ts=1538647388000, page='NextSong', level='free', phase=0),\n",
       " Row(userId='98', firstname='Sawyer', ts=1538647660000, page='NextSong', level='free', phase=0),\n",
       " Row(userId='98', firstname='Sawyer', ts=1538647906000, page='NextSong', level='free', phase=0),\n",
       " Row(userId='98', firstname='Sawyer', ts=1538647963000, page='Roll Advert', level='free', phase=0),\n",
       " Row(userId='98', firstname='Sawyer', ts=1538647976000, page='Roll Advert', level='free', phase=0),\n",
       " Row(userId='98', firstname='Sawyer', ts=1538648254000, page='NextSong', level='free', phase=0),\n",
       " Row(userId='98', firstname='Sawyer', ts=1538648493000, page='NextSong', level='free', phase=0),\n",
       " Row(userId='98', firstname='Sawyer', ts=1538648764000, page='NextSong', level='free', phase=0),\n",
       " Row(userId='98', firstname='Sawyer', ts=1538649016000, page='NextSong', level='free', phase=0),\n",
       " Row(userId='98', firstname='Sawyer', ts=1538649299000, page='NextSong', level='free', phase=0),\n",
       " Row(userId='98', firstname='Sawyer', ts=1538649536000, page='NextSong', level='free', phase=0),\n",
       " Row(userId='98', firstname='Sawyer', ts=1538649773000, page='NextSong', level='free', phase=0),\n",
       " Row(userId='98', firstname='Sawyer', ts=1538650018000, page='NextSong', level='free', phase=0),\n",
       " Row(userId='98', firstname='Sawyer', ts=1538650019000, page='Logout', level='free', phase=0),\n",
       " Row(userId='98', firstname='Sawyer', ts=1538650831000, page='Home', level='free', phase=0),\n",
       " Row(userId='98', firstname='Sawyer', ts=1538650837000, page='NextSong', level='free', phase=0),\n",
       " Row(userId='98', firstname='Sawyer', ts=1538651128000, page='NextSong', level='free', phase=0),\n",
       " Row(userId='98', firstname='Sawyer', ts=1538651332000, page='NextSong', level='free', phase=0),\n",
       " Row(userId='98', firstname='Sawyer', ts=1538651682000, page='NextSong', level='free', phase=0),\n",
       " Row(userId='98', firstname='Sawyer', ts=1538651880000, page='NextSong', level='free', phase=0),\n",
       " Row(userId='98', firstname='Sawyer', ts=1538652066000, page='NextSong', level='free', phase=0),\n",
       " Row(userId='98', firstname='Sawyer', ts=1538652368000, page='NextSong', level='free', phase=0),\n",
       " Row(userId='98', firstname='Sawyer', ts=1538652655000, page='NextSong', level='free', phase=0),\n",
       " Row(userId='98', firstname='Sawyer', ts=1538653003000, page='NextSong', level='free', phase=0),\n",
       " Row(userId='98', firstname='Sawyer', ts=1538653322000, page='NextSong', level='free', phase=0),\n",
       " Row(userId='98', firstname='Sawyer', ts=1538653558000, page='NextSong', level='free', phase=0),\n",
       " Row(userId='98', firstname='Sawyer', ts=1538668880000, page='NextSong', level='free', phase=0),\n",
       " Row(userId='98', firstname='Sawyer', ts=1538669098000, page='NextSong', level='free', phase=0),\n",
       " Row(userId='98', firstname='Sawyer', ts=1538669346000, page='NextSong', level='free', phase=0),\n",
       " Row(userId='98', firstname='Sawyer', ts=1538669657000, page='NextSong', level='free', phase=0),\n",
       " Row(userId='98', firstname='Sawyer', ts=1538669845000, page='NextSong', level='free', phase=0),\n",
       " Row(userId='98', firstname='Sawyer', ts=1538670012000, page='NextSong', level='free', phase=0),\n",
       " Row(userId='98', firstname='Sawyer', ts=1538670146000, page='Roll Advert', level='free', phase=0),\n",
       " Row(userId='98', firstname='Sawyer', ts=1538670196000, page='NextSong', level='free', phase=0),\n",
       " Row(userId='98', firstname='Sawyer', ts=1538670448000, page='NextSong', level='free', phase=0),\n",
       " Row(userId='98', firstname='Sawyer', ts=1538670657000, page='NextSong', level='free', phase=0),\n",
       " Row(userId='98', firstname='Sawyer', ts=1538670886000, page='NextSong', level='free', phase=0),\n",
       " Row(userId='98', firstname='Sawyer', ts=1538671152000, page='NextSong', level='free', phase=0),\n",
       " Row(userId='98', firstname='Sawyer', ts=1538671414000, page='NextSong', level='free', phase=0),\n",
       " Row(userId='98', firstname='Sawyer', ts=1538671684000, page='NextSong', level='free', phase=0),\n",
       " Row(userId='98', firstname='Sawyer', ts=1538671956000, page='NextSong', level='free', phase=0),\n",
       " Row(userId='98', firstname='Sawyer', ts=1538672018000, page='NextSong', level='free', phase=0),\n",
       " Row(userId='98', firstname='Sawyer', ts=1538672198000, page='NextSong', level='free', phase=0),\n",
       " Row(userId='98', firstname='Sawyer', ts=1538672432000, page='NextSong', level='free', phase=0),\n",
       " Row(userId='98', firstname='Sawyer', ts=1538672891000, page='NextSong', level='free', phase=0),\n",
       " Row(userId='98', firstname='Sawyer', ts=1538672966000, page='Home', level='free', phase=0),\n",
       " Row(userId='98', firstname='Sawyer', ts=1538726784000, page='Home', level='free', phase=0),\n",
       " Row(userId='98', firstname='Sawyer', ts=1538726880000, page='NextSong', level='free', phase=0),\n",
       " Row(userId='98', firstname='Sawyer', ts=1538727211000, page='Add to Playlist', level='free', phase=0),\n",
       " Row(userId='98', firstname='Sawyer', ts=1538727328000, page='NextSong', level='free', phase=0),\n",
       " Row(userId='98', firstname='Sawyer', ts=1538727575000, page='NextSong', level='free', phase=0),\n",
       " Row(userId='98', firstname='Sawyer', ts=1538727763000, page='NextSong', level='free', phase=0),\n",
       " Row(userId='98', firstname='Sawyer', ts=1538728027000, page='NextSong', level='free', phase=0),\n",
       " Row(userId='98', firstname='Sawyer', ts=1538728324000, page='NextSong', level='free', phase=0),\n",
       " Row(userId='98', firstname='Sawyer', ts=1538728515000, page='NextSong', level='free', phase=0),\n",
       " Row(userId='98', firstname='Sawyer', ts=1538728775000, page='NextSong', level='free', phase=0),\n",
       " Row(userId='98', firstname='Sawyer', ts=1538824898000, page='Home', level='free', phase=0),\n",
       " Row(userId='98', firstname='Sawyer', ts=1538824933000, page='NextSong', level='free', phase=0),\n",
       " Row(userId='98', firstname='Sawyer', ts=1538825057000, page='Home', level='free', phase=0),\n",
       " Row(userId='98', firstname='Sawyer', ts=1538825148000, page='NextSong', level='free', phase=0),\n",
       " Row(userId='98', firstname='Sawyer', ts=1538825149000, page='Thumbs Up', level='free', phase=0),\n",
       " Row(userId='98', firstname='Sawyer', ts=1538825221000, page='NextSong', level='free', phase=0),\n",
       " Row(userId='98', firstname='Sawyer', ts=1538825430000, page='NextSong', level='free', phase=0),\n",
       " Row(userId='98', firstname='Sawyer', ts=1538825615000, page='NextSong', level='free', phase=0),\n",
       " Row(userId='98', firstname='Sawyer', ts=1538825672000, page='NextSong', level='free', phase=0),\n",
       " Row(userId='98', firstname='Sawyer', ts=1538826020000, page='NextSong', level='free', phase=0),\n",
       " Row(userId='98', firstname='Sawyer', ts=1538826256000, page='NextSong', level='free', phase=0),\n",
       " Row(userId='98', firstname='Sawyer', ts=1538826442000, page='Roll Advert', level='free', phase=0),\n",
       " Row(userId='98', firstname='Sawyer', ts=1538826484000, page='NextSong', level='free', phase=0),\n",
       " Row(userId='98', firstname='Sawyer', ts=1538826781000, page='NextSong', level='free', phase=0),\n",
       " Row(userId='98', firstname='Sawyer', ts=1538826938000, page='NextSong', level='free', phase=0),\n",
       " Row(userId='98', firstname='Sawyer', ts=1538827233000, page='NextSong', level='free', phase=0),\n",
       " Row(userId='98', firstname='Sawyer', ts=1538827482000, page='NextSong', level='free', phase=0),\n",
       " Row(userId='98', firstname='Sawyer', ts=1538827688000, page='NextSong', level='free', phase=0),\n",
       " Row(userId='98', firstname='Sawyer', ts=1538827927000, page='NextSong', level='free', phase=0),\n",
       " Row(userId='98', firstname='Sawyer', ts=1538828126000, page='NextSong', level='free', phase=0),\n",
       " Row(userId='98', firstname='Sawyer', ts=1538828210000, page='Roll Advert', level='free', phase=0),\n",
       " Row(userId='98', firstname='Sawyer', ts=1538828529000, page='NextSong', level='free', phase=0),\n",
       " Row(userId='98', firstname='Sawyer', ts=1538828530000, page='Thumbs Down', level='free', phase=0),\n",
       " Row(userId='98', firstname='Sawyer', ts=1538828745000, page='NextSong', level='free', phase=0),\n",
       " Row(userId='98', firstname='Sawyer', ts=1538828956000, page='NextSong', level='free', phase=0),\n",
       " Row(userId='98', firstname='Sawyer', ts=1538828989000, page='Home', level='free', phase=0),\n",
       " Row(userId='98', firstname='Sawyer', ts=1538829204000, page='NextSong', level='free', phase=0),\n",
       " Row(userId='98', firstname='Sawyer', ts=1538829463000, page='NextSong', level='free', phase=0),\n",
       " Row(userId='98', firstname='Sawyer', ts=1538829768000, page='NextSong', level='free', phase=0),\n",
       " Row(userId='98', firstname='Sawyer', ts=1538829925000, page='NextSong', level='free', phase=0),\n",
       " Row(userId='98', firstname='Sawyer', ts=1538830219000, page='NextSong', level='free', phase=0),\n",
       " Row(userId='98', firstname='Sawyer', ts=1538830463000, page='NextSong', level='free', phase=0),\n",
       " Row(userId='98', firstname='Sawyer', ts=1538830464000, page='Logout', level='free', phase=0),\n",
       " Row(userId='98', firstname='Sawyer', ts=1538830637000, page='Home', level='free', phase=0),\n",
       " Row(userId='98', firstname='Sawyer', ts=1538830751000, page='NextSong', level='free', phase=0),\n",
       " Row(userId='98', firstname='Sawyer', ts=1538831030000, page='NextSong', level='free', phase=0),\n",
       " Row(userId='98', firstname='Sawyer', ts=1538831251000, page='NextSong', level='free', phase=0),\n",
       " Row(userId='98', firstname='Sawyer', ts=1538831504000, page='NextSong', level='free', phase=0),\n",
       " Row(userId='98', firstname='Sawyer', ts=1538832029000, page='Roll Advert', level='free', phase=0),\n",
       " Row(userId='98', firstname='Sawyer', ts=1538832120000, page='NextSong', level='free', phase=0),\n",
       " Row(userId='98', firstname='Sawyer', ts=1538832353000, page='NextSong', level='free', phase=0),\n",
       " Row(userId='98', firstname='Sawyer', ts=1538832745000, page='NextSong', level='free', phase=0),\n",
       " Row(userId='98', firstname='Sawyer', ts=1538833130000, page='NextSong', level='free', phase=0),\n",
       " Row(userId='98', firstname='Sawyer', ts=1538833400000, page='NextSong', level='free', phase=0),\n",
       " Row(userId='98', firstname='Sawyer', ts=1538833637000, page='NextSong', level='free', phase=0),\n",
       " Row(userId='98', firstname='Sawyer', ts=1538833818000, page='NextSong', level='free', phase=0),\n",
       " Row(userId='98', firstname='Sawyer', ts=1538834076000, page='NextSong', level='free', phase=0),\n",
       " Row(userId='98', firstname='Sawyer', ts=1538834303000, page='NextSong', level='free', phase=0),\n",
       " Row(userId='98', firstname='Sawyer', ts=1538834534000, page='NextSong', level='free', phase=0),\n",
       " Row(userId='98', firstname='Sawyer', ts=1538834580000, page='Roll Advert', level='free', phase=0),\n",
       " Row(userId='98', firstname='Sawyer', ts=1538834688000, page='NextSong', level='free', phase=0),\n",
       " Row(userId='98', firstname='Sawyer', ts=1538834689000, page='Thumbs Up', level='free', phase=0),\n",
       " Row(userId='98', firstname='Sawyer', ts=1538834955000, page='NextSong', level='free', phase=0),\n",
       " Row(userId='98', firstname='Sawyer', ts=1538835146000, page='NextSong', level='free', phase=0),\n",
       " Row(userId='98', firstname='Sawyer', ts=1538835448000, page='NextSong', level='free', phase=0),\n",
       " Row(userId='98', firstname='Sawyer', ts=1538835686000, page='NextSong', level='free', phase=0),\n",
       " Row(userId='98', firstname='Sawyer', ts=1538835899000, page='NextSong', level='free', phase=0),\n",
       " Row(userId='98', firstname='Sawyer', ts=1538836089000, page='NextSong', level='free', phase=0),\n",
       " Row(userId='98', firstname='Sawyer', ts=1538836324000, page='NextSong', level='free', phase=0),\n",
       " Row(userId='98', firstname='Sawyer', ts=1538836524000, page='NextSong', level='free', phase=0),\n",
       " Row(userId='98', firstname='Sawyer', ts=1538836826000, page='NextSong', level='free', phase=0),\n",
       " Row(userId='98', firstname='Sawyer', ts=1538836827000, page='Thumbs Up', level='free', phase=0),\n",
       " Row(userId='98', firstname='Sawyer', ts=1538836980000, page='NextSong', level='free', phase=0),\n",
       " Row(userId='98', firstname='Sawyer', ts=1538836981000, page='Thumbs Up', level='free', phase=0),\n",
       " Row(userId='98', firstname='Sawyer', ts=1538837456000, page='NextSong', level='free', phase=0),\n",
       " Row(userId='98', firstname='Sawyer', ts=1538837457000, page='Thumbs Up', level='free', phase=0),\n",
       " Row(userId='98', firstname='Sawyer', ts=1538837964000, page='NextSong', level='free', phase=0),\n",
       " Row(userId='98', firstname='Sawyer', ts=1538838306000, page='NextSong', level='free', phase=0),\n",
       " Row(userId='98', firstname='Sawyer', ts=1538838475000, page='NextSong', level='free', phase=0),\n",
       " Row(userId='98', firstname='Sawyer', ts=1538838475000, page='Home', level='free', phase=0),\n",
       " Row(userId='98', firstname='Sawyer', ts=1538838475000, page='Home', level='free', phase=0),\n",
       " Row(userId='98', firstname='Sawyer', ts=1538838730000, page='NextSong', level='free', phase=0),\n",
       " Row(userId='98', firstname='Sawyer', ts=1538838991000, page='Roll Advert', level='free', phase=0),\n",
       " Row(userId='98', firstname='Sawyer', ts=1538839031000, page='NextSong', level='free', phase=0),\n",
       " Row(userId='98', firstname='Sawyer', ts=1538839288000, page='NextSong', level='free', phase=0),\n",
       " Row(userId='98', firstname='Sawyer', ts=1538839491000, page='NextSong', level='free', phase=0),\n",
       " Row(userId='98', firstname='Sawyer', ts=1538839492000, page='Thumbs Up', level='free', phase=0),\n",
       " Row(userId='98', firstname='Sawyer', ts=1538839737000, page='NextSong', level='free', phase=0),\n",
       " Row(userId='98', firstname='Sawyer', ts=1538839992000, page='NextSong', level='free', phase=0),\n",
       " Row(userId='98', firstname='Sawyer', ts=1538840232000, page='NextSong', level='free', phase=0),\n",
       " Row(userId='98', firstname='Sawyer', ts=1538840421000, page='Roll Advert', level='free', phase=0),\n",
       " Row(userId='98', firstname='Sawyer', ts=1538840479000, page='NextSong', level='free', phase=0),\n",
       " Row(userId='98', firstname='Sawyer', ts=1538840651000, page='NextSong', level='free', phase=0),\n",
       " Row(userId='98', firstname='Sawyer', ts=1538840652000, page='Thumbs Down', level='free', phase=0),\n",
       " Row(userId='98', firstname='Sawyer', ts=1538840877000, page='NextSong', level='free', phase=0),\n",
       " Row(userId='98', firstname='Sawyer', ts=1538841170000, page='NextSong', level='free', phase=0),\n",
       " Row(userId='98', firstname='Sawyer', ts=1538841410000, page='NextSong', level='free', phase=0),\n",
       " Row(userId='98', firstname='Sawyer', ts=1538841685000, page='NextSong', level='free', phase=0),\n",
       " Row(userId='98', firstname='Sawyer', ts=1538841686000, page='Add Friend', level='free', phase=0),\n",
       " Row(userId='98', firstname='Sawyer', ts=1538841938000, page='NextSong', level='free', phase=0),\n",
       " Row(userId='98', firstname='Sawyer', ts=1538842009000, page='Roll Advert', level='free', phase=0),\n",
       " Row(userId='98', firstname='Sawyer', ts=1538842200000, page='NextSong', level='free', phase=0),\n",
       " Row(userId='98', firstname='Sawyer', ts=1538842630000, page='NextSong', level='free', phase=0),\n",
       " Row(userId='98', firstname='Sawyer', ts=1538842813000, page='NextSong', level='free', phase=0),\n",
       " Row(userId='98', firstname='Sawyer', ts=1538843123000, page='NextSong', level='free', phase=0),\n",
       " Row(userId='98', firstname='Sawyer', ts=1538843190000, page='Help', level='free', phase=0),\n",
       " Row(userId='98', firstname='Sawyer', ts=1538843394000, page='Help', level='free', phase=0),\n",
       " Row(userId='98', firstname='Sawyer', ts=1538843454000, page='NextSong', level='free', phase=0),\n",
       " Row(userId='98', firstname='Sawyer', ts=1538843455000, page='Thumbs Up', level='free', phase=0),\n",
       " Row(userId='98', firstname='Sawyer', ts=1538843881000, page='NextSong', level='free', phase=0),\n",
       " Row(userId='98', firstname='Sawyer', ts=1538844140000, page='NextSong', level='free', phase=0),\n",
       " Row(userId='98', firstname='Sawyer', ts=1538844200000, page='Roll Advert', level='free', phase=0),\n",
       " Row(userId='98', firstname='Sawyer', ts=1538844320000, page='NextSong', level='free', phase=0),\n",
       " Row(userId='98', firstname='Sawyer', ts=1538844366000, page='Roll Advert', level='free', phase=0),\n",
       " Row(userId='98', firstname='Sawyer', ts=1538844539000, page='NextSong', level='free', phase=0),\n",
       " Row(userId='98', firstname='Sawyer', ts=1538844986000, page='NextSong', level='free', phase=0),\n",
       " Row(userId='98', firstname='Sawyer', ts=1538845092000, page='NextSong', level='free', phase=0),\n",
       " Row(userId='98', firstname='Sawyer', ts=1538845328000, page='NextSong', level='free', phase=0),\n",
       " Row(userId='98', firstname='Sawyer', ts=1538845329000, page='Thumbs Down', level='free', phase=0),\n",
       " Row(userId='98', firstname='Sawyer', ts=1538845605000, page='NextSong', level='free', phase=0),\n",
       " Row(userId='98', firstname='Sawyer', ts=1538845640000, page='Add to Playlist', level='free', phase=0),\n",
       " Row(userId='98', firstname='Sawyer', ts=1538846023000, page='NextSong', level='free', phase=0),\n",
       " Row(userId='98', firstname='Sawyer', ts=1538846183000, page='NextSong', level='free', phase=0),\n",
       " Row(userId='98', firstname='Sawyer', ts=1538846184000, page='Thumbs Up', level='free', phase=0),\n",
       " Row(userId='98', firstname='Sawyer', ts=1538846400000, page='NextSong', level='free', phase=0),\n",
       " Row(userId='98', firstname='Sawyer', ts=1538846686000, page='NextSong', level='free', phase=0),\n",
       " Row(userId='98', firstname='Sawyer', ts=1538846966000, page='NextSong', level='free', phase=0),\n",
       " Row(userId='98', firstname='Sawyer', ts=1538847222000, page='NextSong', level='free', phase=0),\n",
       " Row(userId='98', firstname='Sawyer', ts=1538847223000, page='Thumbs Up', level='free', phase=0),\n",
       " Row(userId='98', firstname='Sawyer', ts=1538847459000, page='NextSong', level='free', phase=0),\n",
       " Row(userId='98', firstname='Sawyer', ts=1538847617000, page='Home', level='free', phase=0),\n",
       " Row(userId='98', firstname='Sawyer', ts=1538847692000, page='NextSong', level='free', phase=0),\n",
       " Row(userId='98', firstname='Sawyer', ts=1538847763000, page='Roll Advert', level='free', phase=0),\n",
       " Row(userId='98', firstname='Sawyer', ts=1538847932000, page='NextSong', level='free', phase=0),\n",
       " Row(userId='98', firstname='Sawyer', ts=1538848027000, page='Roll Advert', level='free', phase=0),\n",
       " Row(userId='98', firstname='Sawyer', ts=1538980971000, page='Home', level='free', phase=0),\n",
       " Row(userId='98', firstname='Sawyer', ts=1538981078000, page='NextSong', level='free', phase=0),\n",
       " Row(userId='98', firstname='Sawyer', ts=1538981399000, page='NextSong', level='free', phase=0),\n",
       " Row(userId='98', firstname='Sawyer', ts=1538981673000, page='NextSong', level='free', phase=0),\n",
       " Row(userId='98', firstname='Sawyer', ts=1538982000000, page='NextSong', level='free', phase=0),\n",
       " Row(userId='98', firstname='Sawyer', ts=1538982001000, page='Logout', level='free', phase=0),\n",
       " Row(userId='98', firstname='Sawyer', ts=1538982083000, page='Home', level='free', phase=0),\n",
       " Row(userId='98', firstname='Sawyer', ts=1538982408000, page='NextSong', level='free', phase=0),\n",
       " Row(userId='98', firstname='Sawyer', ts=1538982618000, page='NextSong', level='free', phase=0),\n",
       " Row(userId='98', firstname='Sawyer', ts=1538982835000, page='NextSong', level='free', phase=0),\n",
       " Row(userId='98', firstname='Sawyer', ts=1538983344000, page='NextSong', level='free', phase=0),\n",
       " Row(userId='98', firstname='Sawyer', ts=1538983410000, page='Roll Advert', level='free', phase=0),\n",
       " Row(userId='98', firstname='Sawyer', ts=1538983633000, page='NextSong', level='free', phase=0),\n",
       " Row(userId='98', firstname='Sawyer', ts=1538983888000, page='NextSong', level='free', phase=0),\n",
       " Row(userId='98', firstname='Sawyer', ts=1538984113000, page='NextSong', level='free', phase=0),\n",
       " Row(userId='98', firstname='Sawyer', ts=1538984364000, page='NextSong', level='free', phase=0),\n",
       " Row(userId='98', firstname='Sawyer', ts=1538984527000, page='NextSong', level='free', phase=0),\n",
       " Row(userId='98', firstname='Sawyer', ts=1538984740000, page='NextSong', level='free', phase=0),\n",
       " Row(userId='98', firstname='Sawyer', ts=1538985052000, page='NextSong', level='free', phase=0),\n",
       " Row(userId='98', firstname='Sawyer', ts=1538985320000, page='NextSong', level='free', phase=0),\n",
       " Row(userId='98', firstname='Sawyer', ts=1538985558000, page='NextSong', level='free', phase=0),\n",
       " Row(userId='98', firstname='Sawyer', ts=1538985790000, page='NextSong', level='free', phase=0),\n",
       " Row(userId='98', firstname='Sawyer', ts=1538986055000, page='NextSong', level='free', phase=0),\n",
       " Row(userId='98', firstname='Sawyer', ts=1538986271000, page='NextSong', level='free', phase=0),\n",
       " Row(userId='98', firstname='Sawyer', ts=1538986475000, page='NextSong', level='free', phase=0),\n",
       " Row(userId='98', firstname='Sawyer', ts=1538986755000, page='NextSong', level='free', phase=0),\n",
       " Row(userId='98', firstname='Sawyer', ts=1538987130000, page='Roll Advert', level='free', phase=0),\n",
       " Row(userId='98', firstname='Sawyer', ts=1538987189000, page='NextSong', level='free', phase=0),\n",
       " Row(userId='98', firstname='Sawyer', ts=1538987190000, page='Thumbs Up', level='free', phase=0),\n",
       " Row(userId='98', firstname='Sawyer', ts=1538987357000, page='NextSong', level='free', phase=0),\n",
       " Row(userId='98', firstname='Sawyer', ts=1538987368000, page='Roll Advert', level='free', phase=0),\n",
       " Row(userId='98', firstname='Sawyer', ts=1538987626000, page='NextSong', level='free', phase=0),\n",
       " Row(userId='98', firstname='Sawyer', ts=1538987830000, page='NextSong', level='free', phase=0),\n",
       " Row(userId='98', firstname='Sawyer', ts=1538988047000, page='NextSong', level='free', phase=0),\n",
       " Row(userId='98', firstname='Sawyer', ts=1538988258000, page='NextSong', level='free', phase=0),\n",
       " Row(userId='98', firstname='Sawyer', ts=1538988491000, page='NextSong', level='free', phase=0),\n",
       " Row(userId='98', firstname='Sawyer', ts=1538988778000, page='NextSong', level='free', phase=0),\n",
       " Row(userId='98', firstname='Sawyer', ts=1538989022000, page='NextSong', level='free', phase=0),\n",
       " Row(userId='98', firstname='Sawyer', ts=1538989023000, page='Logout', level='free', phase=0),\n",
       " Row(userId='98', firstname='Sawyer', ts=1538989486000, page='Home', level='free', phase=0),\n",
       " Row(userId='98', firstname='Sawyer', ts=1538989517000, page='NextSong', level='free', phase=0),\n",
       " Row(userId='98', firstname='Sawyer', ts=1538989773000, page='Roll Advert', level='free', phase=0),\n",
       " Row(userId='98', firstname='Sawyer', ts=1538989836000, page='NextSong', level='free', phase=0),\n",
       " Row(userId='98', firstname='Sawyer', ts=1538989892000, page='Roll Advert', level='free', phase=0),\n",
       " Row(userId='98', firstname='Sawyer', ts=1539066593000, page='NextSong', level='free', phase=0),\n",
       " Row(userId='98', firstname='Sawyer', ts=1539066632000, page='NextSong', level='free', phase=0),\n",
       " Row(userId='98', firstname='Sawyer', ts=1539067134000, page='NextSong', level='free', phase=0),\n",
       " Row(userId='98', firstname='Sawyer', ts=1539067301000, page='NextSong', level='free', phase=0),\n",
       " Row(userId='98', firstname='Sawyer', ts=1539067302000, page='Logout', level='free', phase=0),\n",
       " Row(userId='98', firstname='Sawyer', ts=1539067767000, page='Home', level='free', phase=0),\n",
       " Row(userId='98', firstname='Sawyer', ts=1539067879000, page='NextSong', level='free', phase=0),\n",
       " Row(userId='98', firstname='Sawyer', ts=1539067970000, page='Roll Advert', level='free', phase=0),\n",
       " Row(userId='98', firstname='Sawyer', ts=1539068118000, page='NextSong', level='free', phase=0),\n",
       " Row(userId='98', firstname='Sawyer', ts=1539068221000, page='Error', level='free', phase=0),\n",
       " Row(userId='98', firstname='Sawyer', ts=1539068353000, page='NextSong', level='free', phase=0),\n",
       " Row(userId='98', firstname='Sawyer', ts=1539068472000, page='Add to Playlist', level='free', phase=0),\n",
       " Row(userId='98', firstname='Sawyer', ts=1539068539000, page='NextSong', level='free', phase=0),\n",
       " Row(userId='98', firstname='Sawyer', ts=1539068731000, page='NextSong', level='free', phase=0),\n",
       " Row(userId='98', firstname='Sawyer', ts=1539068905000, page='NextSong', level='free', phase=0),\n",
       " Row(userId='98', firstname='Sawyer', ts=1539069080000, page='NextSong', level='free', phase=0),\n",
       " Row(userId='98', firstname='Sawyer', ts=1539069081000, page='Thumbs Up', level='free', phase=0),\n",
       " Row(userId='98', firstname='Sawyer', ts=1539069281000, page='NextSong', level='free', phase=0),\n",
       " Row(userId='98', firstname='Sawyer', ts=1539069504000, page='NextSong', level='free', phase=0),\n",
       " Row(userId='98', firstname='Sawyer', ts=1539069709000, page='NextSong', level='free', phase=0),\n",
       " Row(userId='98', firstname='Sawyer', ts=1539069958000, page='NextSong', level='free', phase=0),\n",
       " Row(userId='98', firstname='Sawyer', ts=1539069975000, page='Add to Playlist', level='free', phase=0),\n",
       " Row(userId='98', firstname='Sawyer', ts=1539070229000, page='NextSong', level='free', phase=0),\n",
       " Row(userId='98', firstname='Sawyer', ts=1539070451000, page='NextSong', level='free', phase=0),\n",
       " Row(userId='98', firstname='Sawyer', ts=1539070452000, page='Logout', level='free', phase=0),\n",
       " Row(userId='98', firstname='Sawyer', ts=1539447950000, page='Home', level='free', phase=0),\n",
       " Row(userId='98', firstname='Sawyer', ts=1539447965000, page='NextSong', level='free', phase=0),\n",
       " Row(userId='98', firstname='Sawyer', ts=1539447966000, page='Thumbs Up', level='free', phase=0),\n",
       " Row(userId='98', firstname='Sawyer', ts=1539448191000, page='NextSong', level='free', phase=0),\n",
       " Row(userId='98', firstname='Sawyer', ts=1539684037000, page='Home', level='free', phase=0),\n",
       " Row(userId='98', firstname='Sawyer', ts=1539684040000, page='NextSong', level='free', phase=0),\n",
       " Row(userId='98', firstname='Sawyer', ts=1539684054000, page='Add to Playlist', level='free', phase=0),\n",
       " Row(userId='98', firstname='Sawyer', ts=1539684492000, page='NextSong', level='free', phase=0),\n",
       " Row(userId='98', firstname='Sawyer', ts=1539684663000, page='NextSong', level='free', phase=0),\n",
       " Row(userId='98', firstname='Sawyer', ts=1539684927000, page='NextSong', level='free', phase=0),\n",
       " Row(userId='98', firstname='Sawyer', ts=1539685179000, page='NextSong', level='free', phase=0),\n",
       " Row(userId='98', firstname='Sawyer', ts=1539685425000, page='NextSong', level='free', phase=0),\n",
       " Row(userId='98', firstname='Sawyer', ts=1539685645000, page='NextSong', level='free', phase=0),\n",
       " Row(userId='98', firstname='Sawyer', ts=1539685731000, page='Roll Advert', level='free', phase=0),\n",
       " Row(userId='98', firstname='Sawyer', ts=1539685878000, page='NextSong', level='free', phase=0),\n",
       " Row(userId='98', firstname='Sawyer', ts=1539686073000, page='NextSong', level='free', phase=0),\n",
       " Row(userId='98', firstname='Sawyer', ts=1539686368000, page='NextSong', level='free', phase=0),\n",
       " Row(userId='98', firstname='Sawyer', ts=1539686584000, page='NextSong', level='free', phase=0),\n",
       " Row(userId='98', firstname='Sawyer', ts=1539686837000, page='NextSong', level='free', phase=0),\n",
       " Row(userId='98', firstname='Sawyer', ts=1539687066000, page='NextSong', level='free', phase=0),\n",
       " Row(userId='98', firstname='Sawyer', ts=1539687067000, page='Thumbs Up', level='free', phase=0),\n",
       " Row(userId='98', firstname='Sawyer', ts=1539687247000, page='NextSong', level='free', phase=0),\n",
       " Row(userId='98', firstname='Sawyer', ts=1539687248000, page='Thumbs Up', level='free', phase=0),\n",
       " Row(userId='98', firstname='Sawyer', ts=1539687647000, page='NextSong', level='free', phase=0),\n",
       " Row(userId='98', firstname='Sawyer', ts=1539687648000, page='Add Friend', level='free', phase=0),\n",
       " Row(userId='98', firstname='Sawyer', ts=1539687696000, page='Help', level='free', phase=0),\n",
       " Row(userId='98', firstname='Sawyer', ts=1539687711000, page='Home', level='free', phase=0),\n",
       " Row(userId='98', firstname='Sawyer', ts=1539687828000, page='NextSong', level='free', phase=0),\n",
       " Row(userId='98', firstname='Sawyer', ts=1539687829000, page='Logout', level='free', phase=0),\n",
       " Row(userId='98', firstname='Sawyer', ts=1539687853000, page='Home', level='free', phase=0),\n",
       " Row(userId='98', firstname='Sawyer', ts=1539687854000, page='Add Friend', level='free', phase=0),\n",
       " Row(userId='98', firstname='Sawyer', ts=1539688074000, page='NextSong', level='free', phase=0),\n",
       " Row(userId='98', firstname='Sawyer', ts=1539688463000, page='NextSong', level='free', phase=0),\n",
       " Row(userId='98', firstname='Sawyer', ts=1539688699000, page='NextSong', level='free', phase=0),\n",
       " Row(userId='98', firstname='Sawyer', ts=1539688936000, page='NextSong', level='free', phase=0),\n",
       " Row(userId='98', firstname='Sawyer', ts=1539688937000, page='Add Friend', level='free', phase=0),\n",
       " Row(userId='98', firstname='Sawyer', ts=1539689186000, page='NextSong', level='free', phase=0),\n",
       " Row(userId='98', firstname='Sawyer', ts=1539689395000, page='NextSong', level='free', phase=0),\n",
       " Row(userId='98', firstname='Sawyer', ts=1539689570000, page='NextSong', level='free', phase=0),\n",
       " Row(userId='98', firstname='Sawyer', ts=1539689759000, page='NextSong', level='free', phase=0),\n",
       " Row(userId='98', firstname='Sawyer', ts=1539689986000, page='NextSong', level='free', phase=0),\n",
       " Row(userId='98', firstname='Sawyer', ts=1539690215000, page='NextSong', level='free', phase=0),\n",
       " Row(userId='98', firstname='Sawyer', ts=1539690525000, page='NextSong', level='free', phase=0),\n",
       " Row(userId='98', firstname='Sawyer', ts=1539690794000, page='NextSong', level='free', phase=0),\n",
       " Row(userId='98', firstname='Sawyer', ts=1539690953000, page='NextSong', level='free', phase=0),\n",
       " Row(userId='98', firstname='Sawyer', ts=1539691166000, page='NextSong', level='free', phase=0),\n",
       " Row(userId='98', firstname='Sawyer', ts=1539691424000, page='NextSong', level='free', phase=0),\n",
       " Row(userId='98', firstname='Sawyer', ts=1539691589000, page='NextSong', level='free', phase=0),\n",
       " Row(userId='98', firstname='Sawyer', ts=1539691649000, page='Roll Advert', level='free', phase=0),\n",
       " Row(userId='98', firstname='Sawyer', ts=1539691792000, page='NextSong', level='free', phase=0),\n",
       " Row(userId='98', firstname='Sawyer', ts=1539691991000, page='NextSong', level='free', phase=0),\n",
       " Row(userId='98', firstname='Sawyer', ts=1539692267000, page='NextSong', level='free', phase=0),\n",
       " Row(userId='98', firstname='Sawyer', ts=1539692289000, page='Add to Playlist', level='free', phase=0),\n",
       " Row(userId='98', firstname='Sawyer', ts=1539692479000, page='NextSong', level='free', phase=0),\n",
       " Row(userId='98', firstname='Sawyer', ts=1539692710000, page='NextSong', level='free', phase=0),\n",
       " Row(userId='98', firstname='Sawyer', ts=1539692984000, page='NextSong', level='free', phase=0),\n",
       " Row(userId='98', firstname='Sawyer', ts=1539693278000, page='NextSong', level='free', phase=0),\n",
       " Row(userId='98', firstname='Sawyer', ts=1539693498000, page='NextSong', level='free', phase=0),\n",
       " Row(userId='98', firstname='Sawyer', ts=1539693667000, page='NextSong', level='free', phase=0),\n",
       " Row(userId='98', firstname='Sawyer', ts=1539693794000, page='Upgrade', level='free', phase=0),\n",
       " Row(userId='98', firstname='Sawyer', ts=1539693843000, page='NextSong', level='free', phase=0),\n",
       " Row(userId='98', firstname='Sawyer', ts=1539694071000, page='NextSong', level='free', phase=0),\n",
       " Row(userId='98', firstname='Sawyer', ts=1539694371000, page='NextSong', level='free', phase=0),\n",
       " Row(userId='98', firstname='Sawyer', ts=1539694677000, page='NextSong', level='free', phase=0),\n",
       " Row(userId='98', firstname='Sawyer', ts=1539695332000, page='NextSong', level='free', phase=0),\n",
       " Row(userId='98', firstname='Sawyer', ts=1539695561000, page='NextSong', level='free', phase=0),\n",
       " Row(userId='98', firstname='Sawyer', ts=1539695624000, page='Roll Advert', level='free', phase=0),\n",
       " Row(userId='98', firstname='Sawyer', ts=1539695828000, page='NextSong', level='free', phase=0),\n",
       " Row(userId='98', firstname='Sawyer', ts=1539696112000, page='NextSong', level='free', phase=0),\n",
       " Row(userId='98', firstname='Sawyer', ts=1539696321000, page='NextSong', level='free', phase=0),\n",
       " Row(userId='98', firstname='Sawyer', ts=1539696547000, page='NextSong', level='free', phase=0),\n",
       " Row(userId='98', firstname='Sawyer', ts=1539696768000, page='NextSong', level='free', phase=0),\n",
       " Row(userId='98', firstname='Sawyer', ts=1539696769000, page='Thumbs Up', level='free', phase=0),\n",
       " Row(userId='98', firstname='Sawyer', ts=1539696925000, page='NextSong', level='free', phase=0),\n",
       " Row(userId='98', firstname='Sawyer', ts=1539978713000, page='NextSong', level='free', phase=0),\n",
       " Row(userId='98', firstname='Sawyer', ts=1539978876000, page='NextSong', level='free', phase=0),\n",
       " Row(userId='98', firstname='Sawyer', ts=1539979129000, page='NextSong', level='free', phase=0),\n",
       " Row(userId='98', firstname='Sawyer', ts=1539979845000, page='NextSong', level='free', phase=0),\n",
       " Row(userId='98', firstname='Sawyer', ts=1539980100000, page='NextSong', level='free', phase=0),\n",
       " Row(userId='98', firstname='Sawyer', ts=1539980606000, page='NextSong', level='free', phase=0),\n",
       " Row(userId='98', firstname='Sawyer', ts=1539980857000, page='Add to Playlist', level='free', phase=0),\n",
       " Row(userId='98', firstname='Sawyer', ts=1539980893000, page='NextSong', level='free', phase=0),\n",
       " Row(userId='98', firstname='Sawyer', ts=1539981124000, page='NextSong', level='free', phase=0),\n",
       " Row(userId='98', firstname='Sawyer', ts=1539981125000, page='Thumbs Up', level='free', phase=0),\n",
       " Row(userId='98', firstname='Sawyer', ts=1540163883000, page='Home', level='free', phase=0),\n",
       " Row(userId='98', firstname='Sawyer', ts=1540163989000, page='NextSong', level='free', phase=0),\n",
       " Row(userId='98', firstname='Sawyer', ts=1540164210000, page='NextSong', level='free', phase=0),\n",
       " Row(userId='98', firstname='Sawyer', ts=1540164418000, page='NextSong', level='free', phase=0),\n",
       " Row(userId='98', firstname='Sawyer', ts=1540164676000, page='NextSong', level='free', phase=0),\n",
       " Row(userId='98', firstname='Sawyer', ts=1540164871000, page='Roll Advert', level='free', phase=0),\n",
       " Row(userId='98', firstname='Sawyer', ts=1540164943000, page='NextSong', level='free', phase=0),\n",
       " Row(userId='98', firstname='Sawyer', ts=1540164944000, page='Thumbs Up', level='free', phase=0),\n",
       " Row(userId='98', firstname='Sawyer', ts=1540457062000, page='NextSong', level='free', phase=0),\n",
       " Row(userId='98', firstname='Sawyer', ts=1540457281000, page='NextSong', level='free', phase=0),\n",
       " Row(userId='98', firstname='Sawyer', ts=1540457720000, page='NextSong', level='free', phase=0),\n",
       " Row(userId='98', firstname='Sawyer', ts=1540457720000, page='Error', level='free', phase=0),\n",
       " Row(userId='98', firstname='Sawyer', ts=1540458078000, page='NextSong', level='free', phase=0),\n",
       " Row(userId='98', firstname='Sawyer', ts=1540458136000, page='Home', level='free', phase=0),\n",
       " Row(userId='98', firstname='Sawyer', ts=1540458268000, page='NextSong', level='free', phase=0),\n",
       " Row(userId='98', firstname='Sawyer', ts=1540458556000, page='NextSong', level='free', phase=0),\n",
       " Row(userId='98', firstname='Sawyer', ts=1540458608000, page='Upgrade', level='free', phase=0),\n",
       " Row(userId='98', firstname='Sawyer', ts=1540458609000, page='Submit Upgrade', level='free', phase=0),\n",
       " Row(userId='98', firstname='Sawyer', ts=1540458725000, page='Home', level='paid', phase=0),\n",
       " Row(userId='98', firstname='Sawyer', ts=1540458773000, page='NextSong', level='paid', phase=0),\n",
       " Row(userId='98', firstname='Sawyer', ts=1540458887000, page='Downgrade', level='paid', phase=0),\n",
       " Row(userId='98', firstname='Sawyer', ts=1540458976000, page='NextSong', level='paid', phase=0),\n",
       " Row(userId='98', firstname='Sawyer', ts=1540459211000, page='NextSong', level='paid', phase=0),\n",
       " Row(userId='98', firstname='Sawyer', ts=1540459488000, page='NextSong', level='paid', phase=0),\n",
       " Row(userId='98', firstname='Sawyer', ts=1540460280000, page='NextSong', level='paid', phase=0),\n",
       " Row(userId='98', firstname='Sawyer', ts=1540460467000, page='NextSong', level='paid', phase=0),\n",
       " Row(userId='98', firstname='Sawyer', ts=1540460818000, page='NextSong', level='paid', phase=0),\n",
       " Row(userId='98', firstname='Sawyer', ts=1540461052000, page='NextSong', level='paid', phase=0),\n",
       " Row(userId='98', firstname='Sawyer', ts=1540461243000, page='NextSong', level='paid', phase=0),\n",
       " Row(userId='98', firstname='Sawyer', ts=1540461615000, page='NextSong', level='paid', phase=0),\n",
       " Row(userId='98', firstname='Sawyer', ts=1540462131000, page='NextSong', level='paid', phase=0),\n",
       " Row(userId='98', firstname='Sawyer', ts=1540462360000, page='NextSong', level='paid', phase=0),\n",
       " Row(userId='98', firstname='Sawyer', ts=1540462807000, page='NextSong', level='paid', phase=0),\n",
       " Row(userId='98', firstname='Sawyer', ts=1540463160000, page='NextSong', level='paid', phase=0),\n",
       " Row(userId='98', firstname='Sawyer', ts=1540463435000, page='NextSong', level='paid', phase=0),\n",
       " Row(userId='98', firstname='Sawyer', ts=1540463725000, page='NextSong', level='paid', phase=0),\n",
       " Row(userId='98', firstname='Sawyer', ts=1540463995000, page='NextSong', level='paid', phase=0),\n",
       " Row(userId='98', firstname='Sawyer', ts=1540464206000, page='NextSong', level='paid', phase=0),\n",
       " Row(userId='98', firstname='Sawyer', ts=1540464293000, page='NextSong', level='paid', phase=0),\n",
       " Row(userId='98', firstname='Sawyer', ts=1540464494000, page='NextSong', level='paid', phase=0),\n",
       " Row(userId='98', firstname='Sawyer', ts=1540464715000, page='NextSong', level='paid', phase=0),\n",
       " Row(userId='98', firstname='Sawyer', ts=1540464953000, page='NextSong', level='paid', phase=0),\n",
       " Row(userId='98', firstname='Sawyer', ts=1540465149000, page='Home', level='paid', phase=0),\n",
       " Row(userId='98', firstname='Sawyer', ts=1540465250000, page='NextSong', level='paid', phase=0),\n",
       " Row(userId='98', firstname='Sawyer', ts=1540465251000, page='Thumbs Up', level='paid', phase=0),\n",
       " Row(userId='98', firstname='Sawyer', ts=1540465447000, page='NextSong', level='paid', phase=0),\n",
       " Row(userId='98', firstname='Sawyer', ts=1540465647000, page='NextSong', level='paid', phase=0),\n",
       " Row(userId='98', firstname='Sawyer', ts=1540466188000, page='NextSong', level='paid', phase=0),\n",
       " Row(userId='98', firstname='Sawyer', ts=1540466534000, page='NextSong', level='paid', phase=0),\n",
       " Row(userId='98', firstname='Sawyer', ts=1540466839000, page='NextSong', level='paid', phase=0),\n",
       " Row(userId='98', firstname='Sawyer', ts=1540466992000, page='NextSong', level='paid', phase=0),\n",
       " Row(userId='98', firstname='Sawyer', ts=1540467240000, page='NextSong', level='paid', phase=0),\n",
       " Row(userId='98', firstname='Sawyer', ts=1540467473000, page='Add to Playlist', level='paid', phase=0),\n",
       " Row(userId='98', firstname='Sawyer', ts=1540467747000, page='NextSong', level='paid', phase=0),\n",
       " Row(userId='98', firstname='Sawyer', ts=1540467912000, page='NextSong', level='paid', phase=0),\n",
       " Row(userId='98', firstname='Sawyer', ts=1540468161000, page='NextSong', level='paid', phase=0),\n",
       " Row(userId='98', firstname='Sawyer', ts=1540468332000, page='NextSong', level='paid', phase=0),\n",
       " Row(userId='98', firstname='Sawyer', ts=1540468514000, page='NextSong', level='paid', phase=0),\n",
       " Row(userId='98', firstname='Sawyer', ts=1540468728000, page='NextSong', level='paid', phase=0),\n",
       " Row(userId='98', firstname='Sawyer', ts=1540468942000, page='NextSong', level='paid', phase=0),\n",
       " Row(userId='98', firstname='Sawyer', ts=1540469189000, page='NextSong', level='paid', phase=0),\n",
       " Row(userId='98', firstname='Sawyer', ts=1540469430000, page='NextSong', level='paid', phase=0),\n",
       " Row(userId='98', firstname='Sawyer', ts=1540469431000, page='Thumbs Down', level='paid', phase=0),\n",
       " Row(userId='98', firstname='Sawyer', ts=1540469673000, page='NextSong', level='paid', phase=0),\n",
       " Row(userId='98', firstname='Sawyer', ts=1540469961000, page='NextSong', level='paid', phase=0),\n",
       " Row(userId='98', firstname='Sawyer', ts=1540470135000, page='NextSong', level='paid', phase=0),\n",
       " Row(userId='98', firstname='Sawyer', ts=1540470359000, page='NextSong', level='paid', phase=0),\n",
       " Row(userId='98', firstname='Sawyer', ts=1540470781000, page='NextSong', level='paid', phase=0),\n",
       " Row(userId='98', firstname='Sawyer', ts=1540470991000, page='NextSong', level='paid', phase=0),\n",
       " Row(userId='98', firstname='Sawyer', ts=1540471144000, page='NextSong', level='paid', phase=0),\n",
       " Row(userId='98', firstname='Sawyer', ts=1540471397000, page='NextSong', level='paid', phase=0),\n",
       " Row(userId='98', firstname='Sawyer', ts=1540471623000, page='NextSong', level='paid', phase=0),\n",
       " Row(userId='98', firstname='Sawyer', ts=1540471889000, page='NextSong', level='paid', phase=0),\n",
       " Row(userId='98', firstname='Sawyer', ts=1540471890000, page='Thumbs Up', level='paid', phase=0),\n",
       " Row(userId='98', firstname='Sawyer', ts=1540472052000, page='NextSong', level='paid', phase=0),\n",
       " Row(userId='98', firstname='Sawyer', ts=1540472136000, page='Add to Playlist', level='paid', phase=0),\n",
       " Row(userId='98', firstname='Sawyer', ts=1540472272000, page='NextSong', level='paid', phase=0),\n",
       " Row(userId='98', firstname='Sawyer', ts=1540472483000, page='NextSong', level='paid', phase=0),\n",
       " Row(userId='98', firstname='Sawyer', ts=1540472484000, page='Thumbs Up', level='paid', phase=0),\n",
       " Row(userId='98', firstname='Sawyer', ts=1540472789000, page='NextSong', level='paid', phase=0),\n",
       " Row(userId='98', firstname='Sawyer', ts=1540473095000, page='NextSong', level='paid', phase=0),\n",
       " Row(userId='98', firstname='Sawyer', ts=1540473214000, page='NextSong', level='paid', phase=0),\n",
       " Row(userId='98', firstname='Sawyer', ts=1540473418000, page='NextSong', level='paid', phase=0),\n",
       " Row(userId='98', firstname='Sawyer', ts=1540473597000, page='NextSong', level='paid', phase=0),\n",
       " Row(userId='98', firstname='Sawyer', ts=1540473816000, page='NextSong', level='paid', phase=0),\n",
       " Row(userId='98', firstname='Sawyer', ts=1540474000000, page='NextSong', level='paid', phase=0),\n",
       " Row(userId='98', firstname='Sawyer', ts=1540474205000, page='NextSong', level='paid', phase=0),\n",
       " Row(userId='98', firstname='Sawyer', ts=1540474206000, page='Logout', level='paid', phase=0),\n",
       " Row(userId='98', firstname='Sawyer', ts=1540474306000, page='Home', level='paid', phase=0),\n",
       " Row(userId='98', firstname='Sawyer', ts=1540474720000, page='NextSong', level='paid', phase=0),\n",
       " Row(userId='98', firstname='Sawyer', ts=1540474946000, page='NextSong', level='paid', phase=0),\n",
       " Row(userId='98', firstname='Sawyer', ts=1540475182000, page='NextSong', level='paid', phase=0),\n",
       " Row(userId='98', firstname='Sawyer', ts=1540475363000, page='NextSong', level='paid', phase=0),\n",
       " Row(userId='98', firstname='Sawyer', ts=1540475602000, page='NextSong', level='paid', phase=0),\n",
       " Row(userId='98', firstname='Sawyer', ts=1540475795000, page='NextSong', level='paid', phase=0),\n",
       " Row(userId='98', firstname='Sawyer', ts=1540476031000, page='NextSong', level='paid', phase=0),\n",
       " Row(userId='98', firstname='Sawyer', ts=1540476032000, page='Logout', level='paid', phase=0),\n",
       " Row(userId='98', firstname='Sawyer', ts=1540476637000, page='Home', level='paid', phase=0),\n",
       " Row(userId='98', firstname='Sawyer', ts=1540476689000, page='NextSong', level='paid', phase=0),\n",
       " Row(userId='98', firstname='Sawyer', ts=1540476979000, page='NextSong', level='paid', phase=0),\n",
       " Row(userId='98', firstname='Sawyer', ts=1540477208000, page='NextSong', level='paid', phase=0),\n",
       " Row(userId='98', firstname='Sawyer', ts=1540477455000, page='NextSong', level='paid', phase=0),\n",
       " Row(userId='98', firstname='Sawyer', ts=1540477664000, page='NextSong', level='paid', phase=0),\n",
       " Row(userId='98', firstname='Sawyer', ts=1540477817000, page='Settings', level='paid', phase=0),\n",
       " Row(userId='98', firstname='Sawyer', ts=1540477995000, page='NextSong', level='paid', phase=0),\n",
       " Row(userId='98', firstname='Sawyer', ts=1540478030000, page='Help', level='paid', phase=0),\n",
       " Row(userId='98', firstname='Sawyer', ts=1540478059000, page='Home', level='paid', phase=0),\n",
       " Row(userId='98', firstname='Sawyer', ts=1540478266000, page='NextSong', level='paid', phase=0),\n",
       " Row(userId='98', firstname='Sawyer', ts=1540478496000, page='NextSong', level='paid', phase=0),\n",
       " Row(userId='98', firstname='Sawyer', ts=1540478761000, page='NextSong', level='paid', phase=0),\n",
       " Row(userId='98', firstname='Sawyer', ts=1540479258000, page='NextSong', level='paid', phase=0),\n",
       " Row(userId='98', firstname='Sawyer', ts=1540479409000, page='NextSong', level='paid', phase=0),\n",
       " Row(userId='98', firstname='Sawyer', ts=1540479634000, page='NextSong', level='paid', phase=0),\n",
       " Row(userId='98', firstname='Sawyer', ts=1540480169000, page='NextSong', level='paid', phase=0),\n",
       " Row(userId='98', firstname='Sawyer', ts=1540480208000, page='Add to Playlist', level='paid', phase=0),\n",
       " Row(userId='98', firstname='Sawyer', ts=1540480642000, page='NextSong', level='paid', phase=0),\n",
       " Row(userId='98', firstname='Sawyer', ts=1540480643000, page='Logout', level='paid', phase=0),\n",
       " Row(userId='98', firstname='Sawyer', ts=1540481033000, page='Home', level='paid', phase=0),\n",
       " Row(userId='98', firstname='Sawyer', ts=1540481149000, page='NextSong', level='paid', phase=0),\n",
       " Row(userId='98', firstname='Sawyer', ts=1540481350000, page='NextSong', level='paid', phase=0),\n",
       " Row(userId='98', firstname='Sawyer', ts=1540481600000, page='NextSong', level='paid', phase=0),\n",
       " Row(userId='98', firstname='Sawyer', ts=1540481905000, page='NextSong', level='paid', phase=0),\n",
       " Row(userId='98', firstname='Sawyer', ts=1540482189000, page='NextSong', level='paid', phase=0),\n",
       " Row(userId='98', firstname='Sawyer', ts=1540482306000, page='NextSong', level='paid', phase=0),\n",
       " Row(userId='98', firstname='Sawyer', ts=1540482532000, page='NextSong', level='paid', phase=0),\n",
       " Row(userId='98', firstname='Sawyer', ts=1540482669000, page='NextSong', level='paid', phase=0),\n",
       " Row(userId='98', firstname='Sawyer', ts=1540482915000, page='NextSong', level='paid', phase=0),\n",
       " Row(userId='98', firstname='Sawyer', ts=1540483170000, page='NextSong', level='paid', phase=0),\n",
       " Row(userId='98', firstname='Sawyer', ts=1540483439000, page='NextSong', level='paid', phase=0),\n",
       " Row(userId='98', firstname='Sawyer', ts=1540483821000, page='NextSong', level='paid', phase=0),\n",
       " Row(userId='98', firstname='Sawyer', ts=1540484003000, page='NextSong', level='paid', phase=0),\n",
       " Row(userId='98', firstname='Sawyer', ts=1540484191000, page='NextSong', level='paid', phase=0),\n",
       " Row(userId='98', firstname='Sawyer', ts=1540484444000, page='NextSong', level='paid', phase=0),\n",
       " Row(userId='98', firstname='Sawyer', ts=1540484652000, page='NextSong', level='paid', phase=0),\n",
       " Row(userId='98', firstname='Sawyer', ts=1540484676000, page='Home', level='paid', phase=0),\n",
       " Row(userId='98', firstname='Sawyer', ts=1540484942000, page='NextSong', level='paid', phase=0),\n",
       " Row(userId='98', firstname='Sawyer', ts=1540485124000, page='NextSong', level='paid', phase=0),\n",
       " Row(userId='98', firstname='Sawyer', ts=1540485395000, page='NextSong', level='paid', phase=0),\n",
       " Row(userId='98', firstname='Sawyer', ts=1540485396000, page='Thumbs Up', level='paid', phase=0),\n",
       " Row(userId='98', firstname='Sawyer', ts=1540485614000, page='NextSong', level='paid', phase=0),\n",
       " Row(userId='98', firstname='Sawyer', ts=1540485619000, page='Home', level='paid', phase=0),\n",
       " Row(userId='98', firstname='Sawyer', ts=1540485849000, page='NextSong', level='paid', phase=0),\n",
       " Row(userId='98', firstname='Sawyer', ts=1540485879000, page='Help', level='paid', phase=0),\n",
       " Row(userId='98', firstname='Sawyer', ts=1540486018000, page='NextSong', level='paid', phase=0),\n",
       " Row(userId='98', firstname='Sawyer', ts=1540486019000, page='Thumbs Up', level='paid', phase=0),\n",
       " Row(userId='98', firstname='Sawyer', ts=1540486258000, page='NextSong', level='paid', phase=0),\n",
       " Row(userId='98', firstname='Sawyer', ts=1540486382000, page='NextSong', level='paid', phase=0),\n",
       " Row(userId='98', firstname='Sawyer', ts=1540486551000, page='NextSong', level='paid', phase=0),\n",
       " Row(userId='98', firstname='Sawyer', ts=1540486735000, page='NextSong', level='paid', phase=0),\n",
       " Row(userId='98', firstname='Sawyer', ts=1540487096000, page='NextSong', level='paid', phase=0),\n",
       " Row(userId='98', firstname='Sawyer', ts=1540487359000, page='NextSong', level='paid', phase=0),\n",
       " Row(userId='98', firstname='Sawyer', ts=1540487618000, page='NextSong', level='paid', phase=0),\n",
       " Row(userId='98', firstname='Sawyer', ts=1540487937000, page='NextSong', level='paid', phase=0),\n",
       " Row(userId='98', firstname='Sawyer', ts=1540488076000, page='NextSong', level='paid', phase=0),\n",
       " Row(userId='98', firstname='Sawyer', ts=1540488351000, page='NextSong', level='paid', phase=0),\n",
       " Row(userId='98', firstname='Sawyer', ts=1540488581000, page='NextSong', level='paid', phase=0),\n",
       " Row(userId='98', firstname='Sawyer', ts=1540488870000, page='NextSong', level='paid', phase=0),\n",
       " Row(userId='98', firstname='Sawyer', ts=1540489285000, page='NextSong', level='paid', phase=0),\n",
       " Row(userId='98', firstname='Sawyer', ts=1540489559000, page='NextSong', level='paid', phase=0),\n",
       " Row(userId='98', firstname='Sawyer', ts=1540489560000, page='Thumbs Up', level='paid', phase=0),\n",
       " Row(userId='98', firstname='Sawyer', ts=1540489860000, page='NextSong', level='paid', phase=0),\n",
       " Row(userId='98', firstname='Sawyer', ts=1540490178000, page='NextSong', level='paid', phase=0),\n",
       " Row(userId='98', firstname='Sawyer', ts=1540490467000, page='NextSong', level='paid', phase=0),\n",
       " Row(userId='98', firstname='Sawyer', ts=1540490736000, page='NextSong', level='paid', phase=0),\n",
       " Row(userId='98', firstname='Sawyer', ts=1540490999000, page='NextSong', level='paid', phase=0),\n",
       " Row(userId='98', firstname='Sawyer', ts=1540491203000, page='NextSong', level='paid', phase=0),\n",
       " Row(userId='98', firstname='Sawyer', ts=1540491228000, page='Settings', level='paid', phase=0),\n",
       " Row(userId='98', firstname='Sawyer', ts=1540491431000, page='NextSong', level='paid', phase=0),\n",
       " Row(userId='98', firstname='Sawyer', ts=1540491715000, page='NextSong', level='paid', phase=0),\n",
       " Row(userId='98', firstname='Sawyer', ts=1540491918000, page='NextSong', level='paid', phase=0),\n",
       " Row(userId='98', firstname='Sawyer', ts=1540492145000, page='NextSong', level='paid', phase=0),\n",
       " Row(userId='98', firstname='Sawyer', ts=1540492614000, page='NextSong', level='paid', phase=0),\n",
       " Row(userId='98', firstname='Sawyer', ts=1540492905000, page='NextSong', level='paid', phase=0),\n",
       " Row(userId='98', firstname='Sawyer', ts=1540493123000, page='NextSong', level='paid', phase=0),\n",
       " Row(userId='98', firstname='Sawyer', ts=1540493389000, page='NextSong', level='paid', phase=0),\n",
       " Row(userId='98', firstname='Sawyer', ts=1540493511000, page='NextSong', level='paid', phase=0),\n",
       " Row(userId='98', firstname='Sawyer', ts=1540493738000, page='NextSong', level='paid', phase=0),\n",
       " Row(userId='98', firstname='Sawyer', ts=1540493977000, page='NextSong', level='paid', phase=0),\n",
       " Row(userId='98', firstname='Sawyer', ts=1540494216000, page='NextSong', level='paid', phase=0),\n",
       " Row(userId='98', firstname='Sawyer', ts=1540494362000, page='Add to Playlist', level='paid', phase=0),\n",
       " Row(userId='98', firstname='Sawyer', ts=1540494497000, page='NextSong', level='paid', phase=0),\n",
       " Row(userId='98', firstname='Sawyer', ts=1540494985000, page='NextSong', level='paid', phase=0),\n",
       " Row(userId='98', firstname='Sawyer', ts=1540495092000, page='NextSong', level='paid', phase=0),\n",
       " Row(userId='98', firstname='Sawyer', ts=1540495443000, page='NextSong', level='paid', phase=0),\n",
       " Row(userId='98', firstname='Sawyer', ts=1540495607000, page='NextSong', level='paid', phase=0),\n",
       " Row(userId='98', firstname='Sawyer', ts=1540495836000, page='NextSong', level='paid', phase=0),\n",
       " Row(userId='98', firstname='Sawyer', ts=1540496461000, page='NextSong', level='paid', phase=0),\n",
       " Row(userId='98', firstname='Sawyer', ts=1540496492000, page='Add to Playlist', level='paid', phase=0),\n",
       " Row(userId='98', firstname='Sawyer', ts=1540496709000, page='NextSong', level='paid', phase=0),\n",
       " Row(userId='98', firstname='Sawyer', ts=1540496761000, page='NextSong', level='paid', phase=0),\n",
       " Row(userId='98', firstname='Sawyer', ts=1540497071000, page='NextSong', level='paid', phase=0),\n",
       " Row(userId='98', firstname='Sawyer', ts=1540497072000, page='Add to Playlist', level='paid', phase=0),\n",
       " Row(userId='98', firstname='Sawyer', ts=1540497335000, page='NextSong', level='paid', phase=0),\n",
       " Row(userId='98', firstname='Sawyer', ts=1540497622000, page='NextSong', level='paid', phase=0),\n",
       " Row(userId='98', firstname='Sawyer', ts=1540497853000, page='NextSong', level='paid', phase=0),\n",
       " Row(userId='98', firstname='Sawyer', ts=1540497899000, page='Downgrade', level='paid', phase=0),\n",
       " Row(userId='98', firstname='Sawyer', ts=1540497900000, page='Logout', level='paid', phase=0),\n",
       " Row(userId='98', firstname='Sawyer', ts=1540497968000, page='Home', level='paid', phase=0),\n",
       " Row(userId='98', firstname='Sawyer', ts=1540498015000, page='NextSong', level='paid', phase=0),\n",
       " Row(userId='98', firstname='Sawyer', ts=1540498261000, page='NextSong', level='paid', phase=0),\n",
       " Row(userId='98', firstname='Sawyer', ts=1540498507000, page='NextSong', level='paid', phase=0),\n",
       " Row(userId='98', firstname='Sawyer', ts=1540498740000, page='Add to Playlist', level='paid', phase=0),\n",
       " Row(userId='98', firstname='Sawyer', ts=1540793174000, page='NextSong', level='paid', phase=0),\n",
       " Row(userId='98', firstname='Sawyer', ts=1540793406000, page='NextSong', level='paid', phase=0),\n",
       " Row(userId='98', firstname='Sawyer', ts=1540793767000, page='NextSong', level='paid', phase=0),\n",
       " Row(userId='98', firstname='Sawyer', ts=1540793923000, page='NextSong', level='paid', phase=0),\n",
       " Row(userId='98', firstname='Sawyer', ts=1540794065000, page='NextSong', level='paid', phase=0),\n",
       " Row(userId='98', firstname='Sawyer', ts=1540794291000, page='NextSong', level='paid', phase=0),\n",
       " Row(userId='98', firstname='Sawyer', ts=1540794621000, page='NextSong', level='paid', phase=0),\n",
       " Row(userId='98', firstname='Sawyer', ts=1540794622000, page='Thumbs Up', level='paid', phase=0),\n",
       " Row(userId='98', firstname='Sawyer', ts=1540794708000, page='Add to Playlist', level='paid', phase=0),\n",
       " Row(userId='98', firstname='Sawyer', ts=1540795191000, page='NextSong', level='paid', phase=0),\n",
       " Row(userId='98', firstname='Sawyer', ts=1540795508000, page='NextSong', level='paid', phase=0),\n",
       " Row(userId='98', firstname='Sawyer', ts=1540795745000, page='NextSong', level='paid', phase=0),\n",
       " Row(userId='98', firstname='Sawyer', ts=1540796004000, page='NextSong', level='paid', phase=0),\n",
       " Row(userId='98', firstname='Sawyer', ts=1540796282000, page='NextSong', level='paid', phase=0),\n",
       " Row(userId='98', firstname='Sawyer', ts=1540796535000, page='NextSong', level='paid', phase=0),\n",
       " Row(userId='98', firstname='Sawyer', ts=1540797094000, page='NextSong', level='paid', phase=0),\n",
       " Row(userId='98', firstname='Sawyer', ts=1540797332000, page='NextSong', level='paid', phase=0),\n",
       " Row(userId='98', firstname='Sawyer', ts=1540797529000, page='NextSong', level='paid', phase=0),\n",
       " Row(userId='98', firstname='Sawyer', ts=1540797720000, page='NextSong', level='paid', phase=0),\n",
       " Row(userId='98', firstname='Sawyer', ts=1540797721000, page='Thumbs Up', level='paid', phase=0),\n",
       " Row(userId='98', firstname='Sawyer', ts=1540797841000, page='NextSong', level='paid', phase=0),\n",
       " Row(userId='98', firstname='Sawyer', ts=1540798076000, page='NextSong', level='paid', phase=0),\n",
       " Row(userId='98', firstname='Sawyer', ts=1540798492000, page='Home', level='paid', phase=0),\n",
       " Row(userId='98', firstname='Sawyer', ts=1540798656000, page='NextSong', level='paid', phase=0),\n",
       " Row(userId='98', firstname='Sawyer', ts=1540798937000, page='NextSong', level='paid', phase=0),\n",
       " Row(userId='98', firstname='Sawyer', ts=1540799117000, page='NextSong', level='paid', phase=0),\n",
       " Row(userId='98', firstname='Sawyer', ts=1540799235000, page='NextSong', level='paid', phase=0),\n",
       " Row(userId='98', firstname='Sawyer', ts=1540799502000, page='Settings', level='paid', phase=0),\n",
       " Row(userId='98', firstname='Sawyer', ts=1540799604000, page='NextSong', level='paid', phase=0),\n",
       " Row(userId='98', firstname='Sawyer', ts=1540799828000, page='NextSong', level='paid', phase=0),\n",
       " Row(userId='98', firstname='Sawyer', ts=1540800013000, page='NextSong', level='paid', phase=0),\n",
       " Row(userId='98', firstname='Sawyer', ts=1540800318000, page='NextSong', level='paid', phase=0),\n",
       " Row(userId='98', firstname='Sawyer', ts=1540800491000, page='NextSong', level='paid', phase=0),\n",
       " Row(userId='98', firstname='Sawyer', ts=1540800935000, page='NextSong', level='paid', phase=0),\n",
       " Row(userId='98', firstname='Sawyer', ts=1540801151000, page='NextSong', level='paid', phase=0),\n",
       " Row(userId='98', firstname='Sawyer', ts=1540801152000, page='Logout', level='paid', phase=0),\n",
       " Row(userId='98', firstname='Sawyer', ts=1540802219000, page='Home', level='paid', phase=0),\n",
       " Row(userId='98', firstname='Sawyer', ts=1540802389000, page='NextSong', level='paid', phase=0),\n",
       " Row(userId='98', firstname='Sawyer', ts=1540802613000, page='NextSong', level='paid', phase=0),\n",
       " Row(userId='98', firstname='Sawyer', ts=1540802614000, page='Thumbs Up', level='paid', phase=0),\n",
       " Row(userId='98', firstname='Sawyer', ts=1540803107000, page='NextSong', level='paid', phase=0),\n",
       " Row(userId='98', firstname='Sawyer', ts=1540803287000, page='NextSong', level='paid', phase=0),\n",
       " Row(userId='98', firstname='Sawyer', ts=1540803335000, page='Add to Playlist', level='paid', phase=0),\n",
       " Row(userId='98', firstname='Sawyer', ts=1540803500000, page='NextSong', level='paid', phase=0),\n",
       " Row(userId='98', firstname='Sawyer', ts=1540803769000, page='NextSong', level='paid', phase=0),\n",
       " Row(userId='98', firstname='Sawyer', ts=1540803934000, page='NextSong', level='paid', phase=0),\n",
       " Row(userId='98', firstname='Sawyer', ts=1540804096000, page='NextSong', level='paid', phase=0),\n",
       " Row(userId='98', firstname='Sawyer', ts=1540804365000, page='NextSong', level='paid', phase=0),\n",
       " Row(userId='98', firstname='Sawyer', ts=1540804521000, page='NextSong', level='paid', phase=0),\n",
       " Row(userId='98', firstname='Sawyer', ts=1540804801000, page='NextSong', level='paid', phase=0),\n",
       " Row(userId='98', firstname='Sawyer', ts=1540805149000, page='NextSong', level='paid', phase=0),\n",
       " Row(userId='98', firstname='Sawyer', ts=1540805361000, page='NextSong', level='paid', phase=0),\n",
       " Row(userId='98', firstname='Sawyer', ts=1540805527000, page='NextSong', level='paid', phase=0),\n",
       " Row(userId='98', firstname='Sawyer', ts=1540805689000, page='NextSong', level='paid', phase=0),\n",
       " Row(userId='98', firstname='Sawyer', ts=1540805889000, page='NextSong', level='paid', phase=0),\n",
       " Row(userId='98', firstname='Sawyer', ts=1540806252000, page='NextSong', level='paid', phase=0),\n",
       " Row(userId='98', firstname='Sawyer', ts=1540806571000, page='NextSong', level='paid', phase=0),\n",
       " Row(userId='98', firstname='Sawyer', ts=1540806572000, page='Thumbs Down', level='paid', phase=0),\n",
       " Row(userId='98', firstname='Sawyer', ts=1540807086000, page='NextSong', level='paid', phase=0),\n",
       " Row(userId='98', firstname='Sawyer', ts=1540807307000, page='NextSong', level='paid', phase=0),\n",
       " Row(userId='98', firstname='Sawyer', ts=1540807507000, page='NextSong', level='paid', phase=0),\n",
       " Row(userId='98', firstname='Sawyer', ts=1540807746000, page='NextSong', level='paid', phase=0),\n",
       " Row(userId='98', firstname='Sawyer', ts=1540808023000, page='NextSong', level='paid', phase=0),\n",
       " Row(userId='98', firstname='Sawyer', ts=1540808296000, page='NextSong', level='paid', phase=0),\n",
       " Row(userId='98', firstname='Sawyer', ts=1540808464000, page='NextSong', level='paid', phase=0),\n",
       " Row(userId='98', firstname='Sawyer', ts=1540808703000, page='NextSong', level='paid', phase=0),\n",
       " Row(userId='98', firstname='Sawyer', ts=1540808944000, page='NextSong', level='paid', phase=0),\n",
       " Row(userId='98', firstname='Sawyer', ts=1540809210000, page='NextSong', level='paid', phase=0),\n",
       " Row(userId='98', firstname='Sawyer', ts=1540809411000, page='NextSong', level='paid', phase=0),\n",
       " Row(userId='98', firstname='Sawyer', ts=1540809603000, page='NextSong', level='paid', phase=0),\n",
       " Row(userId='98', firstname='Sawyer', ts=1540809805000, page='NextSong', level='paid', phase=0),\n",
       " Row(userId='98', firstname='Sawyer', ts=1540810028000, page='NextSong', level='paid', phase=0),\n",
       " Row(userId='98', firstname='Sawyer', ts=1540810275000, page='NextSong', level='paid', phase=0),\n",
       " Row(userId='98', firstname='Sawyer', ts=1540810662000, page='NextSong', level='paid', phase=0),\n",
       " Row(userId='98', firstname='Sawyer', ts=1540810663000, page='Thumbs Down', level='paid', phase=0),\n",
       " Row(userId='98', firstname='Sawyer', ts=1540810664000, page='Logout', level='paid', phase=0),\n",
       " Row(userId='98', firstname='Sawyer', ts=1540810675000, page='Home', level='paid', phase=0),\n",
       " Row(userId='98', firstname='Sawyer', ts=1540810956000, page='NextSong', level='paid', phase=0),\n",
       " Row(userId='98', firstname='Sawyer', ts=1540811179000, page='NextSong', level='paid', phase=0),\n",
       " Row(userId='98', firstname='Sawyer', ts=1540811510000, page='NextSong', level='paid', phase=0),\n",
       " Row(userId='98', firstname='Sawyer', ts=1540811669000, page='NextSong', level='paid', phase=0),\n",
       " Row(userId='98', firstname='Sawyer', ts=1540811970000, page='NextSong', level='paid', phase=0),\n",
       " Row(userId='98', firstname='Sawyer', ts=1540812138000, page='NextSong', level='paid', phase=0),\n",
       " Row(userId='98', firstname='Sawyer', ts=1540812480000, page='NextSong', level='paid', phase=0),\n",
       " Row(userId='98', firstname='Sawyer', ts=1540812626000, page='NextSong', level='paid', phase=0),\n",
       " Row(userId='98', firstname='Sawyer', ts=1540812753000, page='NextSong', level='paid', phase=0),\n",
       " Row(userId='98', firstname='Sawyer', ts=1540813059000, page='NextSong', level='paid', phase=0),\n",
       " Row(userId='98', firstname='Sawyer', ts=1540813271000, page='NextSong', level='paid', phase=0),\n",
       " Row(userId='98', firstname='Sawyer', ts=1540813631000, page='NextSong', level='paid', phase=0),\n",
       " Row(userId='98', firstname='Sawyer', ts=1540813632000, page='Thumbs Up', level='paid', phase=0),\n",
       " Row(userId='98', firstname='Sawyer', ts=1540813915000, page='NextSong', level='paid', phase=0),\n",
       " Row(userId='98', firstname='Sawyer', ts=1540814151000, page='NextSong', level='paid', phase=0),\n",
       " Row(userId='98', firstname='Sawyer', ts=1540814403000, page='NextSong', level='paid', phase=0),\n",
       " Row(userId='98', firstname='Sawyer', ts=1540814710000, page='NextSong', level='paid', phase=0),\n",
       " Row(userId='98', firstname='Sawyer', ts=1540814711000, page='Add Friend', level='paid', phase=0),\n",
       " Row(userId='98', firstname='Sawyer', ts=1540815008000, page='NextSong', level='paid', phase=0),\n",
       " Row(userId='98', firstname='Sawyer', ts=1540815247000, page='NextSong', level='paid', phase=0),\n",
       " Row(userId='98', firstname='Sawyer', ts=1540815297000, page='NextSong', level='paid', phase=0),\n",
       " Row(userId='98', firstname='Sawyer', ts=1540815508000, page='NextSong', level='paid', phase=0),\n",
       " Row(userId='98', firstname='Sawyer', ts=1540815725000, page='NextSong', level='paid', phase=0),\n",
       " Row(userId='98', firstname='Sawyer', ts=1540815726000, page='Add to Playlist', level='paid', phase=0),\n",
       " Row(userId='98', firstname='Sawyer', ts=1540815960000, page='NextSong', level='paid', phase=0),\n",
       " Row(userId='98', firstname='Sawyer', ts=1540816167000, page='NextSong', level='paid', phase=0),\n",
       " Row(userId='98', firstname='Sawyer', ts=1540816398000, page='NextSong', level='paid', phase=0),\n",
       " Row(userId='98', firstname='Sawyer', ts=1540816609000, page='NextSong', level='paid', phase=0),\n",
       " Row(userId='98', firstname='Sawyer', ts=1540816919000, page='NextSong', level='paid', phase=0),\n",
       " Row(userId='98', firstname='Sawyer', ts=1540817139000, page='NextSong', level='paid', phase=0),\n",
       " Row(userId='98', firstname='Sawyer', ts=1540817342000, page='NextSong', level='paid', phase=0),\n",
       " Row(userId='98', firstname='Sawyer', ts=1540817553000, page='NextSong', level='paid', phase=0),\n",
       " Row(userId='98', firstname='Sawyer', ts=1540817768000, page='NextSong', level='paid', phase=0),\n",
       " Row(userId='98', firstname='Sawyer', ts=1540817945000, page='NextSong', level='paid', phase=0),\n",
       " Row(userId='98', firstname='Sawyer', ts=1540818156000, page='NextSong', level='paid', phase=0),\n",
       " Row(userId='98', firstname='Sawyer', ts=1540818412000, page='NextSong', level='paid', phase=0),\n",
       " Row(userId='98', firstname='Sawyer', ts=1540818633000, page='NextSong', level='paid', phase=0),\n",
       " Row(userId='98', firstname='Sawyer', ts=1540818845000, page='NextSong', level='paid', phase=0),\n",
       " Row(userId='98', firstname='Sawyer', ts=1540818944000, page='NextSong', level='paid', phase=0),\n",
       " Row(userId='98', firstname='Sawyer', ts=1540819095000, page='NextSong', level='paid', phase=0),\n",
       " Row(userId='98', firstname='Sawyer', ts=1540819348000, page='NextSong', level='paid', phase=0),\n",
       " Row(userId='98', firstname='Sawyer', ts=1540819544000, page='NextSong', level='paid', phase=0),\n",
       " Row(userId='98', firstname='Sawyer', ts=1541587515000, page='Home', level='paid', phase=0),\n",
       " Row(userId='98', firstname='Sawyer', ts=1541587567000, page='NextSong', level='paid', phase=0),\n",
       " Row(userId='98', firstname='Sawyer', ts=1541587568000, page='Thumbs Up', level='paid', phase=0),\n",
       " Row(userId='98', firstname='Sawyer', ts=1541587836000, page='NextSong', level='paid', phase=0),\n",
       " Row(userId='98', firstname='Sawyer', ts=1541587942000, page='NextSong', level='paid', phase=0),\n",
       " Row(userId='98', firstname='Sawyer', ts=1541588069000, page='NextSong', level='paid', phase=0),\n",
       " Row(userId='98', firstname='Sawyer', ts=1541588288000, page='NextSong', level='paid', phase=0),\n",
       " Row(userId='98', firstname='Sawyer', ts=1541588564000, page='NextSong', level='paid', phase=0),\n",
       " Row(userId='98', firstname='Sawyer', ts=1541588887000, page='NextSong', level='paid', phase=0),\n",
       " Row(userId='98', firstname='Sawyer', ts=1541589172000, page='NextSong', level='paid', phase=0),\n",
       " Row(userId='98', firstname='Sawyer', ts=1541589545000, page='NextSong', level='paid', phase=0),\n",
       " Row(userId='98', firstname='Sawyer', ts=1541589546000, page='Logout', level='paid', phase=0),\n",
       " Row(userId='98', firstname='Sawyer', ts=1541590409000, page='Home', level='paid', phase=0),\n",
       " Row(userId='98', firstname='Sawyer', ts=1541590475000, page='NextSong', level='paid', phase=0),\n",
       " Row(userId='98', firstname='Sawyer', ts=1541590750000, page='NextSong', level='paid', phase=0),\n",
       " Row(userId='98', firstname='Sawyer', ts=1541590999000, page='NextSong', level='paid', phase=0),\n",
       " Row(userId='98', firstname='Sawyer', ts=1541591206000, page='NextSong', level='paid', phase=0),\n",
       " Row(userId='98', firstname='Sawyer', ts=1541591207000, page='Add Friend', level='paid', phase=0),\n",
       " Row(userId='98', firstname='Sawyer', ts=1541591208000, page='Add Friend', level='paid', phase=0),\n",
       " Row(userId='98', firstname='Sawyer', ts=1541781339000, page='Home', level='paid', phase=0),\n",
       " Row(userId='98', firstname='Sawyer', ts=1541781585000, page='NextSong', level='paid', phase=0),\n",
       " Row(userId='98', firstname='Sawyer', ts=1541781774000, page='NextSong', level='paid', phase=0),\n",
       " Row(userId='98', firstname='Sawyer', ts=1541782073000, page='NextSong', level='paid', phase=0),\n",
       " Row(userId='98', firstname='Sawyer', ts=1541782344000, page='NextSong', level='paid', phase=0),\n",
       " Row(userId='98', firstname='Sawyer', ts=1541782593000, page='NextSong', level='paid', phase=0),\n",
       " Row(userId='98', firstname='Sawyer', ts=1541782655000, page='NextSong', level='paid', phase=0),\n",
       " Row(userId='98', firstname='Sawyer', ts=1541782888000, page='NextSong', level='paid', phase=0),\n",
       " Row(userId='98', firstname='Sawyer', ts=1541782930000, page='Add to Playlist', level='paid', phase=0),\n",
       " Row(userId='98', firstname='Sawyer', ts=1541783080000, page='NextSong', level='paid', phase=0),\n",
       " Row(userId='98', firstname='Sawyer', ts=1541783385000, page='NextSong', level='paid', phase=0),\n",
       " Row(userId='98', firstname='Sawyer', ts=1541783571000, page='NextSong', level='paid', phase=0),\n",
       " Row(userId='98', firstname='Sawyer', ts=1541783878000, page='NextSong', level='paid', phase=0),\n",
       " Row(userId='98', firstname='Sawyer', ts=1541784118000, page='NextSong', level='paid', phase=0),\n",
       " Row(userId='98', firstname='Sawyer', ts=1541784119000, page='Thumbs Down', level='paid', phase=0),\n",
       " Row(userId='98', firstname='Sawyer', ts=1541784256000, page='NextSong', level='paid', phase=0),\n",
       " Row(userId='98', firstname='Sawyer', ts=1541784418000, page='NextSong', level='paid', phase=0),\n",
       " Row(userId='98', firstname='Sawyer', ts=1541784633000, page='NextSong', level='paid', phase=0),\n",
       " Row(userId='98', firstname='Sawyer', ts=1541785109000, page='NextSong', level='paid', phase=0),\n",
       " Row(userId='98', firstname='Sawyer', ts=1541785329000, page='NextSong', level='paid', phase=0),\n",
       " Row(userId='98', firstname='Sawyer', ts=1541785555000, page='NextSong', level='paid', phase=0),\n",
       " Row(userId='98', firstname='Sawyer', ts=1541785726000, page='NextSong', level='paid', phase=0),\n",
       " Row(userId='98', firstname='Sawyer', ts=1541785951000, page='NextSong', level='paid', phase=0),\n",
       " Row(userId='98', firstname='Sawyer', ts=1541786183000, page='NextSong', level='paid', phase=0),\n",
       " Row(userId='98', firstname='Sawyer', ts=1541786443000, page='NextSong', level='paid', phase=0),\n",
       " Row(userId='98', firstname='Sawyer', ts=1541786687000, page='NextSong', level='paid', phase=0),\n",
       " Row(userId='98', firstname='Sawyer', ts=1541786919000, page='NextSong', level='paid', phase=0),\n",
       " Row(userId='98', firstname='Sawyer', ts=1541787096000, page='NextSong', level='paid', phase=0),\n",
       " Row(userId='98', firstname='Sawyer', ts=1541789690000, page='NextSong', level='paid', phase=0),\n",
       " Row(userId='98', firstname='Sawyer', ts=1541789935000, page='NextSong', level='paid', phase=0),\n",
       " Row(userId='98', firstname='Sawyer', ts=1541790136000, page='NextSong', level='paid', phase=0),\n",
       " Row(userId='98', firstname='Sawyer', ts=1541790309000, page='NextSong', level='paid', phase=0),\n",
       " Row(userId='98', firstname='Sawyer', ts=1541790310000, page='Thumbs Up', level='paid', phase=0),\n",
       " Row(userId='98', firstname='Sawyer', ts=1541790504000, page='NextSong', level='paid', phase=0),\n",
       " Row(userId='98', firstname='Sawyer', ts=1541790696000, page='NextSong', level='paid', phase=0),\n",
       " Row(userId='98', firstname='Sawyer', ts=1541790881000, page='NextSong', level='paid', phase=0),\n",
       " Row(userId='98', firstname='Sawyer', ts=1541791134000, page='NextSong', level='paid', phase=0),\n",
       " Row(userId='98', firstname='Sawyer', ts=1541791351000, page='NextSong', level='paid', phase=0),\n",
       " Row(userId='98', firstname='Sawyer', ts=1541791497000, page='NextSong', level='paid', phase=0),\n",
       " Row(userId='98', firstname='Sawyer', ts=1541791655000, page='NextSong', level='paid', phase=0),\n",
       " Row(userId='98', firstname='Sawyer', ts=1541791883000, page='NextSong', level='paid', phase=0),\n",
       " Row(userId='98', firstname='Sawyer', ts=1541792334000, page='NextSong', level='paid', phase=0),\n",
       " Row(userId='98', firstname='Sawyer', ts=1541792869000, page='NextSong', level='paid', phase=0),\n",
       " Row(userId='98', firstname='Sawyer', ts=1541793093000, page='NextSong', level='paid', phase=0),\n",
       " Row(userId='98', firstname='Sawyer', ts=1541793316000, page='NextSong', level='paid', phase=0),\n",
       " Row(userId='98', firstname='Sawyer', ts=1541793399000, page='Settings', level='paid', phase=0),\n",
       " Row(userId='98', firstname='Sawyer', ts=1541793511000, page='NextSong', level='paid', phase=0),\n",
       " Row(userId='98', firstname='Sawyer', ts=1541793512000, page='Thumbs Down', level='paid', phase=0),\n",
       " Row(userId='98', firstname='Sawyer', ts=1541793800000, page='NextSong', level='paid', phase=0),\n",
       " Row(userId='98', firstname='Sawyer', ts=1541793915000, page='NextSong', level='paid', phase=0),\n",
       " Row(userId='98', firstname='Sawyer', ts=1541794211000, page='NextSong', level='paid', phase=0),\n",
       " Row(userId='98', firstname='Sawyer', ts=1541794492000, page='NextSong', level='paid', phase=0),\n",
       " Row(userId='98', firstname='Sawyer', ts=1541794760000, page='NextSong', level='paid', phase=0),\n",
       " Row(userId='98', firstname='Sawyer', ts=1541794995000, page='NextSong', level='paid', phase=0),\n",
       " Row(userId='98', firstname='Sawyer', ts=1541795226000, page='NextSong', level='paid', phase=0),\n",
       " Row(userId='98', firstname='Sawyer', ts=1541795574000, page='NextSong', level='paid', phase=0),\n",
       " Row(userId='98', firstname='Sawyer', ts=1541795772000, page='NextSong', level='paid', phase=0),\n",
       " Row(userId='98', firstname='Sawyer', ts=1541796155000, page='NextSong', level='paid', phase=0),\n",
       " Row(userId='98', firstname='Sawyer', ts=1541796293000, page='NextSong', level='paid', phase=0),\n",
       " Row(userId='98', firstname='Sawyer', ts=1541796364000, page='Help', level='paid', phase=0),\n",
       " Row(userId='98', firstname='Sawyer', ts=1541796507000, page='NextSong', level='paid', phase=0),\n",
       " Row(userId='98', firstname='Sawyer', ts=1541796775000, page='NextSong', level='paid', phase=0),\n",
       " Row(userId='98', firstname='Sawyer', ts=1541796894000, page='NextSong', level='paid', phase=0),\n",
       " Row(userId='98', firstname='Sawyer', ts=1541797095000, page='NextSong', level='paid', phase=0),\n",
       " Row(userId='98', firstname='Sawyer', ts=1541797267000, page='NextSong', level='paid', phase=0),\n",
       " Row(userId='98', firstname='Sawyer', ts=1541797446000, page='NextSong', level='paid', phase=0),\n",
       " Row(userId='98', firstname='Sawyer', ts=1541797611000, page='NextSong', level='paid', phase=0),\n",
       " Row(userId='98', firstname='Sawyer', ts=1541797623000, page='Add to Playlist', level='paid', phase=0),\n",
       " Row(userId='98', firstname='Sawyer', ts=1541797942000, page='NextSong', level='paid', phase=0),\n",
       " Row(userId='98', firstname='Sawyer', ts=1541798223000, page='NextSong', level='paid', phase=0),\n",
       " Row(userId='98', firstname='Sawyer', ts=1541798224000, page='Add Friend', level='paid', phase=0),\n",
       " Row(userId='98', firstname='Sawyer', ts=1541798225000, page='Add Friend', level='paid', phase=0),\n",
       " Row(userId='98', firstname='Sawyer', ts=1541798331000, page='NextSong', level='paid', phase=0),\n",
       " Row(userId='98', firstname='Sawyer', ts=1541798574000, page='NextSong', level='paid', phase=0),\n",
       " Row(userId='98', firstname='Sawyer', ts=1541798840000, page='NextSong', level='paid', phase=0),\n",
       " Row(userId='98', firstname='Sawyer', ts=1541799334000, page='NextSong', level='paid', phase=0),\n",
       " Row(userId='98', firstname='Sawyer', ts=1541799571000, page='NextSong', level='paid', phase=0),\n",
       " Row(userId='98', firstname='Sawyer', ts=1541799755000, page='NextSong', level='paid', phase=0),\n",
       " Row(userId='98', firstname='Sawyer', ts=1541799756000, page='Add Friend', level='paid', phase=0),\n",
       " Row(userId='98', firstname='Sawyer', ts=1541799931000, page='NextSong', level='paid', phase=0),\n",
       " Row(userId='98', firstname='Sawyer', ts=1541799947000, page='Downgrade', level='paid', phase=0),\n",
       " Row(userId='98', firstname='Sawyer', ts=1541799948000, page='Logout', level='paid', phase=0),\n",
       " Row(userId='98', firstname='Sawyer', ts=1541800143000, page='Home', level='paid', phase=0),\n",
       " Row(userId='98', firstname='Sawyer', ts=1541800237000, page='NextSong', level='paid', phase=0),\n",
       " Row(userId='98', firstname='Sawyer', ts=1541800402000, page='NextSong', level='paid', phase=0),\n",
       " Row(userId='98', firstname='Sawyer', ts=1541800555000, page='NextSong', level='paid', phase=0),\n",
       " Row(userId='98', firstname='Sawyer', ts=1541800854000, page='NextSong', level='paid', phase=0),\n",
       " Row(userId='98', firstname='Sawyer', ts=1541801181000, page='NextSong', level='paid', phase=0),\n",
       " Row(userId='98', firstname='Sawyer', ts=1541801372000, page='NextSong', level='paid', phase=0),\n",
       " Row(userId='98', firstname='Sawyer', ts=1541801683000, page='NextSong', level='paid', phase=0),\n",
       " Row(userId='98', firstname='Sawyer', ts=1541802018000, page='NextSong', level='paid', phase=0),\n",
       " Row(userId='98', firstname='Sawyer', ts=1541802330000, page='NextSong', level='paid', phase=0),\n",
       " Row(userId='98', firstname='Sawyer', ts=1541802678000, page='NextSong', level='paid', phase=0),\n",
       " Row(userId='98', firstname='Sawyer', ts=1541802918000, page='NextSong', level='paid', phase=0),\n",
       " Row(userId='98', firstname='Sawyer', ts=1541803142000, page='NextSong', level='paid', phase=0),\n",
       " Row(userId='98', firstname='Sawyer', ts=1541803457000, page='NextSong', level='paid', phase=0),\n",
       " Row(userId='98', firstname='Sawyer', ts=1541803734000, page='NextSong', level='paid', phase=0),\n",
       " Row(userId='98', firstname='Sawyer', ts=1541805219000, page='NextSong', level='paid', phase=0),\n",
       " Row(userId='98', firstname='Sawyer', ts=1541805874000, page='NextSong', level='paid', phase=0),\n",
       " Row(userId='98', firstname='Sawyer', ts=1541806171000, page='NextSong', level='paid', phase=0),\n",
       " Row(userId='98', firstname='Sawyer', ts=1541806357000, page='NextSong', level='paid', phase=0),\n",
       " Row(userId='98', firstname='Sawyer', ts=1541806604000, page='NextSong', level='paid', phase=0),\n",
       " Row(userId='98', firstname='Sawyer', ts=1541806770000, page='NextSong', level='paid', phase=0),\n",
       " Row(userId='98', firstname='Sawyer', ts=1541807014000, page='NextSong', level='paid', phase=0),\n",
       " Row(userId='98', firstname='Sawyer', ts=1541807309000, page='NextSong', level='paid', phase=0),\n",
       " Row(userId='98', firstname='Sawyer', ts=1541807527000, page='NextSong', level='paid', phase=0),\n",
       " Row(userId='98', firstname='Sawyer', ts=1541808027000, page='NextSong', level='paid', phase=0),\n",
       " Row(userId='98', firstname='Sawyer', ts=1541808272000, page='NextSong', level='paid', phase=0),\n",
       " Row(userId='98', firstname='Sawyer', ts=1541808413000, page='Home', level='paid', phase=0),\n",
       " Row(userId='98', firstname='Sawyer', ts=1541808621000, page='NextSong', level='paid', phase=0),\n",
       " Row(userId='98', firstname='Sawyer', ts=1541808923000, page='NextSong', level='paid', phase=0),\n",
       " Row(userId='98', firstname='Sawyer', ts=1541809147000, page='NextSong', level='paid', phase=0),\n",
       " Row(userId='98', firstname='Sawyer', ts=1541809355000, page='NextSong', level='paid', phase=0),\n",
       " Row(userId='98', firstname='Sawyer', ts=1541809527000, page='NextSong', level='paid', phase=0),\n",
       " Row(userId='98', firstname='Sawyer', ts=1541809755000, page='NextSong', level='paid', phase=0),\n",
       " Row(userId='98', firstname='Sawyer', ts=1541809977000, page='NextSong', level='paid', phase=0),\n",
       " Row(userId='98', firstname='Sawyer', ts=1541810266000, page='NextSong', level='paid', phase=0),\n",
       " Row(userId='98', firstname='Sawyer', ts=1541810521000, page='NextSong', level='paid', phase=0),\n",
       " Row(userId='98', firstname='Sawyer', ts=1541810734000, page='NextSong', level='paid', phase=0),\n",
       " Row(userId='98', firstname='Sawyer', ts=1541810889000, page='NextSong', level='paid', phase=0),\n",
       " Row(userId='98', firstname='Sawyer', ts=1541811363000, page='NextSong', level='paid', phase=0),\n",
       " Row(userId='98', firstname='Sawyer', ts=1541811583000, page='NextSong', level='paid', phase=0),\n",
       " Row(userId='98', firstname='Sawyer', ts=1541811685000, page='Add to Playlist', level='paid', phase=0),\n",
       " Row(userId='98', firstname='Sawyer', ts=1541811988000, page='NextSong', level='paid', phase=0),\n",
       " Row(userId='98', firstname='Sawyer', ts=1541812229000, page='NextSong', level='paid', phase=0),\n",
       " Row(userId='98', firstname='Sawyer', ts=1541812687000, page='NextSong', level='paid', phase=0),\n",
       " Row(userId='98', firstname='Sawyer', ts=1541812909000, page='NextSong', level='paid', phase=0),\n",
       " Row(userId='98', firstname='Sawyer', ts=1541813104000, page='NextSong', level='paid', phase=0),\n",
       " Row(userId='98', firstname='Sawyer', ts=1541813252000, page='NextSong', level='paid', phase=0),\n",
       " Row(userId='98', firstname='Sawyer', ts=1541813539000, page='NextSong', level='paid', phase=0),\n",
       " Row(userId='98', firstname='Sawyer', ts=1541813710000, page='NextSong', level='paid', phase=0),\n",
       " Row(userId='98', firstname='Sawyer', ts=1541813973000, page='NextSong', level='paid', phase=0),\n",
       " Row(userId='98', firstname='Sawyer', ts=1541814153000, page='NextSong', level='paid', phase=0),\n",
       " Row(userId='98', firstname='Sawyer', ts=1541814404000, page='NextSong', level='paid', phase=0),\n",
       " Row(userId='98', firstname='Sawyer', ts=1541814738000, page='NextSong', level='paid', phase=0),\n",
       " Row(userId='98', firstname='Sawyer', ts=1541814990000, page='NextSong', level='paid', phase=0),\n",
       " Row(userId='98', firstname='Sawyer', ts=1541815704000, page='NextSong', level='paid', phase=0),\n",
       " Row(userId='98', firstname='Sawyer', ts=1541815902000, page='NextSong', level='paid', phase=0),\n",
       " Row(userId='98', firstname='Sawyer', ts=1541815903000, page='Thumbs Up', level='paid', phase=0),\n",
       " Row(userId='98', firstname='Sawyer', ts=1541816118000, page='NextSong', level='paid', phase=0),\n",
       " Row(userId='98', firstname='Sawyer', ts=1541816339000, page='NextSong', level='paid', phase=0),\n",
       " Row(userId='98', firstname='Sawyer', ts=1541816521000, page='NextSong', level='paid', phase=0),\n",
       " Row(userId='98', firstname='Sawyer', ts=1541816767000, page='NextSong', level='paid', phase=0),\n",
       " Row(userId='98', firstname='Sawyer', ts=1541816862000, page='NextSong', level='paid', phase=0),\n",
       " Row(userId='98', firstname='Sawyer', ts=1541816863000, page='Add Friend', level='paid', phase=0),\n",
       " Row(userId='98', firstname='Sawyer', ts=1541817210000, page='NextSong', level='paid', phase=0),\n",
       " Row(userId='98', firstname='Sawyer', ts=1541817649000, page='NextSong', level='paid', phase=0),\n",
       " Row(userId='98', firstname='Sawyer', ts=1541817650000, page='Logout', level='paid', phase=0),\n",
       " Row(userId='98', firstname='Sawyer', ts=1541817793000, page='Home', level='paid', phase=0),\n",
       " Row(userId='98', firstname='Sawyer', ts=1541817867000, page='NextSong', level='paid', phase=0),\n",
       " Row(userId='98', firstname='Sawyer', ts=1541818364000, page='NextSong', level='paid', phase=0),\n",
       " Row(userId='98', firstname='Sawyer', ts=1541818535000, page='NextSong', level='paid', phase=0),\n",
       " Row(userId='98', firstname='Sawyer', ts=1541818902000, page='NextSong', level='paid', phase=0),\n",
       " Row(userId='98', firstname='Sawyer', ts=1541819135000, page='NextSong', level='paid', phase=0),\n",
       " Row(userId='98', firstname='Sawyer', ts=1541819499000, page='NextSong', level='paid', phase=0),\n",
       " Row(userId='98', firstname='Sawyer', ts=1541819711000, page='NextSong', level='paid', phase=0),\n",
       " Row(userId='98', firstname='Sawyer', ts=1541819884000, page='NextSong', level='paid', phase=0),\n",
       " Row(userId='98', firstname='Sawyer', ts=1541820086000, page='NextSong', level='paid', phase=0),\n",
       " Row(userId='98', firstname='Sawyer', ts=1541820384000, page='NextSong', level='paid', phase=0),\n",
       " Row(userId='98', firstname='Sawyer', ts=1541820608000, page='NextSong', level='paid', phase=0),\n",
       " Row(userId='98', firstname='Sawyer', ts=1541820794000, page='NextSong', level='paid', phase=0),\n",
       " Row(userId='98', firstname='Sawyer', ts=1541821048000, page='NextSong', level='paid', phase=0),\n",
       " Row(userId='98', firstname='Sawyer', ts=1541821337000, page='NextSong', level='paid', phase=0),\n",
       " Row(userId='98', firstname='Sawyer', ts=1541821723000, page='NextSong', level='paid', phase=0),\n",
       " Row(userId='98', firstname='Sawyer', ts=1541821986000, page='NextSong', level='paid', phase=0),\n",
       " Row(userId='98', firstname='Sawyer', ts=1541822187000, page='NextSong', level='paid', phase=0),\n",
       " Row(userId='98', firstname='Sawyer', ts=1541822432000, page='NextSong', level='paid', phase=0),\n",
       " Row(userId='98', firstname='Sawyer', ts=1541822734000, page='NextSong', level='paid', phase=0),\n",
       " Row(userId='98', firstname='Sawyer', ts=1541823065000, page='NextSong', level='paid', phase=0),\n",
       " Row(userId='98', firstname='Sawyer', ts=1541823363000, page='NextSong', level='paid', phase=0),\n",
       " Row(userId='98', firstname='Sawyer', ts=1541823586000, page='NextSong', level='paid', phase=0),\n",
       " Row(userId='98', firstname='Sawyer', ts=1541823762000, page='NextSong', level='paid', phase=0),\n",
       " Row(userId='98', firstname='Sawyer', ts=1541823950000, page='NextSong', level='paid', phase=0),\n",
       " Row(userId='98', firstname='Sawyer', ts=1541824259000, page='NextSong', level='paid', phase=0),\n",
       " Row(userId='98', firstname='Sawyer', ts=1541824419000, page='NextSong', level='paid', phase=0),\n",
       " Row(userId='98', firstname='Sawyer', ts=1541824717000, page='NextSong', level='paid', phase=0),\n",
       " Row(userId='98', firstname='Sawyer', ts=1541825004000, page='NextSong', level='paid', phase=0),\n",
       " Row(userId='98', firstname='Sawyer', ts=1541825249000, page='NextSong', level='paid', phase=0),\n",
       " Row(userId='98', firstname='Sawyer', ts=1541825551000, page='NextSong', level='paid', phase=0),\n",
       " Row(userId='98', firstname='Sawyer', ts=1541825873000, page='NextSong', level='paid', phase=0),\n",
       " Row(userId='98', firstname='Sawyer', ts=1541826110000, page='NextSong', level='paid', phase=0),\n",
       " Row(userId='98', firstname='Sawyer', ts=1541826360000, page='NextSong', level='paid', phase=0),\n",
       " Row(userId='98', firstname='Sawyer', ts=1541826689000, page='NextSong', level='paid', phase=0),\n",
       " Row(userId='98', firstname='Sawyer', ts=1541826979000, page='NextSong', level='paid', phase=0),\n",
       " Row(userId='98', firstname='Sawyer', ts=1541827187000, page='NextSong', level='paid', phase=0),\n",
       " Row(userId='98', firstname='Sawyer', ts=1541827446000, page='NextSong', level='paid', phase=0),\n",
       " Row(userId='98', firstname='Sawyer', ts=1541827706000, page='NextSong', level='paid', phase=0),\n",
       " Row(userId='98', firstname='Sawyer', ts=1541827832000, page='NextSong', level='paid', phase=0),\n",
       " Row(userId='98', firstname='Sawyer', ts=1541827896000, page='NextSong', level='paid', phase=0),\n",
       " Row(userId='98', firstname='Sawyer', ts=1541828213000, page='NextSong', level='paid', phase=0),\n",
       " Row(userId='98', firstname='Sawyer', ts=1541828216000, page='Home', level='paid', phase=0),\n",
       " Row(userId='98', firstname='Sawyer', ts=1541828492000, page='NextSong', level='paid', phase=0),\n",
       " Row(userId='98', firstname='Sawyer', ts=1541828907000, page='NextSong', level='paid', phase=0),\n",
       " Row(userId='98', firstname='Sawyer', ts=1541829159000, page='NextSong', level='paid', phase=0),\n",
       " Row(userId='98', firstname='Sawyer', ts=1541829402000, page='NextSong', level='paid', phase=0),\n",
       " ...]"
      ]
     },
     "execution_count": 43,
     "metadata": {},
     "output_type": "execute_result"
    }
   ],
   "source": [
    "# check result\n",
    "df.select([\"userId\", \"firstname\", \"ts\", \"page\", \"level\", \"phase\"]).where(df.userId == \"98\").sort(\"ts\").collect()"
   ]
  },
  {
   "cell_type": "markdown",
   "metadata": {},
   "source": [
    "### Explore Data\n",
    "Once you've defined churn, perform some exploratory data analysis to observe the behavior for users who stayed vs users who churned. You can start by exploring aggregates on these two groups of users, observing how much of a specific action they experienced per a certain time unit or number of songs played."
   ]
  },
  {
   "cell_type": "code",
   "execution_count": 76,
   "metadata": {
    "scrolled": false
   },
   "outputs": [
    {
     "name": "stdout",
     "output_type": "stream",
     "text": [
      "+------+-------+-----+\n",
      "|gender|churned|count|\n",
      "+------+-------+-----+\n",
      "|     F|      0|  104|\n",
      "|     M|      0|  121|\n",
      "|  null|      0|    1|\n",
      "+------+-------+-----+\n",
      "\n"
     ]
    }
   ],
   "source": [
    "df.dropDuplicates(['userId']).groupby(['gender','churned']).count().show()\n"
   ]
  },
  {
   "cell_type": "code",
   "execution_count": 88,
   "metadata": {},
   "outputs": [
    {
     "name": "stdout",
     "output_type": "stream",
     "text": [
      "+--------------------+-------+-----+\n",
      "|                song|churned|count|\n",
      "+--------------------+-------+-----+\n",
      "|Welcome To The Wo...|      0|    1|\n",
      "|               Alice|      0|    1|\n",
      "|Will You (Single ...|      0|    1|\n",
      "|      You're The One|      0|    2|\n",
      "|He's The DJ_ I'm ...|      0|    1|\n",
      "|Taking Control (A...|      0|    1|\n",
      "|         The Shining|      0|    1|\n",
      "|Still Smokin (D L...|      0|    1|\n",
      "|  Glitter In The Air|      0|    1|\n",
      "|      Little Darlin'|      0|    1|\n",
      "|Phoenix (Basement...|      0|    1|\n",
      "|                FACK|      0|    1|\n",
      "|        Jernskjorten|      0|    1|\n",
      "|          Yesterdays|      0|    1|\n",
      "|Beyond The Beyond...|      0|    1|\n",
      "|          Quiet Life|      0|    1|\n",
      "|Judgement Begins ...|      0|    1|\n",
      "|Citizens Of Tomorrow|      0|    1|\n",
      "|          Hammerhart|      0|    1|\n",
      "|     I Need A Dollar|      0|    1|\n",
      "+--------------------+-------+-----+\n",
      "only showing top 20 rows\n",
      "\n"
     ]
    }
   ],
   "source": [
    "df.dropDuplicates(['userId']).groupby(['song','churned']).count().show()"
   ]
  },
  {
   "cell_type": "code",
   "execution_count": 85,
   "metadata": {},
   "outputs": [
    {
     "name": "stdout",
     "output_type": "stream",
     "text": [
      "+-------+------+-----------+\n",
      "|churned|userId|SongsPlayed|\n",
      "+-------+------+-----------+\n",
      "|      0|    39|       8002|\n",
      "|      0|    92|       5945|\n",
      "|      0|   140|       5664|\n",
      "|      0|300011|       4619|\n",
      "|      0|   124|       4079|\n",
      "|      0|300021|       3816|\n",
      "|      0|300017|       3632|\n",
      "|      0|    85|       3616|\n",
      "|      0|    42|       3573|\n",
      "|      0|     6|       3159|\n",
      "|      0|    29|       3028|\n",
      "|      0|200023|       2955|\n",
      "|      0|    54|       2841|\n",
      "|      0|   100|       2682|\n",
      "|      0|     9|       2676|\n",
      "|      0|    91|       2580|\n",
      "|      0|   126|       2577|\n",
      "|      0|300015|       2524|\n",
      "|      0|    98|       2401|\n",
      "|      0|    74|       2400|\n",
      "+-------+------+-----------+\n",
      "only showing top 20 rows\n",
      "\n"
     ]
    }
   ],
   "source": [
    "df.where(df.song != 'null').groupby(['churned','userId']) \\\n",
    "    .agg(count(df.song).alias('SongsPlayed')).sort('SongsPlayed', ascending=False).show()"
   ]
  },
  {
   "cell_type": "code",
   "execution_count": 46,
   "metadata": {
    "scrolled": false
   },
   "outputs": [
    {
     "name": "stdout",
     "output_type": "stream",
     "text": [
      "root\n",
      " |-- artist: string (nullable = true)\n",
      " |-- auth: string (nullable = true)\n",
      " |-- firstName: string (nullable = true)\n",
      " |-- gender: string (nullable = true)\n",
      " |-- itemInSession: long (nullable = true)\n",
      " |-- lastName: string (nullable = true)\n",
      " |-- length: double (nullable = true)\n",
      " |-- level: string (nullable = true)\n",
      " |-- location: string (nullable = true)\n",
      " |-- method: string (nullable = true)\n",
      " |-- page: string (nullable = true)\n",
      " |-- registration: long (nullable = true)\n",
      " |-- sessionId: long (nullable = true)\n",
      " |-- song: string (nullable = true)\n",
      " |-- status: long (nullable = true)\n",
      " |-- ts: long (nullable = true)\n",
      " |-- userAgent: string (nullable = true)\n",
      " |-- userId: string (nullable = true)\n",
      " |-- hour: integer (nullable = true)\n",
      " |-- day: integer (nullable = true)\n",
      " |-- workday: string (nullable = true)\n",
      " |-- month: integer (nullable = true)\n",
      " |-- churned: integer (nullable = true)\n",
      " |-- phase: long (nullable = true)\n",
      "\n"
     ]
    }
   ],
   "source": [
    "df.printSchema()"
   ]
  },
  {
   "cell_type": "code",
   "execution_count": 93,
   "metadata": {},
   "outputs": [],
   "source": [
    "# plot locations \n",
    "# On which days do people use sparkify more?\n",
    "# What are the most active hours?\n",
    "# Songs played per user group - churned/not churned\n",
    "# Which days of the month are more active?\n",
    "# Which subscription level is more likely to churn?\n",
    "# Do activity times have effect over churn?\n",
    "# https://hendra-herviawan.github.io/pyspark-groupby-and-aggregate-functions.html\n",
    "# https://github.com/ihsankose/Udacity-Capstone/blob/master/Sparkify.ipynb\n",
    "# https://nbviewer.jupyter.org/github/elifinspace/sparkify/blob/master/Sparkify_final_.ipynb"
   ]
  },
  {
   "cell_type": "markdown",
   "metadata": {},
   "source": [
    "1. Try to aggregate based on songs and month\n",
    "2. Plot some EDA based on notes\n",
    "3. Clean data set for modeling (refer to previous projects with ETL pipelines)\n",
    "4. Model based on DataCamp course (if possible|)"
   ]
  },
  {
   "cell_type": "code",
   "execution_count": 55,
   "metadata": {},
   "outputs": [],
   "source": [
    "plot = df.groupby('location').count().dropDuplicates().toPandas()"
   ]
  },
  {
   "cell_type": "code",
   "execution_count": 65,
   "metadata": {
    "scrolled": true
   },
   "outputs": [
    {
     "data": {
      "text/html": [
       "<div>\n",
       "<style scoped>\n",
       "    .dataframe tbody tr th:only-of-type {\n",
       "        vertical-align: middle;\n",
       "    }\n",
       "\n",
       "    .dataframe tbody tr th {\n",
       "        vertical-align: top;\n",
       "    }\n",
       "\n",
       "    .dataframe thead th {\n",
       "        text-align: right;\n",
       "    }\n",
       "</style>\n",
       "<table border=\"1\" class=\"dataframe\">\n",
       "  <thead>\n",
       "    <tr style=\"text-align: right;\">\n",
       "      <th></th>\n",
       "      <th>location</th>\n",
       "      <th>count</th>\n",
       "    </tr>\n",
       "  </thead>\n",
       "  <tbody>\n",
       "    <tr>\n",
       "      <th>0</th>\n",
       "      <td>Gainesville, FL</td>\n",
       "      <td>1229</td>\n",
       "    </tr>\n",
       "    <tr>\n",
       "      <th>1</th>\n",
       "      <td>Atlantic City-Hammonton, NJ</td>\n",
       "      <td>2176</td>\n",
       "    </tr>\n",
       "    <tr>\n",
       "      <th>2</th>\n",
       "      <td>Deltona-Daytona Beach-Ormond Beach, FL</td>\n",
       "      <td>73</td>\n",
       "    </tr>\n",
       "    <tr>\n",
       "      <th>3</th>\n",
       "      <td>San Diego-Carlsbad, CA</td>\n",
       "      <td>754</td>\n",
       "    </tr>\n",
       "    <tr>\n",
       "      <th>4</th>\n",
       "      <td>Cleveland-Elyria, OH</td>\n",
       "      <td>1392</td>\n",
       "    </tr>\n",
       "    <tr>\n",
       "      <th>...</th>\n",
       "      <td>...</td>\n",
       "      <td>...</td>\n",
       "    </tr>\n",
       "    <tr>\n",
       "      <th>110</th>\n",
       "      <td>Santa Maria-Santa Barbara, CA</td>\n",
       "      <td>218</td>\n",
       "    </tr>\n",
       "    <tr>\n",
       "      <th>111</th>\n",
       "      <td>Muncie, IN</td>\n",
       "      <td>292</td>\n",
       "    </tr>\n",
       "    <tr>\n",
       "      <th>112</th>\n",
       "      <td>Colorado Springs, CO</td>\n",
       "      <td>2168</td>\n",
       "    </tr>\n",
       "    <tr>\n",
       "      <th>113</th>\n",
       "      <td>Wilson, NC</td>\n",
       "      <td>4659</td>\n",
       "    </tr>\n",
       "    <tr>\n",
       "      <th>114</th>\n",
       "      <td>Hagerstown-Martinsburg, MD-WV</td>\n",
       "      <td>982</td>\n",
       "    </tr>\n",
       "  </tbody>\n",
       "</table>\n",
       "<p>115 rows × 2 columns</p>\n",
       "</div>"
      ],
      "text/plain": [
       "                                   location  count\n",
       "0                           Gainesville, FL   1229\n",
       "1               Atlantic City-Hammonton, NJ   2176\n",
       "2    Deltona-Daytona Beach-Ormond Beach, FL     73\n",
       "3                    San Diego-Carlsbad, CA    754\n",
       "4                      Cleveland-Elyria, OH   1392\n",
       "..                                      ...    ...\n",
       "110           Santa Maria-Santa Barbara, CA    218\n",
       "111                              Muncie, IN    292\n",
       "112                    Colorado Springs, CO   2168\n",
       "113                              Wilson, NC   4659\n",
       "114           Hagerstown-Martinsburg, MD-WV    982\n",
       "\n",
       "[115 rows x 2 columns]"
      ]
     },
     "execution_count": 65,
     "metadata": {},
     "output_type": "execute_result"
    }
   ],
   "source": [
    "plot"
   ]
  },
  {
   "cell_type": "code",
   "execution_count": 67,
   "metadata": {
    "scrolled": true
   },
   "outputs": [
    {
     "data": {
      "application/vnd.plotly.v1+json": {
       "config": {
        "plotlyServerURL": "https://plot.ly"
       },
       "data": [
        {
         "alignmentgroup": "True",
         "hovertemplate": "location=%{x}<br>count=%{y}<extra></extra>",
         "legendgroup": "",
         "marker": {
          "color": "#636efa"
         },
         "name": "",
         "offsetgroup": "",
         "orientation": "v",
         "showlegend": false,
         "textposition": "auto",
         "type": "bar",
         "x": [
          "Gainesville, FL",
          "Atlantic City-Hammonton, NJ",
          "Deltona-Daytona Beach-Ormond Beach, FL",
          "San Diego-Carlsbad, CA",
          "Cleveland-Elyria, OH",
          "Kingsport-Bristol-Bristol, TN-VA",
          "New Haven-Milford, CT",
          "Birmingham-Hoover, AL",
          "Corpus Christi, TX",
          "Dubuque, IA",
          "Las Vegas-Henderson-Paradise, NV",
          "Indianapolis-Carmel-Anderson, IN",
          "Seattle-Tacoma-Bellevue, WA",
          "Albany, OR",
          "Winston-Salem, NC",
          "Bakersfield, CA",
          "Los Angeles-Long Beach-Anaheim, CA",
          "Minneapolis-St. Paul-Bloomington, MN-WI",
          "San Francisco-Oakland-Hayward, CA",
          "Phoenix-Mesa-Scottsdale, AZ",
          "Allentown-Bethlehem-Easton, PA-NJ",
          "Miami-Fort Lauderdale-West Palm Beach, FL",
          "Selma, AL",
          "Dayton, OH",
          "San Jose-Sunnyvale-Santa Clara, CA",
          "Bridgeport-Stamford-Norwalk, CT",
          "Price, UT",
          "Providence-Warwick, RI-MA",
          "Columbus, GA-AL",
          "Greenville-Anderson-Mauldin, SC",
          "Logan, UT-ID",
          "Myrtle Beach-Conway-North Myrtle Beach, SC-NC",
          null,
          "Buffalo-Cheektowaga-Niagara Falls, NY",
          "Cookeville, TN",
          "New Philadelphia-Dover, OH",
          "Anchorage, AK",
          "New York-Newark-Jersey City, NY-NJ-PA",
          "St. Louis, MO-IL",
          "Jackson, MS",
          "Orlando-Kissimmee-Sanford, FL",
          "McAllen-Edinburg-Mission, TX",
          "Oxnard-Thousand Oaks-Ventura, CA",
          "Memphis, TN-MS-AR",
          "San Antonio-New Braunfels, TX",
          "Troy, AL",
          "Duluth, MN-WI",
          "Danville, VA",
          "Washington-Arlington-Alexandria, DC-VA-MD-WV",
          "Manchester-Nashua, NH",
          "Greensboro-High Point, NC",
          "Sterling, IL",
          "Napa, CA",
          "Monroe, LA",
          "Louisville/Jefferson County, KY-IN",
          "Syracuse, NY",
          "Little Rock-North Little Rock-Conway, AR",
          "Austin-Round Rock, TX",
          "Kansas City, MO-KS",
          "Cincinnati, OH-KY-IN",
          "Bozeman, MT",
          "Truckee-Grass Valley, CA",
          "Boston-Cambridge-Newton, MA-NH",
          "Philadelphia-Camden-Wilmington, PA-NJ-DE-MD",
          "Atlanta-Sandy Springs-Roswell, GA",
          "Pittsburgh, PA",
          "Chicago-Naperville-Elgin, IL-IN-WI",
          "Dallas-Fort Worth-Arlington, TX",
          "North Wilkesboro, NC",
          "Oklahoma City, OK",
          "Albany-Schenectady-Troy, NY",
          "Quincy, IL-MO",
          "Pontiac, IL",
          "Jacksonville, FL",
          "Fairbanks, AK",
          "Houston-The Woodlands-Sugar Land, TX",
          "Montgomery, AL",
          "Hartford-West Hartford-East Hartford, CT",
          "Port St. Lucie, FL",
          "Omaha-Council Bluffs, NE-IA",
          "Charlotte-Concord-Gastonia, NC-SC",
          "Baltimore-Columbia-Towson, MD",
          "Raleigh, NC",
          "Sacramento--Roseville--Arden-Arcade, CA",
          "Laurel, MS",
          "Lexington-Fayette, KY",
          "Tampa-St. Petersburg-Clearwater, FL",
          "London, KY",
          "Tallahassee, FL",
          "Roanoke, VA",
          "Virginia Beach-Norfolk-Newport News, VA-NC",
          "Riverside-San Bernardino-Ontario, CA",
          "Concord, NH",
          "Stockton-Lodi, CA",
          "Boulder, CO",
          "Milwaukee-Waukesha-West Allis, WI",
          "Detroit-Warren-Dearborn, MI",
          "Billings, MT",
          "Alexandria, LA",
          "Salinas, CA",
          "Ionia, MI",
          "Morgantown, WV",
          "Vineland-Bridgeton, NJ",
          "Jacksonville, NC",
          "Spokane-Spokane Valley, WA",
          "Scranton--Wilkes-Barre--Hazleton, PA",
          "Kankakee, IL",
          "Portland-Vancouver-Hillsboro, OR-WA",
          "Denver-Aurora-Lakewood, CO",
          "Flint, MI",
          "Santa Maria-Santa Barbara, CA",
          "Muncie, IN",
          "Colorado Springs, CO",
          "Wilson, NC",
          "Hagerstown-Martinsburg, MD-WV"
         ],
         "xaxis": "x",
         "y": [
          1229,
          2176,
          73,
          754,
          1392,
          1863,
          4007,
          75,
          11,
          651,
          2042,
          970,
          246,
          23,
          819,
          1775,
          30131,
          2134,
          2647,
          4846,
          815,
          3764,
          2027,
          259,
          1603,
          893,
          1102,
          927,
          2716,
          668,
          317,
          837,
          8346,
          1402,
          1672,
          1781,
          1496,
          23684,
          4858,
          3839,
          1498,
          324,
          916,
          62,
          4373,
          630,
          107,
          4257,
          3090,
          2220,
          1131,
          1198,
          1091,
          216,
          6880,
          2677,
          520,
          1682,
          2562,
          88,
          254,
          2073,
          13873,
          5890,
          4236,
          2917,
          5114,
          7605,
          1050,
          1842,
          457,
          1003,
          315,
          818,
          2067,
          9499,
          125,
          1820,
          117,
          187,
          7780,
          2710,
          899,
          1796,
          795,
          2464,
          2475,
          998,
          3216,
          394,
          246,
          2404,
          2544,
          337,
          872,
          1342,
          2332,
          2132,
          955,
          1026,
          4428,
          2278,
          4825,
          2130,
          3526,
          6,
          589,
          119,
          4453,
          456,
          218,
          292,
          2168,
          4659,
          982
         ],
         "yaxis": "y"
        }
       ],
       "layout": {
        "barmode": "relative",
        "legend": {
         "tracegroupgap": 0
        },
        "margin": {
         "t": 60
        },
        "template": {
         "data": {
          "bar": [
           {
            "error_x": {
             "color": "#2a3f5f"
            },
            "error_y": {
             "color": "#2a3f5f"
            },
            "marker": {
             "line": {
              "color": "#E5ECF6",
              "width": 0.5
             }
            },
            "type": "bar"
           }
          ],
          "barpolar": [
           {
            "marker": {
             "line": {
              "color": "#E5ECF6",
              "width": 0.5
             }
            },
            "type": "barpolar"
           }
          ],
          "carpet": [
           {
            "aaxis": {
             "endlinecolor": "#2a3f5f",
             "gridcolor": "white",
             "linecolor": "white",
             "minorgridcolor": "white",
             "startlinecolor": "#2a3f5f"
            },
            "baxis": {
             "endlinecolor": "#2a3f5f",
             "gridcolor": "white",
             "linecolor": "white",
             "minorgridcolor": "white",
             "startlinecolor": "#2a3f5f"
            },
            "type": "carpet"
           }
          ],
          "choropleth": [
           {
            "colorbar": {
             "outlinewidth": 0,
             "ticks": ""
            },
            "type": "choropleth"
           }
          ],
          "contour": [
           {
            "colorbar": {
             "outlinewidth": 0,
             "ticks": ""
            },
            "colorscale": [
             [
              0,
              "#0d0887"
             ],
             [
              0.1111111111111111,
              "#46039f"
             ],
             [
              0.2222222222222222,
              "#7201a8"
             ],
             [
              0.3333333333333333,
              "#9c179e"
             ],
             [
              0.4444444444444444,
              "#bd3786"
             ],
             [
              0.5555555555555556,
              "#d8576b"
             ],
             [
              0.6666666666666666,
              "#ed7953"
             ],
             [
              0.7777777777777778,
              "#fb9f3a"
             ],
             [
              0.8888888888888888,
              "#fdca26"
             ],
             [
              1,
              "#f0f921"
             ]
            ],
            "type": "contour"
           }
          ],
          "contourcarpet": [
           {
            "colorbar": {
             "outlinewidth": 0,
             "ticks": ""
            },
            "type": "contourcarpet"
           }
          ],
          "heatmap": [
           {
            "colorbar": {
             "outlinewidth": 0,
             "ticks": ""
            },
            "colorscale": [
             [
              0,
              "#0d0887"
             ],
             [
              0.1111111111111111,
              "#46039f"
             ],
             [
              0.2222222222222222,
              "#7201a8"
             ],
             [
              0.3333333333333333,
              "#9c179e"
             ],
             [
              0.4444444444444444,
              "#bd3786"
             ],
             [
              0.5555555555555556,
              "#d8576b"
             ],
             [
              0.6666666666666666,
              "#ed7953"
             ],
             [
              0.7777777777777778,
              "#fb9f3a"
             ],
             [
              0.8888888888888888,
              "#fdca26"
             ],
             [
              1,
              "#f0f921"
             ]
            ],
            "type": "heatmap"
           }
          ],
          "heatmapgl": [
           {
            "colorbar": {
             "outlinewidth": 0,
             "ticks": ""
            },
            "colorscale": [
             [
              0,
              "#0d0887"
             ],
             [
              0.1111111111111111,
              "#46039f"
             ],
             [
              0.2222222222222222,
              "#7201a8"
             ],
             [
              0.3333333333333333,
              "#9c179e"
             ],
             [
              0.4444444444444444,
              "#bd3786"
             ],
             [
              0.5555555555555556,
              "#d8576b"
             ],
             [
              0.6666666666666666,
              "#ed7953"
             ],
             [
              0.7777777777777778,
              "#fb9f3a"
             ],
             [
              0.8888888888888888,
              "#fdca26"
             ],
             [
              1,
              "#f0f921"
             ]
            ],
            "type": "heatmapgl"
           }
          ],
          "histogram": [
           {
            "marker": {
             "colorbar": {
              "outlinewidth": 0,
              "ticks": ""
             }
            },
            "type": "histogram"
           }
          ],
          "histogram2d": [
           {
            "colorbar": {
             "outlinewidth": 0,
             "ticks": ""
            },
            "colorscale": [
             [
              0,
              "#0d0887"
             ],
             [
              0.1111111111111111,
              "#46039f"
             ],
             [
              0.2222222222222222,
              "#7201a8"
             ],
             [
              0.3333333333333333,
              "#9c179e"
             ],
             [
              0.4444444444444444,
              "#bd3786"
             ],
             [
              0.5555555555555556,
              "#d8576b"
             ],
             [
              0.6666666666666666,
              "#ed7953"
             ],
             [
              0.7777777777777778,
              "#fb9f3a"
             ],
             [
              0.8888888888888888,
              "#fdca26"
             ],
             [
              1,
              "#f0f921"
             ]
            ],
            "type": "histogram2d"
           }
          ],
          "histogram2dcontour": [
           {
            "colorbar": {
             "outlinewidth": 0,
             "ticks": ""
            },
            "colorscale": [
             [
              0,
              "#0d0887"
             ],
             [
              0.1111111111111111,
              "#46039f"
             ],
             [
              0.2222222222222222,
              "#7201a8"
             ],
             [
              0.3333333333333333,
              "#9c179e"
             ],
             [
              0.4444444444444444,
              "#bd3786"
             ],
             [
              0.5555555555555556,
              "#d8576b"
             ],
             [
              0.6666666666666666,
              "#ed7953"
             ],
             [
              0.7777777777777778,
              "#fb9f3a"
             ],
             [
              0.8888888888888888,
              "#fdca26"
             ],
             [
              1,
              "#f0f921"
             ]
            ],
            "type": "histogram2dcontour"
           }
          ],
          "mesh3d": [
           {
            "colorbar": {
             "outlinewidth": 0,
             "ticks": ""
            },
            "type": "mesh3d"
           }
          ],
          "parcoords": [
           {
            "line": {
             "colorbar": {
              "outlinewidth": 0,
              "ticks": ""
             }
            },
            "type": "parcoords"
           }
          ],
          "pie": [
           {
            "automargin": true,
            "type": "pie"
           }
          ],
          "scatter": [
           {
            "marker": {
             "colorbar": {
              "outlinewidth": 0,
              "ticks": ""
             }
            },
            "type": "scatter"
           }
          ],
          "scatter3d": [
           {
            "line": {
             "colorbar": {
              "outlinewidth": 0,
              "ticks": ""
             }
            },
            "marker": {
             "colorbar": {
              "outlinewidth": 0,
              "ticks": ""
             }
            },
            "type": "scatter3d"
           }
          ],
          "scattercarpet": [
           {
            "marker": {
             "colorbar": {
              "outlinewidth": 0,
              "ticks": ""
             }
            },
            "type": "scattercarpet"
           }
          ],
          "scattergeo": [
           {
            "marker": {
             "colorbar": {
              "outlinewidth": 0,
              "ticks": ""
             }
            },
            "type": "scattergeo"
           }
          ],
          "scattergl": [
           {
            "marker": {
             "colorbar": {
              "outlinewidth": 0,
              "ticks": ""
             }
            },
            "type": "scattergl"
           }
          ],
          "scattermapbox": [
           {
            "marker": {
             "colorbar": {
              "outlinewidth": 0,
              "ticks": ""
             }
            },
            "type": "scattermapbox"
           }
          ],
          "scatterpolar": [
           {
            "marker": {
             "colorbar": {
              "outlinewidth": 0,
              "ticks": ""
             }
            },
            "type": "scatterpolar"
           }
          ],
          "scatterpolargl": [
           {
            "marker": {
             "colorbar": {
              "outlinewidth": 0,
              "ticks": ""
             }
            },
            "type": "scatterpolargl"
           }
          ],
          "scatterternary": [
           {
            "marker": {
             "colorbar": {
              "outlinewidth": 0,
              "ticks": ""
             }
            },
            "type": "scatterternary"
           }
          ],
          "surface": [
           {
            "colorbar": {
             "outlinewidth": 0,
             "ticks": ""
            },
            "colorscale": [
             [
              0,
              "#0d0887"
             ],
             [
              0.1111111111111111,
              "#46039f"
             ],
             [
              0.2222222222222222,
              "#7201a8"
             ],
             [
              0.3333333333333333,
              "#9c179e"
             ],
             [
              0.4444444444444444,
              "#bd3786"
             ],
             [
              0.5555555555555556,
              "#d8576b"
             ],
             [
              0.6666666666666666,
              "#ed7953"
             ],
             [
              0.7777777777777778,
              "#fb9f3a"
             ],
             [
              0.8888888888888888,
              "#fdca26"
             ],
             [
              1,
              "#f0f921"
             ]
            ],
            "type": "surface"
           }
          ],
          "table": [
           {
            "cells": {
             "fill": {
              "color": "#EBF0F8"
             },
             "line": {
              "color": "white"
             }
            },
            "header": {
             "fill": {
              "color": "#C8D4E3"
             },
             "line": {
              "color": "white"
             }
            },
            "type": "table"
           }
          ]
         },
         "layout": {
          "annotationdefaults": {
           "arrowcolor": "#2a3f5f",
           "arrowhead": 0,
           "arrowwidth": 1
          },
          "coloraxis": {
           "colorbar": {
            "outlinewidth": 0,
            "ticks": ""
           }
          },
          "colorscale": {
           "diverging": [
            [
             0,
             "#8e0152"
            ],
            [
             0.1,
             "#c51b7d"
            ],
            [
             0.2,
             "#de77ae"
            ],
            [
             0.3,
             "#f1b6da"
            ],
            [
             0.4,
             "#fde0ef"
            ],
            [
             0.5,
             "#f7f7f7"
            ],
            [
             0.6,
             "#e6f5d0"
            ],
            [
             0.7,
             "#b8e186"
            ],
            [
             0.8,
             "#7fbc41"
            ],
            [
             0.9,
             "#4d9221"
            ],
            [
             1,
             "#276419"
            ]
           ],
           "sequential": [
            [
             0,
             "#0d0887"
            ],
            [
             0.1111111111111111,
             "#46039f"
            ],
            [
             0.2222222222222222,
             "#7201a8"
            ],
            [
             0.3333333333333333,
             "#9c179e"
            ],
            [
             0.4444444444444444,
             "#bd3786"
            ],
            [
             0.5555555555555556,
             "#d8576b"
            ],
            [
             0.6666666666666666,
             "#ed7953"
            ],
            [
             0.7777777777777778,
             "#fb9f3a"
            ],
            [
             0.8888888888888888,
             "#fdca26"
            ],
            [
             1,
             "#f0f921"
            ]
           ],
           "sequentialminus": [
            [
             0,
             "#0d0887"
            ],
            [
             0.1111111111111111,
             "#46039f"
            ],
            [
             0.2222222222222222,
             "#7201a8"
            ],
            [
             0.3333333333333333,
             "#9c179e"
            ],
            [
             0.4444444444444444,
             "#bd3786"
            ],
            [
             0.5555555555555556,
             "#d8576b"
            ],
            [
             0.6666666666666666,
             "#ed7953"
            ],
            [
             0.7777777777777778,
             "#fb9f3a"
            ],
            [
             0.8888888888888888,
             "#fdca26"
            ],
            [
             1,
             "#f0f921"
            ]
           ]
          },
          "colorway": [
           "#636efa",
           "#EF553B",
           "#00cc96",
           "#ab63fa",
           "#FFA15A",
           "#19d3f3",
           "#FF6692",
           "#B6E880",
           "#FF97FF",
           "#FECB52"
          ],
          "font": {
           "color": "#2a3f5f"
          },
          "geo": {
           "bgcolor": "white",
           "lakecolor": "white",
           "landcolor": "#E5ECF6",
           "showlakes": true,
           "showland": true,
           "subunitcolor": "white"
          },
          "hoverlabel": {
           "align": "left"
          },
          "hovermode": "closest",
          "mapbox": {
           "style": "light"
          },
          "paper_bgcolor": "white",
          "plot_bgcolor": "#E5ECF6",
          "polar": {
           "angularaxis": {
            "gridcolor": "white",
            "linecolor": "white",
            "ticks": ""
           },
           "bgcolor": "#E5ECF6",
           "radialaxis": {
            "gridcolor": "white",
            "linecolor": "white",
            "ticks": ""
           }
          },
          "scene": {
           "xaxis": {
            "backgroundcolor": "#E5ECF6",
            "gridcolor": "white",
            "gridwidth": 2,
            "linecolor": "white",
            "showbackground": true,
            "ticks": "",
            "zerolinecolor": "white"
           },
           "yaxis": {
            "backgroundcolor": "#E5ECF6",
            "gridcolor": "white",
            "gridwidth": 2,
            "linecolor": "white",
            "showbackground": true,
            "ticks": "",
            "zerolinecolor": "white"
           },
           "zaxis": {
            "backgroundcolor": "#E5ECF6",
            "gridcolor": "white",
            "gridwidth": 2,
            "linecolor": "white",
            "showbackground": true,
            "ticks": "",
            "zerolinecolor": "white"
           }
          },
          "shapedefaults": {
           "line": {
            "color": "#2a3f5f"
           }
          },
          "ternary": {
           "aaxis": {
            "gridcolor": "white",
            "linecolor": "white",
            "ticks": ""
           },
           "baxis": {
            "gridcolor": "white",
            "linecolor": "white",
            "ticks": ""
           },
           "bgcolor": "#E5ECF6",
           "caxis": {
            "gridcolor": "white",
            "linecolor": "white",
            "ticks": ""
           }
          },
          "title": {
           "x": 0.05
          },
          "xaxis": {
           "automargin": true,
           "gridcolor": "white",
           "linecolor": "white",
           "ticks": "",
           "title": {
            "standoff": 15
           },
           "zerolinecolor": "white",
           "zerolinewidth": 2
          },
          "yaxis": {
           "automargin": true,
           "gridcolor": "white",
           "linecolor": "white",
           "ticks": "",
           "title": {
            "standoff": 15
           },
           "zerolinecolor": "white",
           "zerolinewidth": 2
          }
         }
        },
        "xaxis": {
         "anchor": "y",
         "domain": [
          0,
          1
         ],
         "title": {
          "text": "location"
         }
        },
        "yaxis": {
         "anchor": "x",
         "domain": [
          0,
          1
         ],
         "title": {
          "text": "count"
         }
        }
       }
      },
      "text/html": [
       "<div>                            <div id=\"8f067249-eebe-4914-94bd-8e5f1c086b54\" class=\"plotly-graph-div\" style=\"height:525px; width:100%;\"></div>            <script type=\"text/javascript\">                require([\"plotly\"], function(Plotly) {                    window.PLOTLYENV=window.PLOTLYENV || {};                                    if (document.getElementById(\"8f067249-eebe-4914-94bd-8e5f1c086b54\")) {                    Plotly.newPlot(                        \"8f067249-eebe-4914-94bd-8e5f1c086b54\",                        [{\"alignmentgroup\": \"True\", \"hovertemplate\": \"location=%{x}<br>count=%{y}<extra></extra>\", \"legendgroup\": \"\", \"marker\": {\"color\": \"#636efa\"}, \"name\": \"\", \"offsetgroup\": \"\", \"orientation\": \"v\", \"showlegend\": false, \"textposition\": \"auto\", \"type\": \"bar\", \"x\": [\"Gainesville, FL\", \"Atlantic City-Hammonton, NJ\", \"Deltona-Daytona Beach-Ormond Beach, FL\", \"San Diego-Carlsbad, CA\", \"Cleveland-Elyria, OH\", \"Kingsport-Bristol-Bristol, TN-VA\", \"New Haven-Milford, CT\", \"Birmingham-Hoover, AL\", \"Corpus Christi, TX\", \"Dubuque, IA\", \"Las Vegas-Henderson-Paradise, NV\", \"Indianapolis-Carmel-Anderson, IN\", \"Seattle-Tacoma-Bellevue, WA\", \"Albany, OR\", \"Winston-Salem, NC\", \"Bakersfield, CA\", \"Los Angeles-Long Beach-Anaheim, CA\", \"Minneapolis-St. Paul-Bloomington, MN-WI\", \"San Francisco-Oakland-Hayward, CA\", \"Phoenix-Mesa-Scottsdale, AZ\", \"Allentown-Bethlehem-Easton, PA-NJ\", \"Miami-Fort Lauderdale-West Palm Beach, FL\", \"Selma, AL\", \"Dayton, OH\", \"San Jose-Sunnyvale-Santa Clara, CA\", \"Bridgeport-Stamford-Norwalk, CT\", \"Price, UT\", \"Providence-Warwick, RI-MA\", \"Columbus, GA-AL\", \"Greenville-Anderson-Mauldin, SC\", \"Logan, UT-ID\", \"Myrtle Beach-Conway-North Myrtle Beach, SC-NC\", null, \"Buffalo-Cheektowaga-Niagara Falls, NY\", \"Cookeville, TN\", \"New Philadelphia-Dover, OH\", \"Anchorage, AK\", \"New York-Newark-Jersey City, NY-NJ-PA\", \"St. Louis, MO-IL\", \"Jackson, MS\", \"Orlando-Kissimmee-Sanford, FL\", \"McAllen-Edinburg-Mission, TX\", \"Oxnard-Thousand Oaks-Ventura, CA\", \"Memphis, TN-MS-AR\", \"San Antonio-New Braunfels, TX\", \"Troy, AL\", \"Duluth, MN-WI\", \"Danville, VA\", \"Washington-Arlington-Alexandria, DC-VA-MD-WV\", \"Manchester-Nashua, NH\", \"Greensboro-High Point, NC\", \"Sterling, IL\", \"Napa, CA\", \"Monroe, LA\", \"Louisville/Jefferson County, KY-IN\", \"Syracuse, NY\", \"Little Rock-North Little Rock-Conway, AR\", \"Austin-Round Rock, TX\", \"Kansas City, MO-KS\", \"Cincinnati, OH-KY-IN\", \"Bozeman, MT\", \"Truckee-Grass Valley, CA\", \"Boston-Cambridge-Newton, MA-NH\", \"Philadelphia-Camden-Wilmington, PA-NJ-DE-MD\", \"Atlanta-Sandy Springs-Roswell, GA\", \"Pittsburgh, PA\", \"Chicago-Naperville-Elgin, IL-IN-WI\", \"Dallas-Fort Worth-Arlington, TX\", \"North Wilkesboro, NC\", \"Oklahoma City, OK\", \"Albany-Schenectady-Troy, NY\", \"Quincy, IL-MO\", \"Pontiac, IL\", \"Jacksonville, FL\", \"Fairbanks, AK\", \"Houston-The Woodlands-Sugar Land, TX\", \"Montgomery, AL\", \"Hartford-West Hartford-East Hartford, CT\", \"Port St. Lucie, FL\", \"Omaha-Council Bluffs, NE-IA\", \"Charlotte-Concord-Gastonia, NC-SC\", \"Baltimore-Columbia-Towson, MD\", \"Raleigh, NC\", \"Sacramento--Roseville--Arden-Arcade, CA\", \"Laurel, MS\", \"Lexington-Fayette, KY\", \"Tampa-St. Petersburg-Clearwater, FL\", \"London, KY\", \"Tallahassee, FL\", \"Roanoke, VA\", \"Virginia Beach-Norfolk-Newport News, VA-NC\", \"Riverside-San Bernardino-Ontario, CA\", \"Concord, NH\", \"Stockton-Lodi, CA\", \"Boulder, CO\", \"Milwaukee-Waukesha-West Allis, WI\", \"Detroit-Warren-Dearborn, MI\", \"Billings, MT\", \"Alexandria, LA\", \"Salinas, CA\", \"Ionia, MI\", \"Morgantown, WV\", \"Vineland-Bridgeton, NJ\", \"Jacksonville, NC\", \"Spokane-Spokane Valley, WA\", \"Scranton--Wilkes-Barre--Hazleton, PA\", \"Kankakee, IL\", \"Portland-Vancouver-Hillsboro, OR-WA\", \"Denver-Aurora-Lakewood, CO\", \"Flint, MI\", \"Santa Maria-Santa Barbara, CA\", \"Muncie, IN\", \"Colorado Springs, CO\", \"Wilson, NC\", \"Hagerstown-Martinsburg, MD-WV\"], \"xaxis\": \"x\", \"y\": [1229, 2176, 73, 754, 1392, 1863, 4007, 75, 11, 651, 2042, 970, 246, 23, 819, 1775, 30131, 2134, 2647, 4846, 815, 3764, 2027, 259, 1603, 893, 1102, 927, 2716, 668, 317, 837, 8346, 1402, 1672, 1781, 1496, 23684, 4858, 3839, 1498, 324, 916, 62, 4373, 630, 107, 4257, 3090, 2220, 1131, 1198, 1091, 216, 6880, 2677, 520, 1682, 2562, 88, 254, 2073, 13873, 5890, 4236, 2917, 5114, 7605, 1050, 1842, 457, 1003, 315, 818, 2067, 9499, 125, 1820, 117, 187, 7780, 2710, 899, 1796, 795, 2464, 2475, 998, 3216, 394, 246, 2404, 2544, 337, 872, 1342, 2332, 2132, 955, 1026, 4428, 2278, 4825, 2130, 3526, 6, 589, 119, 4453, 456, 218, 292, 2168, 4659, 982], \"yaxis\": \"y\"}],                        {\"barmode\": \"relative\", \"legend\": {\"tracegroupgap\": 0}, \"margin\": {\"t\": 60}, \"template\": {\"data\": {\"bar\": [{\"error_x\": {\"color\": \"#2a3f5f\"}, \"error_y\": {\"color\": \"#2a3f5f\"}, \"marker\": {\"line\": {\"color\": \"#E5ECF6\", \"width\": 0.5}}, \"type\": \"bar\"}], \"barpolar\": [{\"marker\": {\"line\": {\"color\": \"#E5ECF6\", \"width\": 0.5}}, \"type\": \"barpolar\"}], \"carpet\": [{\"aaxis\": {\"endlinecolor\": \"#2a3f5f\", \"gridcolor\": \"white\", \"linecolor\": \"white\", \"minorgridcolor\": \"white\", \"startlinecolor\": \"#2a3f5f\"}, \"baxis\": {\"endlinecolor\": \"#2a3f5f\", \"gridcolor\": \"white\", \"linecolor\": \"white\", \"minorgridcolor\": \"white\", \"startlinecolor\": \"#2a3f5f\"}, \"type\": \"carpet\"}], \"choropleth\": [{\"colorbar\": {\"outlinewidth\": 0, \"ticks\": \"\"}, \"type\": \"choropleth\"}], \"contour\": [{\"colorbar\": {\"outlinewidth\": 0, \"ticks\": \"\"}, \"colorscale\": [[0.0, \"#0d0887\"], [0.1111111111111111, \"#46039f\"], [0.2222222222222222, \"#7201a8\"], [0.3333333333333333, \"#9c179e\"], [0.4444444444444444, \"#bd3786\"], [0.5555555555555556, \"#d8576b\"], [0.6666666666666666, \"#ed7953\"], [0.7777777777777778, \"#fb9f3a\"], [0.8888888888888888, \"#fdca26\"], [1.0, \"#f0f921\"]], \"type\": \"contour\"}], \"contourcarpet\": [{\"colorbar\": {\"outlinewidth\": 0, \"ticks\": \"\"}, \"type\": \"contourcarpet\"}], \"heatmap\": [{\"colorbar\": {\"outlinewidth\": 0, \"ticks\": \"\"}, \"colorscale\": [[0.0, \"#0d0887\"], [0.1111111111111111, \"#46039f\"], [0.2222222222222222, \"#7201a8\"], [0.3333333333333333, \"#9c179e\"], [0.4444444444444444, \"#bd3786\"], [0.5555555555555556, \"#d8576b\"], [0.6666666666666666, \"#ed7953\"], [0.7777777777777778, \"#fb9f3a\"], [0.8888888888888888, \"#fdca26\"], [1.0, \"#f0f921\"]], \"type\": \"heatmap\"}], \"heatmapgl\": [{\"colorbar\": {\"outlinewidth\": 0, \"ticks\": \"\"}, \"colorscale\": [[0.0, \"#0d0887\"], [0.1111111111111111, \"#46039f\"], [0.2222222222222222, \"#7201a8\"], [0.3333333333333333, \"#9c179e\"], [0.4444444444444444, \"#bd3786\"], [0.5555555555555556, \"#d8576b\"], [0.6666666666666666, \"#ed7953\"], [0.7777777777777778, \"#fb9f3a\"], [0.8888888888888888, \"#fdca26\"], [1.0, \"#f0f921\"]], \"type\": \"heatmapgl\"}], \"histogram\": [{\"marker\": {\"colorbar\": {\"outlinewidth\": 0, \"ticks\": \"\"}}, \"type\": \"histogram\"}], \"histogram2d\": [{\"colorbar\": {\"outlinewidth\": 0, \"ticks\": \"\"}, \"colorscale\": [[0.0, \"#0d0887\"], [0.1111111111111111, \"#46039f\"], [0.2222222222222222, \"#7201a8\"], [0.3333333333333333, \"#9c179e\"], [0.4444444444444444, \"#bd3786\"], [0.5555555555555556, \"#d8576b\"], [0.6666666666666666, \"#ed7953\"], [0.7777777777777778, \"#fb9f3a\"], [0.8888888888888888, \"#fdca26\"], [1.0, \"#f0f921\"]], \"type\": \"histogram2d\"}], \"histogram2dcontour\": [{\"colorbar\": {\"outlinewidth\": 0, \"ticks\": \"\"}, \"colorscale\": [[0.0, \"#0d0887\"], [0.1111111111111111, \"#46039f\"], [0.2222222222222222, \"#7201a8\"], [0.3333333333333333, \"#9c179e\"], [0.4444444444444444, \"#bd3786\"], [0.5555555555555556, \"#d8576b\"], [0.6666666666666666, \"#ed7953\"], [0.7777777777777778, \"#fb9f3a\"], [0.8888888888888888, \"#fdca26\"], [1.0, \"#f0f921\"]], \"type\": \"histogram2dcontour\"}], \"mesh3d\": [{\"colorbar\": {\"outlinewidth\": 0, \"ticks\": \"\"}, \"type\": \"mesh3d\"}], \"parcoords\": [{\"line\": {\"colorbar\": {\"outlinewidth\": 0, \"ticks\": \"\"}}, \"type\": \"parcoords\"}], \"pie\": [{\"automargin\": true, \"type\": \"pie\"}], \"scatter\": [{\"marker\": {\"colorbar\": {\"outlinewidth\": 0, \"ticks\": \"\"}}, \"type\": \"scatter\"}], \"scatter3d\": [{\"line\": {\"colorbar\": {\"outlinewidth\": 0, \"ticks\": \"\"}}, \"marker\": {\"colorbar\": {\"outlinewidth\": 0, \"ticks\": \"\"}}, \"type\": \"scatter3d\"}], \"scattercarpet\": [{\"marker\": {\"colorbar\": {\"outlinewidth\": 0, \"ticks\": \"\"}}, \"type\": \"scattercarpet\"}], \"scattergeo\": [{\"marker\": {\"colorbar\": {\"outlinewidth\": 0, \"ticks\": \"\"}}, \"type\": \"scattergeo\"}], \"scattergl\": [{\"marker\": {\"colorbar\": {\"outlinewidth\": 0, \"ticks\": \"\"}}, \"type\": \"scattergl\"}], \"scattermapbox\": [{\"marker\": {\"colorbar\": {\"outlinewidth\": 0, \"ticks\": \"\"}}, \"type\": \"scattermapbox\"}], \"scatterpolar\": [{\"marker\": {\"colorbar\": {\"outlinewidth\": 0, \"ticks\": \"\"}}, \"type\": \"scatterpolar\"}], \"scatterpolargl\": [{\"marker\": {\"colorbar\": {\"outlinewidth\": 0, \"ticks\": \"\"}}, \"type\": \"scatterpolargl\"}], \"scatterternary\": [{\"marker\": {\"colorbar\": {\"outlinewidth\": 0, \"ticks\": \"\"}}, \"type\": \"scatterternary\"}], \"surface\": [{\"colorbar\": {\"outlinewidth\": 0, \"ticks\": \"\"}, \"colorscale\": [[0.0, \"#0d0887\"], [0.1111111111111111, \"#46039f\"], [0.2222222222222222, \"#7201a8\"], [0.3333333333333333, \"#9c179e\"], [0.4444444444444444, \"#bd3786\"], [0.5555555555555556, \"#d8576b\"], [0.6666666666666666, \"#ed7953\"], [0.7777777777777778, \"#fb9f3a\"], [0.8888888888888888, \"#fdca26\"], [1.0, \"#f0f921\"]], \"type\": \"surface\"}], \"table\": [{\"cells\": {\"fill\": {\"color\": \"#EBF0F8\"}, \"line\": {\"color\": \"white\"}}, \"header\": {\"fill\": {\"color\": \"#C8D4E3\"}, \"line\": {\"color\": \"white\"}}, \"type\": \"table\"}]}, \"layout\": {\"annotationdefaults\": {\"arrowcolor\": \"#2a3f5f\", \"arrowhead\": 0, \"arrowwidth\": 1}, \"coloraxis\": {\"colorbar\": {\"outlinewidth\": 0, \"ticks\": \"\"}}, \"colorscale\": {\"diverging\": [[0, \"#8e0152\"], [0.1, \"#c51b7d\"], [0.2, \"#de77ae\"], [0.3, \"#f1b6da\"], [0.4, \"#fde0ef\"], [0.5, \"#f7f7f7\"], [0.6, \"#e6f5d0\"], [0.7, \"#b8e186\"], [0.8, \"#7fbc41\"], [0.9, \"#4d9221\"], [1, \"#276419\"]], \"sequential\": [[0.0, \"#0d0887\"], [0.1111111111111111, \"#46039f\"], [0.2222222222222222, \"#7201a8\"], [0.3333333333333333, \"#9c179e\"], [0.4444444444444444, \"#bd3786\"], [0.5555555555555556, \"#d8576b\"], [0.6666666666666666, \"#ed7953\"], [0.7777777777777778, \"#fb9f3a\"], [0.8888888888888888, \"#fdca26\"], [1.0, \"#f0f921\"]], \"sequentialminus\": [[0.0, \"#0d0887\"], [0.1111111111111111, \"#46039f\"], [0.2222222222222222, \"#7201a8\"], [0.3333333333333333, \"#9c179e\"], [0.4444444444444444, \"#bd3786\"], [0.5555555555555556, \"#d8576b\"], [0.6666666666666666, \"#ed7953\"], [0.7777777777777778, \"#fb9f3a\"], [0.8888888888888888, \"#fdca26\"], [1.0, \"#f0f921\"]]}, \"colorway\": [\"#636efa\", \"#EF553B\", \"#00cc96\", \"#ab63fa\", \"#FFA15A\", \"#19d3f3\", \"#FF6692\", \"#B6E880\", \"#FF97FF\", \"#FECB52\"], \"font\": {\"color\": \"#2a3f5f\"}, \"geo\": {\"bgcolor\": \"white\", \"lakecolor\": \"white\", \"landcolor\": \"#E5ECF6\", \"showlakes\": true, \"showland\": true, \"subunitcolor\": \"white\"}, \"hoverlabel\": {\"align\": \"left\"}, \"hovermode\": \"closest\", \"mapbox\": {\"style\": \"light\"}, \"paper_bgcolor\": \"white\", \"plot_bgcolor\": \"#E5ECF6\", \"polar\": {\"angularaxis\": {\"gridcolor\": \"white\", \"linecolor\": \"white\", \"ticks\": \"\"}, \"bgcolor\": \"#E5ECF6\", \"radialaxis\": {\"gridcolor\": \"white\", \"linecolor\": \"white\", \"ticks\": \"\"}}, \"scene\": {\"xaxis\": {\"backgroundcolor\": \"#E5ECF6\", \"gridcolor\": \"white\", \"gridwidth\": 2, \"linecolor\": \"white\", \"showbackground\": true, \"ticks\": \"\", \"zerolinecolor\": \"white\"}, \"yaxis\": {\"backgroundcolor\": \"#E5ECF6\", \"gridcolor\": \"white\", \"gridwidth\": 2, \"linecolor\": \"white\", \"showbackground\": true, \"ticks\": \"\", \"zerolinecolor\": \"white\"}, \"zaxis\": {\"backgroundcolor\": \"#E5ECF6\", \"gridcolor\": \"white\", \"gridwidth\": 2, \"linecolor\": \"white\", \"showbackground\": true, \"ticks\": \"\", \"zerolinecolor\": \"white\"}}, \"shapedefaults\": {\"line\": {\"color\": \"#2a3f5f\"}}, \"ternary\": {\"aaxis\": {\"gridcolor\": \"white\", \"linecolor\": \"white\", \"ticks\": \"\"}, \"baxis\": {\"gridcolor\": \"white\", \"linecolor\": \"white\", \"ticks\": \"\"}, \"bgcolor\": \"#E5ECF6\", \"caxis\": {\"gridcolor\": \"white\", \"linecolor\": \"white\", \"ticks\": \"\"}}, \"title\": {\"x\": 0.05}, \"xaxis\": {\"automargin\": true, \"gridcolor\": \"white\", \"linecolor\": \"white\", \"ticks\": \"\", \"title\": {\"standoff\": 15}, \"zerolinecolor\": \"white\", \"zerolinewidth\": 2}, \"yaxis\": {\"automargin\": true, \"gridcolor\": \"white\", \"linecolor\": \"white\", \"ticks\": \"\", \"title\": {\"standoff\": 15}, \"zerolinecolor\": \"white\", \"zerolinewidth\": 2}}}, \"xaxis\": {\"anchor\": \"y\", \"domain\": [0.0, 1.0], \"title\": {\"text\": \"location\"}}, \"yaxis\": {\"anchor\": \"x\", \"domain\": [0.0, 1.0], \"title\": {\"text\": \"count\"}}},                        {\"responsive\": true}                    ).then(function(){\n",
       "                            \n",
       "var gd = document.getElementById('8f067249-eebe-4914-94bd-8e5f1c086b54');\n",
       "var x = new MutationObserver(function (mutations, observer) {{\n",
       "        var display = window.getComputedStyle(gd).display;\n",
       "        if (!display || display === 'none') {{\n",
       "            console.log([gd, 'removed!']);\n",
       "            Plotly.purge(gd);\n",
       "            observer.disconnect();\n",
       "        }}\n",
       "}});\n",
       "\n",
       "// Listen for the removal of the full notebook cells\n",
       "var notebookContainer = gd.closest('#notebook-container');\n",
       "if (notebookContainer) {{\n",
       "    x.observe(notebookContainer, {childList: true});\n",
       "}}\n",
       "\n",
       "// Listen for the clearing of the current output cell\n",
       "var outputEl = gd.closest('.output');\n",
       "if (outputEl) {{\n",
       "    x.observe(outputEl, {childList: true});\n",
       "}}\n",
       "\n",
       "                        })                };                });            </script>        </div>"
      ]
     },
     "metadata": {},
     "output_type": "display_data"
    }
   ],
   "source": [
    "fig = px.bar(plot, x='location', y='count')\n",
    "fig.show()"
   ]
  },
  {
   "cell_type": "code",
   "execution_count": 75,
   "metadata": {},
   "outputs": [
    {
     "name": "stdout",
     "output_type": "stream",
     "text": [
      "+-------+------+\n",
      "|churned| count|\n",
      "+-------+------+\n",
      "|      1|    52|\n",
      "|      0|286448|\n",
      "+-------+------+\n",
      "\n"
     ]
    }
   ],
   "source": [
    "df.groupBy('churned').count().show()"
   ]
  },
  {
   "cell_type": "markdown",
   "metadata": {},
   "source": [
    "# Feature Engineering\n",
    "Once you've familiarized yourself with the data, build out the features you find promising to train your model on. To work with the full dataset, you can follow the following steps.\n",
    "- Write a script to extract the necessary features from the smaller subset of data\n",
    "- Ensure that your script is scalable, using the best practices discussed in Lesson 3\n",
    "- Try your script on the full data set, debugging your script if necessary\n",
    "\n",
    "If you are working in the classroom workspace, you can just extract features based on the small subset of data contained here. Be sure to transfer over this work to the larger dataset when you work on your Spark cluster."
   ]
  },
  {
   "cell_type": "code",
   "execution_count": null,
   "metadata": {},
   "outputs": [],
   "source": []
  },
  {
   "cell_type": "markdown",
   "metadata": {},
   "source": [
    "# Modeling\n",
    "Split the full dataset into train, test, and validation sets. Test out several of the machine learning methods you learned. Evaluate the accuracy of the various models, tuning parameters as necessary. Determine your winning model based on test accuracy and report results on the validation set. Since the churned users are a fairly small subset, I suggest using F1 score as the metric to optimize."
   ]
  },
  {
   "cell_type": "code",
   "execution_count": null,
   "metadata": {},
   "outputs": [],
   "source": []
  },
  {
   "cell_type": "markdown",
   "metadata": {},
   "source": [
    "# Final Steps\n",
    "Clean up your code, adding comments and renaming variables to make the code easier to read and maintain. Refer to the Spark Project Overview page and Data Scientist Capstone Project Rubric to make sure you are including all components of the capstone project and meet all expectations. Remember, this includes thorough documentation in a README file in a Github repository, as well as a web app or blog post."
   ]
  },
  {
   "cell_type": "code",
   "execution_count": null,
   "metadata": {},
   "outputs": [],
   "source": []
  }
 ],
 "metadata": {
  "kernelspec": {
   "display_name": "Python 3",
   "language": "python",
   "name": "python3"
  },
  "language_info": {
   "codemirror_mode": {
    "name": "ipython",
    "version": 3
   },
   "file_extension": ".py",
   "mimetype": "text/x-python",
   "name": "python",
   "nbconvert_exporter": "python",
   "pygments_lexer": "ipython3",
   "version": "3.7.9"
  }
 },
 "nbformat": 4,
 "nbformat_minor": 2
}
